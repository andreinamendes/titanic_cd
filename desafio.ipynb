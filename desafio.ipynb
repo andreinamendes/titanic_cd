{
 "cells": [
  {
   "cell_type": "markdown",
   "metadata": {},
   "source": [
    "# Desafio Trilha de Ciência de Dados"
   ]
  },
  {
   "cell_type": "code",
   "execution_count": 266,
   "metadata": {},
   "outputs": [],
   "source": [
    "import pandas as pd\n",
    "import seaborn as sns\n",
    "from matplotlib import pyplot as plt\n",
    "import numpy as np"
   ]
  },
  {
   "cell_type": "code",
   "execution_count": 267,
   "metadata": {},
   "outputs": [
    {
     "data": {
      "text/html": [
       "<div>\n",
       "<style scoped>\n",
       "    .dataframe tbody tr th:only-of-type {\n",
       "        vertical-align: middle;\n",
       "    }\n",
       "\n",
       "    .dataframe tbody tr th {\n",
       "        vertical-align: top;\n",
       "    }\n",
       "\n",
       "    .dataframe thead th {\n",
       "        text-align: right;\n",
       "    }\n",
       "</style>\n",
       "<table border=\"1\" class=\"dataframe\">\n",
       "  <thead>\n",
       "    <tr style=\"text-align: right;\">\n",
       "      <th></th>\n",
       "      <th>sobreviveu</th>\n",
       "      <th>classe_bilhete</th>\n",
       "      <th>genero</th>\n",
       "      <th>idade</th>\n",
       "      <th>irmaos_conjuges_abordo</th>\n",
       "      <th>pais_filhos_abordo</th>\n",
       "      <th>numero_bilhete</th>\n",
       "      <th>preco_bilhete</th>\n",
       "      <th>cabine_numero</th>\n",
       "      <th>local_embarque</th>\n",
       "    </tr>\n",
       "    <tr>\n",
       "      <th>id_passageiro</th>\n",
       "      <th></th>\n",
       "      <th></th>\n",
       "      <th></th>\n",
       "      <th></th>\n",
       "      <th></th>\n",
       "      <th></th>\n",
       "      <th></th>\n",
       "      <th></th>\n",
       "      <th></th>\n",
       "      <th></th>\n",
       "    </tr>\n",
       "  </thead>\n",
       "  <tbody>\n",
       "    <tr>\n",
       "      <th>1</th>\n",
       "      <td>False</td>\n",
       "      <td>3</td>\n",
       "      <td>M</td>\n",
       "      <td>22.0</td>\n",
       "      <td>1</td>\n",
       "      <td>0</td>\n",
       "      <td>A/5 21171</td>\n",
       "      <td>7.2500</td>\n",
       "      <td>NaN</td>\n",
       "      <td>Southampton</td>\n",
       "    </tr>\n",
       "    <tr>\n",
       "      <th>2</th>\n",
       "      <td>True</td>\n",
       "      <td>1</td>\n",
       "      <td>F</td>\n",
       "      <td>38.0</td>\n",
       "      <td>1</td>\n",
       "      <td>0</td>\n",
       "      <td>PC 17599</td>\n",
       "      <td>71.2833</td>\n",
       "      <td>C85</td>\n",
       "      <td>Cherbourg</td>\n",
       "    </tr>\n",
       "    <tr>\n",
       "      <th>3</th>\n",
       "      <td>True</td>\n",
       "      <td>3</td>\n",
       "      <td>F</td>\n",
       "      <td>26.0</td>\n",
       "      <td>0</td>\n",
       "      <td>0</td>\n",
       "      <td>STON/O2. 3101282</td>\n",
       "      <td>7.9250</td>\n",
       "      <td>NaN</td>\n",
       "      <td>Southampton</td>\n",
       "    </tr>\n",
       "    <tr>\n",
       "      <th>4</th>\n",
       "      <td>True</td>\n",
       "      <td>1</td>\n",
       "      <td>F</td>\n",
       "      <td>35.0</td>\n",
       "      <td>1</td>\n",
       "      <td>0</td>\n",
       "      <td>113803</td>\n",
       "      <td>53.1000</td>\n",
       "      <td>C123</td>\n",
       "      <td>Southampton</td>\n",
       "    </tr>\n",
       "    <tr>\n",
       "      <th>5</th>\n",
       "      <td>False</td>\n",
       "      <td>3</td>\n",
       "      <td>M</td>\n",
       "      <td>35.0</td>\n",
       "      <td>0</td>\n",
       "      <td>0</td>\n",
       "      <td>373450</td>\n",
       "      <td>8.0500</td>\n",
       "      <td>NaN</td>\n",
       "      <td>Southampton</td>\n",
       "    </tr>\n",
       "  </tbody>\n",
       "</table>\n",
       "</div>"
      ],
      "text/plain": [
       "               sobreviveu  classe_bilhete genero  idade  \\\n",
       "id_passageiro                                             \n",
       "1                   False               3      M   22.0   \n",
       "2                    True               1      F   38.0   \n",
       "3                    True               3      F   26.0   \n",
       "4                    True               1      F   35.0   \n",
       "5                   False               3      M   35.0   \n",
       "\n",
       "               irmaos_conjuges_abordo  pais_filhos_abordo    numero_bilhete  \\\n",
       "id_passageiro                                                                 \n",
       "1                                   1                   0         A/5 21171   \n",
       "2                                   1                   0          PC 17599   \n",
       "3                                   0                   0  STON/O2. 3101282   \n",
       "4                                   1                   0            113803   \n",
       "5                                   0                   0            373450   \n",
       "\n",
       "               preco_bilhete cabine_numero local_embarque  \n",
       "id_passageiro                                              \n",
       "1                     7.2500           NaN    Southampton  \n",
       "2                    71.2833           C85      Cherbourg  \n",
       "3                     7.9250           NaN    Southampton  \n",
       "4                    53.1000          C123    Southampton  \n",
       "5                     8.0500           NaN    Southampton  "
      ]
     },
     "execution_count": 267,
     "metadata": {},
     "output_type": "execute_result"
    }
   ],
   "source": [
    "df = pd.read_csv(\"titanic.csv\").set_index(\"id_passageiro\")\n",
    "df.head()"
   ]
  },
  {
   "cell_type": "code",
   "execution_count": 268,
   "metadata": {},
   "outputs": [
    {
     "name": "stdout",
     "output_type": "stream",
     "text": [
      "<class 'pandas.core.frame.DataFrame'>\n",
      "Int64Index: 891 entries, 1 to 891\n",
      "Data columns (total 10 columns):\n",
      " #   Column                  Non-Null Count  Dtype  \n",
      "---  ------                  --------------  -----  \n",
      " 0   sobreviveu              891 non-null    bool   \n",
      " 1   classe_bilhete          891 non-null    int64  \n",
      " 2   genero                  891 non-null    object \n",
      " 3   idade                   714 non-null    float64\n",
      " 4   irmaos_conjuges_abordo  891 non-null    int64  \n",
      " 5   pais_filhos_abordo      891 non-null    int64  \n",
      " 6   numero_bilhete          891 non-null    object \n",
      " 7   preco_bilhete           891 non-null    float64\n",
      " 8   cabine_numero           204 non-null    object \n",
      " 9   local_embarque          889 non-null    object \n",
      "dtypes: bool(1), float64(2), int64(3), object(4)\n",
      "memory usage: 70.5+ KB\n"
     ]
    }
   ],
   "source": [
    "df.info()"
   ]
  },
  {
   "cell_type": "code",
   "execution_count": 269,
   "metadata": {},
   "outputs": [
    {
     "data": {
      "text/html": [
       "<div>\n",
       "<style scoped>\n",
       "    .dataframe tbody tr th:only-of-type {\n",
       "        vertical-align: middle;\n",
       "    }\n",
       "\n",
       "    .dataframe tbody tr th {\n",
       "        vertical-align: top;\n",
       "    }\n",
       "\n",
       "    .dataframe thead th {\n",
       "        text-align: right;\n",
       "    }\n",
       "</style>\n",
       "<table border=\"1\" class=\"dataframe\">\n",
       "  <thead>\n",
       "    <tr style=\"text-align: right;\">\n",
       "      <th></th>\n",
       "      <th>classe_bilhete</th>\n",
       "      <th>idade</th>\n",
       "      <th>irmaos_conjuges_abordo</th>\n",
       "      <th>pais_filhos_abordo</th>\n",
       "      <th>preco_bilhete</th>\n",
       "    </tr>\n",
       "  </thead>\n",
       "  <tbody>\n",
       "    <tr>\n",
       "      <th>count</th>\n",
       "      <td>891.000000</td>\n",
       "      <td>714.000000</td>\n",
       "      <td>891.000000</td>\n",
       "      <td>891.000000</td>\n",
       "      <td>891.000000</td>\n",
       "    </tr>\n",
       "    <tr>\n",
       "      <th>mean</th>\n",
       "      <td>2.308642</td>\n",
       "      <td>29.699118</td>\n",
       "      <td>0.523008</td>\n",
       "      <td>0.381594</td>\n",
       "      <td>32.204208</td>\n",
       "    </tr>\n",
       "    <tr>\n",
       "      <th>std</th>\n",
       "      <td>0.836071</td>\n",
       "      <td>14.526497</td>\n",
       "      <td>1.102743</td>\n",
       "      <td>0.806057</td>\n",
       "      <td>49.693429</td>\n",
       "    </tr>\n",
       "    <tr>\n",
       "      <th>min</th>\n",
       "      <td>1.000000</td>\n",
       "      <td>0.420000</td>\n",
       "      <td>0.000000</td>\n",
       "      <td>0.000000</td>\n",
       "      <td>0.000000</td>\n",
       "    </tr>\n",
       "    <tr>\n",
       "      <th>25%</th>\n",
       "      <td>2.000000</td>\n",
       "      <td>20.125000</td>\n",
       "      <td>0.000000</td>\n",
       "      <td>0.000000</td>\n",
       "      <td>7.910400</td>\n",
       "    </tr>\n",
       "    <tr>\n",
       "      <th>50%</th>\n",
       "      <td>3.000000</td>\n",
       "      <td>28.000000</td>\n",
       "      <td>0.000000</td>\n",
       "      <td>0.000000</td>\n",
       "      <td>14.454200</td>\n",
       "    </tr>\n",
       "    <tr>\n",
       "      <th>75%</th>\n",
       "      <td>3.000000</td>\n",
       "      <td>38.000000</td>\n",
       "      <td>1.000000</td>\n",
       "      <td>0.000000</td>\n",
       "      <td>31.000000</td>\n",
       "    </tr>\n",
       "    <tr>\n",
       "      <th>max</th>\n",
       "      <td>3.000000</td>\n",
       "      <td>80.000000</td>\n",
       "      <td>8.000000</td>\n",
       "      <td>6.000000</td>\n",
       "      <td>512.329200</td>\n",
       "    </tr>\n",
       "  </tbody>\n",
       "</table>\n",
       "</div>"
      ],
      "text/plain": [
       "       classe_bilhete       idade  irmaos_conjuges_abordo  pais_filhos_abordo  \\\n",
       "count      891.000000  714.000000              891.000000          891.000000   \n",
       "mean         2.308642   29.699118                0.523008            0.381594   \n",
       "std          0.836071   14.526497                1.102743            0.806057   \n",
       "min          1.000000    0.420000                0.000000            0.000000   \n",
       "25%          2.000000   20.125000                0.000000            0.000000   \n",
       "50%          3.000000   28.000000                0.000000            0.000000   \n",
       "75%          3.000000   38.000000                1.000000            0.000000   \n",
       "max          3.000000   80.000000                8.000000            6.000000   \n",
       "\n",
       "       preco_bilhete  \n",
       "count     891.000000  \n",
       "mean       32.204208  \n",
       "std        49.693429  \n",
       "min         0.000000  \n",
       "25%         7.910400  \n",
       "50%        14.454200  \n",
       "75%        31.000000  \n",
       "max       512.329200  "
      ]
     },
     "execution_count": 269,
     "metadata": {},
     "output_type": "execute_result"
    }
   ],
   "source": [
    "df.describe()"
   ]
  },
  {
   "cell_type": "markdown",
   "metadata": {},
   "source": [
    "## EDA"
   ]
  },
  {
   "cell_type": "markdown",
   "metadata": {},
   "source": [
    "###  Visualize e entenda todas as colunas numéricas."
   ]
  },
  {
   "cell_type": "code",
   "execution_count": 270,
   "metadata": {},
   "outputs": [],
   "source": [
    "numerical = [\n",
    "    \"idade\",\n",
    "    \"preco_bilhete\",\n",
    "    \"irmaos_conjuges_abordo\",\n",
    "    \"pais_filhos_abordo\",\n",
    "]"
   ]
  },
  {
   "cell_type": "markdown",
   "metadata": {},
   "source": [
    "#### Perguntas guias para as categorias numéricas:"
   ]
  },
  {
   "cell_type": "markdown",
   "metadata": {},
   "source": [
    "- Existem dados faltantes no seu conjunto?"
   ]
  },
  {
   "cell_type": "markdown",
   "metadata": {},
   "source": [
    "**Resposta:** Sim, como mostrado no código abaixo, a coluna idade tem um total de 177 dados faltantes."
   ]
  },
  {
   "cell_type": "code",
   "execution_count": 271,
   "metadata": {},
   "outputs": [
    {
     "data": {
      "text/html": [
       "<div>\n",
       "<style scoped>\n",
       "    .dataframe tbody tr th:only-of-type {\n",
       "        vertical-align: middle;\n",
       "    }\n",
       "\n",
       "    .dataframe tbody tr th {\n",
       "        vertical-align: top;\n",
       "    }\n",
       "\n",
       "    .dataframe thead th {\n",
       "        text-align: right;\n",
       "    }\n",
       "</style>\n",
       "<table border=\"1\" class=\"dataframe\">\n",
       "  <thead>\n",
       "    <tr style=\"text-align: right;\">\n",
       "      <th></th>\n",
       "      <th>Count</th>\n",
       "      <th>Column</th>\n",
       "      <th>Percent</th>\n",
       "    </tr>\n",
       "  </thead>\n",
       "  <tbody>\n",
       "    <tr>\n",
       "      <th>0</th>\n",
       "      <td>177</td>\n",
       "      <td>idade</td>\n",
       "      <td>19.86532</td>\n",
       "    </tr>\n",
       "  </tbody>\n",
       "</table>\n",
       "</div>"
      ],
      "text/plain": [
       "   Count Column   Percent\n",
       "0    177  idade  19.86532"
      ]
     },
     "execution_count": 271,
     "metadata": {},
     "output_type": "execute_result"
    }
   ],
   "source": [
    "# Coleta de dados faltantes para as colunas numéricas\n",
    "missing_data_size = df.loc[:,numerical].isna().sum()\n",
    "missing_data_columns = ((missing_data_size[missing_data_size > 0]).sort_values(ascending=False).to_frame(name='Count'))\n",
    "missing_data_columns = (missing_data_columns.assign(Column=missing_data_columns.index)).reset_index(drop=True)\n",
    "missing_data_columns['Percent'] = missing_data_columns['Count']/df.shape[0]*100\n",
    "missing_data_columns"
   ]
  },
  {
   "cell_type": "code",
   "execution_count": 272,
   "metadata": {},
   "outputs": [
    {
     "data": {
      "text/plain": [
       "<Axes: ylabel='id_passageiro'>"
      ]
     },
     "execution_count": 272,
     "metadata": {},
     "output_type": "execute_result"
    },
    {
     "data": {
      "image/png": "[encoded data removed]",
      "text/plain": [
       "<Figure size 640x480 with 1 Axes>"
      ]
     },
     "metadata": {},
     "output_type": "display_data"
    }
   ],
   "source": [
    "# Visualização dos dados faltantes para cada coluna numérica\n",
    "sns.heatmap(data=df[numerical].isna(), cbar=False, cmap=\"viridis\", yticklabels=False)"
   ]
  },
  {
   "cell_type": "markdown",
   "metadata": {},
   "source": [
    "- Quais as suas distribuições?"
   ]
  },
  {
   "cell_type": "markdown",
   "metadata": {},
   "source": [
    "**Resposta:** Abaixo temos a distribuição de cada coluna especificada como variável numérica no formato de um histograma. Podemos notar que a maioria das idades estão 20 e 40 anos de idade, assim como a maioria dos bilhetes tiveram seu preço menor que R$ 100,00. Podemos notar também que mais da metade dos passageiros levaram nenhum ou apenas um irmão ou cônjuge. Também ressalta-se que mais da metade dos passageiros levaram nenhum ou um pais/filhos."
   ]
  },
  {
   "cell_type": "code",
   "execution_count": 273,
   "metadata": {},
   "outputs": [
    {
     "data": {
      "image/png": "[encoded data removed]",
      "text/plain": [
       "<Figure size 1000x1000 with 2 Axes>"
      ]
     },
     "metadata": {},
     "output_type": "display_data"
    },
    {
     "data": {
      "image/png": "[encoded data removed]",
      "text/plain": [
       "<Figure size 1000x1000 with 2 Axes>"
      ]
     },
     "metadata": {},
     "output_type": "display_data"
    },
    {
     "data": {
      "image/png": "[encoded data removed]",
      "text/plain": [
       "<Figure size 1000x1000 with 2 Axes>"
      ]
     },
     "metadata": {},
     "output_type": "display_data"
    },
    {
     "data": {
      "image/png": "[encoded data removed]",
      "text/plain": [
       "<Figure size 1000x1000 with 2 Axes>"
      ]
     },
     "metadata": {},
     "output_type": "display_data"
    }
   ],
   "source": [
    "# Plotar o gráfico de distribuição de todas as colunas numéricas\n",
    "def plot_distribution_discret_variables(df, feature):\n",
    "  fig, axes = plt.subplots(2, 1, figsize=(10, 10), sharey=True)\n",
    "  fig.suptitle(f'{feature} distribution')\n",
    "  sns.histplot(ax=axes[0], x=f\"{feature}\", data=df, color=\"#00853B\", kde=True)\n",
    "  sns.scatterplot(ax=axes[1], data=df[feature], color=\"#00853B\")\n",
    "  plt.show()\n",
    "\n",
    "plot_distribution_discret_variables(df, 'idade')\n",
    "plot_distribution_discret_variables(df, 'preco_bilhete')\n",
    "plot_distribution_discret_variables(df, 'irmaos_conjuges_abordo')\n",
    "plot_distribution_discret_variables(df, 'pais_filhos_abordo')"
   ]
  },
  {
   "cell_type": "markdown",
   "metadata": {},
   "source": [
    "- Temos outliers neste subconjunto? (utilize a definição numérica de outliers apresentado na trilha para fazer essa verificação)"
   ]
  },
  {
   "cell_type": "markdown",
   "metadata": {},
   "source": [
    "**Resposta:** Sim, o resultado abaixo mostra a quantidade de dados faltantes para cada coluna analisada, podemos notar que todas tem uma quantidade de dados faltantes.\n",
    "O código abaixo utilizou o método utilizando z_score para identificar os outliers, definindo o threshold como 3 para limitar os valores aceitáveis de desvio padrão."
   ]
  },
  {
   "cell_type": "code",
   "execution_count": 274,
   "metadata": {},
   "outputs": [
    {
     "data": {
      "text/plain": [
       "66"
      ]
     },
     "execution_count": 274,
     "metadata": {},
     "output_type": "execute_result"
    }
   ],
   "source": [
    "# Coleta de outliers nas colunas numéricas\n",
    "def get_outliers(df):\n",
    "  outliers = []\n",
    "\n",
    "  for column in numerical:\n",
    "    data = dict(df[column].items())\n",
    "        \n",
    "    mean = np.mean(pd.Series(data.values()))\n",
    "    std = np.std(pd.Series(data.values()))\n",
    "    thresh = 3\n",
    "\n",
    "    # Para cada valor dentro da coluna especificada, calcula se está fora do limite do threshold, se sim, é uma anomalia.\n",
    "    for id, value in data.items():\n",
    "      z_score = (value - mean) / std\n",
    "\n",
    "      if abs(z_score) > thresh and id not in outliers:\n",
    "          outliers.append(id)\n",
    "\n",
    "  return outliers\n",
    "    \n",
    "outliers = get_outliers(df)\n",
    "len(outliers)"
   ]
  },
  {
   "cell_type": "code",
   "execution_count": 275,
   "metadata": {},
   "outputs": [
    {
     "data": {
      "image/png": "[encoded data removed]",
      "text/plain": [
       "<Figure size 1400x1400 with 4 Axes>"
      ]
     },
     "metadata": {},
     "output_type": "display_data"
    }
   ],
   "source": [
    "# Plotagem de outliers utilizando boxplot\n",
    "fig, axes = plt.subplots(4, 1, figsize=(14, 14), sharey=True)\n",
    "fig.suptitle(f'Outliers distribution')\n",
    "sns.boxplot(ax=axes[0], x=df['idade'], orient='h')\n",
    "sns.boxplot(ax=axes[1], x=df['preco_bilhete'], orient='h')\n",
    "sns.boxplot(ax=axes[2], x=df['irmaos_conjuges_abordo'], orient='h')\n",
    "sns.boxplot(ax=axes[3], x=df['pais_filhos_abordo'], orient='h')\n",
    "plt.show()"
   ]
  },
  {
   "cell_type": "markdown",
   "metadata": {},
   "source": [
    "- Existe alguma correlação entre essas variáveis numéricas? (não precisa olhar para outras categorias no momento)"
   ]
  },
  {
   "cell_type": "markdown",
   "metadata": {},
   "source": [
    "**Resposta:** Abaixo temos o heatmap de correlação entre as variáveis numéricas, a partir dele, podemos ver que as colunas irmaos_conjuges_abordo e pais_filhos_abordo tem um maior índice de correlação, o que mostra que possivelmente uma pessoa levar alguém da família pode causar ela levar outros. Assim como temos correlações negativas, entre as colunas idade, irmaos_conjuges_abordo e pais_filhos_abordo o que mostra que essas variáveis realmente tendem a não estarem relacionada de forma alguma."
   ]
  },
  {
   "cell_type": "code",
   "execution_count": 276,
   "metadata": {},
   "outputs": [
    {
     "data": {
      "text/plain": [
       "<Axes: >"
      ]
     },
     "execution_count": 276,
     "metadata": {},
     "output_type": "execute_result"
    },
    {
     "data": {
      "image/png": "[encoded data removed]",
      "text/plain": [
       "<Figure size 640x480 with 2 Axes>"
      ]
     },
     "metadata": {},
     "output_type": "display_data"
    }
   ],
   "source": [
    "correlation = df[numerical].corr()\n",
    "sns.heatmap(correlation, annot=True, fmt=\".1f\", linewidths=.6)"
   ]
  },
  {
   "cell_type": "markdown",
   "metadata": {},
   "source": [
    "###  Visualize e entenda todas as colunas categóricas."
   ]
  },
  {
   "cell_type": "code",
   "execution_count": 277,
   "metadata": {},
   "outputs": [],
   "source": [
    "categorical = [\n",
    "    \"classe_bilhete\",\n",
    "    \"genero\",\n",
    "    \"numero_bilhete\",\n",
    "    \"cabine_numero\",\n",
    "    \"local_embarque\",\n",
    "    \"sobreviveu\",\n",
    "]"
   ]
  },
  {
   "cell_type": "markdown",
   "metadata": {},
   "source": [
    "https://seaborn.pydata.org/tutorial/categorical.html"
   ]
  },
  {
   "cell_type": "markdown",
   "metadata": {},
   "source": [
    "#### Perguntas guias para as categorias categóricas:"
   ]
  },
  {
   "cell_type": "markdown",
   "metadata": {},
   "source": [
    "- Existem dados faltantes no seu conjunto?"
   ]
  },
  {
   "cell_type": "markdown",
   "metadata": {},
   "source": [
    "**Resposta:** Sim, há dados faltantes, abaixo temos o código no qual realiza a busca de dados faltantes."
   ]
  },
  {
   "cell_type": "code",
   "execution_count": 278,
   "metadata": {},
   "outputs": [
    {
     "data": {
      "text/html": [
       "<div>\n",
       "<style scoped>\n",
       "    .dataframe tbody tr th:only-of-type {\n",
       "        vertical-align: middle;\n",
       "    }\n",
       "\n",
       "    .dataframe tbody tr th {\n",
       "        vertical-align: top;\n",
       "    }\n",
       "\n",
       "    .dataframe thead th {\n",
       "        text-align: right;\n",
       "    }\n",
       "</style>\n",
       "<table border=\"1\" class=\"dataframe\">\n",
       "  <thead>\n",
       "    <tr style=\"text-align: right;\">\n",
       "      <th></th>\n",
       "      <th>Count</th>\n",
       "      <th>Column</th>\n",
       "      <th>Percent</th>\n",
       "    </tr>\n",
       "  </thead>\n",
       "  <tbody>\n",
       "    <tr>\n",
       "      <th>0</th>\n",
       "      <td>687</td>\n",
       "      <td>cabine_numero</td>\n",
       "      <td>77.104377</td>\n",
       "    </tr>\n",
       "    <tr>\n",
       "      <th>1</th>\n",
       "      <td>2</td>\n",
       "      <td>local_embarque</td>\n",
       "      <td>0.224467</td>\n",
       "    </tr>\n",
       "  </tbody>\n",
       "</table>\n",
       "</div>"
      ],
      "text/plain": [
       "   Count          Column    Percent\n",
       "0    687   cabine_numero  77.104377\n",
       "1      2  local_embarque   0.224467"
      ]
     },
     "execution_count": 278,
     "metadata": {},
     "output_type": "execute_result"
    }
   ],
   "source": [
    "# Coleta de dados faltantes para as colunas numéricas\n",
    "missing_data_size = df.loc[:,categorical].isna().sum()\n",
    "missing_data_columns = ((missing_data_size[missing_data_size > 0]).sort_values(ascending=False).to_frame(name='Count'))\n",
    "missing_data_columns = (missing_data_columns.assign(Column=missing_data_columns.index)).reset_index(drop=True)\n",
    "missing_data_columns['Percent'] = missing_data_columns['Count']/df.shape[0]*100\n",
    "missing_data_columns"
   ]
  },
  {
   "cell_type": "code",
   "execution_count": 279,
   "metadata": {},
   "outputs": [
    {
     "data": {
      "text/plain": [
       "<Axes: ylabel='id_passageiro'>"
      ]
     },
     "execution_count": 279,
     "metadata": {},
     "output_type": "execute_result"
    },
    {
     "data": {
      "image/png": "[encoded data removed]",
      "text/plain": [
       "<Figure size 640x480 with 1 Axes>"
      ]
     },
     "metadata": {},
     "output_type": "display_data"
    }
   ],
   "source": [
    "# Visualização dos dados faltantes para cada coluna numérica\n",
    "sns.heatmap(data=df[categorical].isna(), cbar=False)"
   ]
  },
  {
   "cell_type": "markdown",
   "metadata": {},
   "source": [
    "- Conseguimos extrair alguma informação nas colunas `numero_bilhete` e `cabine_numero`? ([Dica](https://pt.wikipedia.org/wiki/Instala%C3%A7%C3%B5es_da_primeira_classe_do_RMS_Titanic))"
   ]
  },
  {
   "cell_type": "markdown",
   "metadata": {},
   "source": [
    "**Resposta:** A coluna cabine_número, é formada por uma letra, pertencente ao grupo de letras que representam os conveses do navio, seguida por uma sequencia de números, que juntos representam a informação de identificação da cabine."
   ]
  },
  {
   "cell_type": "code",
   "execution_count": 280,
   "metadata": {},
   "outputs": [
    {
     "data": {
      "text/html": [
       "<div>\n",
       "<style scoped>\n",
       "    .dataframe tbody tr th:only-of-type {\n",
       "        vertical-align: middle;\n",
       "    }\n",
       "\n",
       "    .dataframe tbody tr th {\n",
       "        vertical-align: top;\n",
       "    }\n",
       "\n",
       "    .dataframe thead th {\n",
       "        text-align: right;\n",
       "    }\n",
       "</style>\n",
       "<table border=\"1\" class=\"dataframe\">\n",
       "  <thead>\n",
       "    <tr style=\"text-align: right;\">\n",
       "      <th></th>\n",
       "      <th>sobreviveu</th>\n",
       "      <th>classe_bilhete</th>\n",
       "      <th>genero</th>\n",
       "      <th>idade</th>\n",
       "      <th>irmaos_conjuges_abordo</th>\n",
       "      <th>pais_filhos_abordo</th>\n",
       "      <th>numero_bilhete</th>\n",
       "      <th>preco_bilhete</th>\n",
       "      <th>cabine_numero</th>\n",
       "      <th>local_embarque</th>\n",
       "    </tr>\n",
       "    <tr>\n",
       "      <th>id_passageiro</th>\n",
       "      <th></th>\n",
       "      <th></th>\n",
       "      <th></th>\n",
       "      <th></th>\n",
       "      <th></th>\n",
       "      <th></th>\n",
       "      <th></th>\n",
       "      <th></th>\n",
       "      <th></th>\n",
       "      <th></th>\n",
       "    </tr>\n",
       "  </thead>\n",
       "  <tbody>\n",
       "    <tr>\n",
       "      <th>2</th>\n",
       "      <td>True</td>\n",
       "      <td>1</td>\n",
       "      <td>F</td>\n",
       "      <td>38.0</td>\n",
       "      <td>1</td>\n",
       "      <td>0</td>\n",
       "      <td>PC 17599</td>\n",
       "      <td>71.2833</td>\n",
       "      <td>C85</td>\n",
       "      <td>Cherbourg</td>\n",
       "    </tr>\n",
       "    <tr>\n",
       "      <th>4</th>\n",
       "      <td>True</td>\n",
       "      <td>1</td>\n",
       "      <td>F</td>\n",
       "      <td>35.0</td>\n",
       "      <td>1</td>\n",
       "      <td>0</td>\n",
       "      <td>113803</td>\n",
       "      <td>53.1000</td>\n",
       "      <td>C123</td>\n",
       "      <td>Southampton</td>\n",
       "    </tr>\n",
       "    <tr>\n",
       "      <th>7</th>\n",
       "      <td>False</td>\n",
       "      <td>1</td>\n",
       "      <td>M</td>\n",
       "      <td>54.0</td>\n",
       "      <td>0</td>\n",
       "      <td>0</td>\n",
       "      <td>17463</td>\n",
       "      <td>51.8625</td>\n",
       "      <td>E46</td>\n",
       "      <td>Southampton</td>\n",
       "    </tr>\n",
       "    <tr>\n",
       "      <th>11</th>\n",
       "      <td>True</td>\n",
       "      <td>3</td>\n",
       "      <td>F</td>\n",
       "      <td>4.0</td>\n",
       "      <td>1</td>\n",
       "      <td>1</td>\n",
       "      <td>PP 9549</td>\n",
       "      <td>16.7000</td>\n",
       "      <td>G6</td>\n",
       "      <td>Southampton</td>\n",
       "    </tr>\n",
       "    <tr>\n",
       "      <th>12</th>\n",
       "      <td>True</td>\n",
       "      <td>1</td>\n",
       "      <td>F</td>\n",
       "      <td>58.0</td>\n",
       "      <td>0</td>\n",
       "      <td>0</td>\n",
       "      <td>113783</td>\n",
       "      <td>26.5500</td>\n",
       "      <td>C103</td>\n",
       "      <td>Southampton</td>\n",
       "    </tr>\n",
       "  </tbody>\n",
       "</table>\n",
       "</div>"
      ],
      "text/plain": [
       "               sobreviveu  classe_bilhete genero  idade  \\\n",
       "id_passageiro                                             \n",
       "2                    True               1      F   38.0   \n",
       "4                    True               1      F   35.0   \n",
       "7                   False               1      M   54.0   \n",
       "11                   True               3      F    4.0   \n",
       "12                   True               1      F   58.0   \n",
       "\n",
       "               irmaos_conjuges_abordo  pais_filhos_abordo numero_bilhete  \\\n",
       "id_passageiro                                                              \n",
       "2                                   1                   0       PC 17599   \n",
       "4                                   1                   0         113803   \n",
       "7                                   0                   0          17463   \n",
       "11                                  1                   1        PP 9549   \n",
       "12                                  0                   0         113783   \n",
       "\n",
       "               preco_bilhete cabine_numero local_embarque  \n",
       "id_passageiro                                              \n",
       "2                    71.2833           C85      Cherbourg  \n",
       "4                    53.1000          C123    Southampton  \n",
       "7                    51.8625           E46    Southampton  \n",
       "11                   16.7000            G6    Southampton  \n",
       "12                   26.5500          C103    Southampton  "
      ]
     },
     "execution_count": 280,
     "metadata": {},
     "output_type": "execute_result"
    }
   ],
   "source": [
    "# Conjunto de dados da coluna cabine_numero\n",
    "df[df['cabine_numero'].isna() == False].head()"
   ]
  },
  {
   "cell_type": "code",
   "execution_count": 281,
   "metadata": {},
   "outputs": [
    {
     "data": {
      "text/plain": [
       "id_passageiro\n",
       "1           A/5 21171\n",
       "2            PC 17599\n",
       "3    STON/O2. 3101282\n",
       "4              113803\n",
       "5              373450\n",
       "Name: numero_bilhete, dtype: object"
      ]
     },
     "execution_count": 281,
     "metadata": {},
     "output_type": "execute_result"
    }
   ],
   "source": [
    "# Conjunto de dados da coluna numero_bilhete\n",
    "df[\"numero_bilhete\"].head()"
   ]
  },
  {
   "cell_type": "markdown",
   "metadata": {},
   "source": [
    "- Existe alguma casualidade ou correlação entre as categorias?"
   ]
  },
  {
   "cell_type": "markdown",
   "metadata": {},
   "source": [
    "**Resposta:** Sim, podemos notar que a correlação mais importante é a entre as colunas sobreviveu e genero, mostrando que uma porcentagem dos sobreviventes está associada a um genero específico."
   ]
  },
  {
   "cell_type": "code",
   "execution_count": 282,
   "metadata": {},
   "outputs": [
    {
     "data": {
      "text/html": [
       "<div>\n",
       "<style scoped>\n",
       "    .dataframe tbody tr th:only-of-type {\n",
       "        vertical-align: middle;\n",
       "    }\n",
       "\n",
       "    .dataframe tbody tr th {\n",
       "        vertical-align: top;\n",
       "    }\n",
       "\n",
       "    .dataframe thead th {\n",
       "        text-align: right;\n",
       "    }\n",
       "</style>\n",
       "<table border=\"1\" class=\"dataframe\">\n",
       "  <thead>\n",
       "    <tr style=\"text-align: right;\">\n",
       "      <th></th>\n",
       "      <th>classe_bilhete</th>\n",
       "      <th>genero</th>\n",
       "      <th>numero_bilhete</th>\n",
       "      <th>cabine_numero</th>\n",
       "      <th>local_embarque</th>\n",
       "      <th>sobreviveu</th>\n",
       "    </tr>\n",
       "    <tr>\n",
       "      <th>id_passageiro</th>\n",
       "      <th></th>\n",
       "      <th></th>\n",
       "      <th></th>\n",
       "      <th></th>\n",
       "      <th></th>\n",
       "      <th></th>\n",
       "    </tr>\n",
       "  </thead>\n",
       "  <tbody>\n",
       "    <tr>\n",
       "      <th>1</th>\n",
       "      <td>3</td>\n",
       "      <td>M</td>\n",
       "      <td>A/5 21171</td>\n",
       "      <td>NaN</td>\n",
       "      <td>Southampton</td>\n",
       "      <td>False</td>\n",
       "    </tr>\n",
       "    <tr>\n",
       "      <th>2</th>\n",
       "      <td>1</td>\n",
       "      <td>F</td>\n",
       "      <td>PC 17599</td>\n",
       "      <td>C85</td>\n",
       "      <td>Cherbourg</td>\n",
       "      <td>True</td>\n",
       "    </tr>\n",
       "    <tr>\n",
       "      <th>3</th>\n",
       "      <td>3</td>\n",
       "      <td>F</td>\n",
       "      <td>STON/O2. 3101282</td>\n",
       "      <td>NaN</td>\n",
       "      <td>Southampton</td>\n",
       "      <td>True</td>\n",
       "    </tr>\n",
       "    <tr>\n",
       "      <th>4</th>\n",
       "      <td>1</td>\n",
       "      <td>F</td>\n",
       "      <td>113803</td>\n",
       "      <td>C123</td>\n",
       "      <td>Southampton</td>\n",
       "      <td>True</td>\n",
       "    </tr>\n",
       "    <tr>\n",
       "      <th>5</th>\n",
       "      <td>3</td>\n",
       "      <td>M</td>\n",
       "      <td>373450</td>\n",
       "      <td>NaN</td>\n",
       "      <td>Southampton</td>\n",
       "      <td>False</td>\n",
       "    </tr>\n",
       "  </tbody>\n",
       "</table>\n",
       "</div>"
      ],
      "text/plain": [
       "               classe_bilhete genero    numero_bilhete cabine_numero  \\\n",
       "id_passageiro                                                          \n",
       "1                           3      M         A/5 21171           NaN   \n",
       "2                           1      F          PC 17599           C85   \n",
       "3                           3      F  STON/O2. 3101282           NaN   \n",
       "4                           1      F            113803          C123   \n",
       "5                           3      M            373450           NaN   \n",
       "\n",
       "              local_embarque  sobreviveu  \n",
       "id_passageiro                             \n",
       "1                Southampton       False  \n",
       "2                  Cherbourg        True  \n",
       "3                Southampton        True  \n",
       "4                Southampton        True  \n",
       "5                Southampton       False  "
      ]
     },
     "execution_count": 282,
     "metadata": {},
     "output_type": "execute_result"
    }
   ],
   "source": [
    "# Criação de um dataframe auxiliar para manipular os dados e coletar a correlação entre as variáveis categóricas\n",
    "df_categorical = df[categorical]\n",
    "df_categorical.head()"
   ]
  },
  {
   "cell_type": "code",
   "execution_count": 283,
   "metadata": {},
   "outputs": [
    {
     "name": "stderr",
     "output_type": "stream",
     "text": [
      "C:\\Users\\andreina_mendes\\AppData\\Local\\Temp\\ipykernel_14532\\3932584103.py:2: SettingWithCopyWarning: \n",
      "A value is trying to be set on a copy of a slice from a DataFrame.\n",
      "Try using .loc[row_indexer,col_indexer] = value instead\n",
      "\n",
      "See the caveats in the documentation: https://pandas.pydata.org/pandas-docs/stable/user_guide/indexing.html#returning-a-view-versus-a-copy\n",
      "  df_categorical['sobreviveu'] = df_categorical['sobreviveu'].replace([False, True], [0, 1])\n"
     ]
    },
    {
     "data": {
      "text/plain": [
       "id_passageiro\n",
       "1    0\n",
       "2    1\n",
       "3    1\n",
       "4    1\n",
       "5    0\n",
       "Name: sobreviveu, dtype: int64"
      ]
     },
     "execution_count": 283,
     "metadata": {},
     "output_type": "execute_result"
    }
   ],
   "source": [
    "# Codificação dos dados da coluna sobreviveu\n",
    "df_categorical['sobreviveu'] = df_categorical['sobreviveu'].replace([False, True], [0, 1])\n",
    "df_categorical['sobreviveu'].head()"
   ]
  },
  {
   "cell_type": "code",
   "execution_count": 284,
   "metadata": {},
   "outputs": [
    {
     "name": "stderr",
     "output_type": "stream",
     "text": [
      "C:\\Users\\andreina_mendes\\AppData\\Local\\Temp\\ipykernel_14532\\2479989861.py:2: SettingWithCopyWarning: \n",
      "A value is trying to be set on a copy of a slice from a DataFrame.\n",
      "Try using .loc[row_indexer,col_indexer] = value instead\n",
      "\n",
      "See the caveats in the documentation: https://pandas.pydata.org/pandas-docs/stable/user_guide/indexing.html#returning-a-view-versus-a-copy\n",
      "  df_categorical['genero'] = df_categorical['genero'].replace(['M', 'F'], [0, 1])\n"
     ]
    },
    {
     "data": {
      "text/plain": [
       "id_passageiro\n",
       "1    0\n",
       "2    1\n",
       "3    1\n",
       "4    1\n",
       "5    0\n",
       "Name: genero, dtype: int64"
      ]
     },
     "execution_count": 284,
     "metadata": {},
     "output_type": "execute_result"
    }
   ],
   "source": [
    "# Codificação dos dados da coluna genero\n",
    "df_categorical['genero'] = df_categorical['genero'].replace(['M', 'F'], [0, 1])\n",
    "df_categorical['genero'].head()"
   ]
  },
  {
   "cell_type": "code",
   "execution_count": 285,
   "metadata": {},
   "outputs": [
    {
     "data": {
      "text/plain": [
       "array(['Southampton', 'Cherbourg', 'Queenstown', nan], dtype=object)"
      ]
     },
     "execution_count": 285,
     "metadata": {},
     "output_type": "execute_result"
    }
   ],
   "source": [
    "# Verificação dos locais de embarque existentes\n",
    "df_categorical['local_embarque'].unique()"
   ]
  },
  {
   "cell_type": "code",
   "execution_count": 286,
   "metadata": {},
   "outputs": [
    {
     "name": "stderr",
     "output_type": "stream",
     "text": [
      "C:\\Users\\andreina_mendes\\AppData\\Local\\Temp\\ipykernel_14532\\3005172984.py:2: SettingWithCopyWarning: \n",
      "A value is trying to be set on a copy of a slice from a DataFrame.\n",
      "Try using .loc[row_indexer,col_indexer] = value instead\n",
      "\n",
      "See the caveats in the documentation: https://pandas.pydata.org/pandas-docs/stable/user_guide/indexing.html#returning-a-view-versus-a-copy\n",
      "  df_categorical['local_embarque'] = df_categorical['local_embarque'].replace(['Southampton', 'Cherbourg', 'Queenstown'], [1, 2, 3])\n"
     ]
    },
    {
     "data": {
      "text/plain": [
       "id_passageiro\n",
       "1    1.0\n",
       "2    2.0\n",
       "3    1.0\n",
       "4    1.0\n",
       "5    1.0\n",
       "Name: local_embarque, dtype: float64"
      ]
     },
     "execution_count": 286,
     "metadata": {},
     "output_type": "execute_result"
    }
   ],
   "source": [
    "# Codificação dos dados da coluna local_embarque\n",
    "df_categorical['local_embarque'] = df_categorical['local_embarque'].replace(['Southampton', 'Cherbourg', 'Queenstown'], [1, 2, 3])\n",
    "df_categorical['local_embarque'].head()"
   ]
  },
  {
   "cell_type": "code",
   "execution_count": 287,
   "metadata": {},
   "outputs": [
    {
     "data": {
      "text/plain": [
       "id_passageiro\n",
       "1       NaN\n",
       "2       C85\n",
       "3       NaN\n",
       "4      C123\n",
       "5       NaN\n",
       "       ... \n",
       "887     NaN\n",
       "888     B42\n",
       "889     NaN\n",
       "890    C148\n",
       "891     NaN\n",
       "Name: cabine_numero, Length: 891, dtype: object"
      ]
     },
     "execution_count": 287,
     "metadata": {},
     "output_type": "execute_result"
    }
   ],
   "source": [
    "# Remoção das colunas numero_bilhete e cabine_numero\n",
    "df_categorical.pop('numero_bilhete')\n",
    "df_categorical.pop('cabine_numero')"
   ]
  },
  {
   "cell_type": "code",
   "execution_count": 288,
   "metadata": {},
   "outputs": [
    {
     "data": {
      "text/html": [
       "<div>\n",
       "<style scoped>\n",
       "    .dataframe tbody tr th:only-of-type {\n",
       "        vertical-align: middle;\n",
       "    }\n",
       "\n",
       "    .dataframe tbody tr th {\n",
       "        vertical-align: top;\n",
       "    }\n",
       "\n",
       "    .dataframe thead th {\n",
       "        text-align: right;\n",
       "    }\n",
       "</style>\n",
       "<table border=\"1\" class=\"dataframe\">\n",
       "  <thead>\n",
       "    <tr style=\"text-align: right;\">\n",
       "      <th></th>\n",
       "      <th>classe_bilhete</th>\n",
       "      <th>genero</th>\n",
       "      <th>local_embarque</th>\n",
       "      <th>sobreviveu</th>\n",
       "    </tr>\n",
       "    <tr>\n",
       "      <th>id_passageiro</th>\n",
       "      <th></th>\n",
       "      <th></th>\n",
       "      <th></th>\n",
       "      <th></th>\n",
       "    </tr>\n",
       "  </thead>\n",
       "  <tbody>\n",
       "    <tr>\n",
       "      <th>1</th>\n",
       "      <td>3</td>\n",
       "      <td>0</td>\n",
       "      <td>1.0</td>\n",
       "      <td>0</td>\n",
       "    </tr>\n",
       "    <tr>\n",
       "      <th>2</th>\n",
       "      <td>1</td>\n",
       "      <td>1</td>\n",
       "      <td>2.0</td>\n",
       "      <td>1</td>\n",
       "    </tr>\n",
       "    <tr>\n",
       "      <th>3</th>\n",
       "      <td>3</td>\n",
       "      <td>1</td>\n",
       "      <td>1.0</td>\n",
       "      <td>1</td>\n",
       "    </tr>\n",
       "    <tr>\n",
       "      <th>4</th>\n",
       "      <td>1</td>\n",
       "      <td>1</td>\n",
       "      <td>1.0</td>\n",
       "      <td>1</td>\n",
       "    </tr>\n",
       "    <tr>\n",
       "      <th>5</th>\n",
       "      <td>3</td>\n",
       "      <td>0</td>\n",
       "      <td>1.0</td>\n",
       "      <td>0</td>\n",
       "    </tr>\n",
       "  </tbody>\n",
       "</table>\n",
       "</div>"
      ],
      "text/plain": [
       "               classe_bilhete  genero  local_embarque  sobreviveu\n",
       "id_passageiro                                                    \n",
       "1                           3       0             1.0           0\n",
       "2                           1       1             2.0           1\n",
       "3                           3       1             1.0           1\n",
       "4                           1       1             1.0           1\n",
       "5                           3       0             1.0           0"
      ]
     },
     "execution_count": 288,
     "metadata": {},
     "output_type": "execute_result"
    }
   ],
   "source": [
    "# Dataframe resultante\n",
    "df_categorical.head()"
   ]
  },
  {
   "cell_type": "code",
   "execution_count": 289,
   "metadata": {},
   "outputs": [
    {
     "data": {
      "text/plain": [
       "<Axes: >"
      ]
     },
     "execution_count": 289,
     "metadata": {},
     "output_type": "execute_result"
    },
    {
     "data": {
      "image/png": "[encoded data removed]",
      "text/plain": [
       "<Figure size 640x480 with 2 Axes>"
      ]
     },
     "metadata": {},
     "output_type": "display_data"
    }
   ],
   "source": [
    "# Cálculo e plotagem da correlação entre as variáveis categóricas\n",
    "sns.heatmap(df_categorical.corr(), annot=True, fmt=\".1f\", linewidths=.6)"
   ]
  },
  {
   "cell_type": "markdown",
   "metadata": {},
   "source": [
    "- Existe alguma relação entre a `classe_bilhete` e o `cabine_numero`?"
   ]
  },
  {
   "cell_type": "markdown",
   "metadata": {},
   "source": [
    "**Resposta:** Sim, pois a distribuição de passagerios dentro do navio estava associada a classe do bilhete comprado, cada cabine é referenciada utilizando o convés, que é determinado inicialmente pela classe, juntamente com um número para diferenciar cada cabine dentro de um mesmo convés, logo, dependendo da classe em que o passageiro esteja essa letra associada ao convés, irá ser diferente, por exemplo, um passageiro de 1º classe irá ter seu número de cabine iniciando com a letra pertencente a algum convés entre A e F, como definido nas regras do navio."
   ]
  },
  {
   "cell_type": "code",
   "execution_count": 290,
   "metadata": {},
   "outputs": [
    {
     "data": {
      "text/html": [
       "<div>\n",
       "<style scoped>\n",
       "    .dataframe tbody tr th:only-of-type {\n",
       "        vertical-align: middle;\n",
       "    }\n",
       "\n",
       "    .dataframe tbody tr th {\n",
       "        vertical-align: top;\n",
       "    }\n",
       "\n",
       "    .dataframe thead th {\n",
       "        text-align: right;\n",
       "    }\n",
       "</style>\n",
       "<table border=\"1\" class=\"dataframe\">\n",
       "  <thead>\n",
       "    <tr style=\"text-align: right;\">\n",
       "      <th></th>\n",
       "      <th>classe_bilhete</th>\n",
       "      <th>cabine_numero</th>\n",
       "    </tr>\n",
       "    <tr>\n",
       "      <th>id_passageiro</th>\n",
       "      <th></th>\n",
       "      <th></th>\n",
       "    </tr>\n",
       "  </thead>\n",
       "  <tbody>\n",
       "    <tr>\n",
       "      <th>2</th>\n",
       "      <td>1</td>\n",
       "      <td>C85</td>\n",
       "    </tr>\n",
       "    <tr>\n",
       "      <th>4</th>\n",
       "      <td>1</td>\n",
       "      <td>C123</td>\n",
       "    </tr>\n",
       "    <tr>\n",
       "      <th>7</th>\n",
       "      <td>1</td>\n",
       "      <td>E46</td>\n",
       "    </tr>\n",
       "    <tr>\n",
       "      <th>11</th>\n",
       "      <td>3</td>\n",
       "      <td>G6</td>\n",
       "    </tr>\n",
       "    <tr>\n",
       "      <th>12</th>\n",
       "      <td>1</td>\n",
       "      <td>C103</td>\n",
       "    </tr>\n",
       "    <tr>\n",
       "      <th>...</th>\n",
       "      <td>...</td>\n",
       "      <td>...</td>\n",
       "    </tr>\n",
       "    <tr>\n",
       "      <th>872</th>\n",
       "      <td>1</td>\n",
       "      <td>D35</td>\n",
       "    </tr>\n",
       "    <tr>\n",
       "      <th>873</th>\n",
       "      <td>1</td>\n",
       "      <td>B51 B53 B55</td>\n",
       "    </tr>\n",
       "    <tr>\n",
       "      <th>880</th>\n",
       "      <td>1</td>\n",
       "      <td>C50</td>\n",
       "    </tr>\n",
       "    <tr>\n",
       "      <th>888</th>\n",
       "      <td>1</td>\n",
       "      <td>B42</td>\n",
       "    </tr>\n",
       "    <tr>\n",
       "      <th>890</th>\n",
       "      <td>1</td>\n",
       "      <td>C148</td>\n",
       "    </tr>\n",
       "  </tbody>\n",
       "</table>\n",
       "<p>204 rows × 2 columns</p>\n",
       "</div>"
      ],
      "text/plain": [
       "               classe_bilhete cabine_numero\n",
       "id_passageiro                              \n",
       "2                           1           C85\n",
       "4                           1          C123\n",
       "7                           1           E46\n",
       "11                          3            G6\n",
       "12                          1          C103\n",
       "...                       ...           ...\n",
       "872                         1           D35\n",
       "873                         1   B51 B53 B55\n",
       "880                         1           C50\n",
       "888                         1           B42\n",
       "890                         1          C148\n",
       "\n",
       "[204 rows x 2 columns]"
      ]
     },
     "execution_count": 290,
     "metadata": {},
     "output_type": "execute_result"
    }
   ],
   "source": [
    "# Criação de um dataframe auxiliar para manipulação das colunas classe_bilhete e cabine_numero\n",
    "df_relation = df[df['cabine_numero'].notna()][['classe_bilhete', 'cabine_numero']]\n",
    "df_relation"
   ]
  },
  {
   "cell_type": "code",
   "execution_count": 291,
   "metadata": {},
   "outputs": [
    {
     "data": {
      "text/html": [
       "<div>\n",
       "<style scoped>\n",
       "    .dataframe tbody tr th:only-of-type {\n",
       "        vertical-align: middle;\n",
       "    }\n",
       "\n",
       "    .dataframe tbody tr th {\n",
       "        vertical-align: top;\n",
       "    }\n",
       "\n",
       "    .dataframe thead th {\n",
       "        text-align: right;\n",
       "    }\n",
       "</style>\n",
       "<table border=\"1\" class=\"dataframe\">\n",
       "  <thead>\n",
       "    <tr style=\"text-align: right;\">\n",
       "      <th></th>\n",
       "      <th>conves</th>\n",
       "    </tr>\n",
       "    <tr>\n",
       "      <th>id_passageiro</th>\n",
       "      <th></th>\n",
       "    </tr>\n",
       "  </thead>\n",
       "  <tbody>\n",
       "    <tr>\n",
       "      <th>2</th>\n",
       "      <td>C</td>\n",
       "    </tr>\n",
       "    <tr>\n",
       "      <th>4</th>\n",
       "      <td>C</td>\n",
       "    </tr>\n",
       "    <tr>\n",
       "      <th>7</th>\n",
       "      <td>E</td>\n",
       "    </tr>\n",
       "    <tr>\n",
       "      <th>11</th>\n",
       "      <td>G</td>\n",
       "    </tr>\n",
       "    <tr>\n",
       "      <th>12</th>\n",
       "      <td>C</td>\n",
       "    </tr>\n",
       "    <tr>\n",
       "      <th>...</th>\n",
       "      <td>...</td>\n",
       "    </tr>\n",
       "    <tr>\n",
       "      <th>872</th>\n",
       "      <td>D</td>\n",
       "    </tr>\n",
       "    <tr>\n",
       "      <th>873</th>\n",
       "      <td>B</td>\n",
       "    </tr>\n",
       "    <tr>\n",
       "      <th>880</th>\n",
       "      <td>C</td>\n",
       "    </tr>\n",
       "    <tr>\n",
       "      <th>888</th>\n",
       "      <td>B</td>\n",
       "    </tr>\n",
       "    <tr>\n",
       "      <th>890</th>\n",
       "      <td>C</td>\n",
       "    </tr>\n",
       "  </tbody>\n",
       "</table>\n",
       "<p>204 rows × 1 columns</p>\n",
       "</div>"
      ],
      "text/plain": [
       "              conves\n",
       "id_passageiro       \n",
       "2                  C\n",
       "4                  C\n",
       "7                  E\n",
       "11                 G\n",
       "12                 C\n",
       "...              ...\n",
       "872                D\n",
       "873                B\n",
       "880                C\n",
       "888                B\n",
       "890                C\n",
       "\n",
       "[204 rows x 1 columns]"
      ]
     },
     "execution_count": 291,
     "metadata": {},
     "output_type": "execute_result"
    }
   ],
   "source": [
    "# Separação da informação do convés da coluna cabine_numero\n",
    "df_conves = df_relation['cabine_numero'].apply(lambda x: x[0])\n",
    "df_conves = pd.DataFrame.from_records(df_conves.values, columns=['conves']).set_index(df_relation.index)\n",
    "df_conves"
   ]
  },
  {
   "cell_type": "code",
   "execution_count": 292,
   "metadata": {},
   "outputs": [
    {
     "data": {
      "text/html": [
       "<div>\n",
       "<style scoped>\n",
       "    .dataframe tbody tr th:only-of-type {\n",
       "        vertical-align: middle;\n",
       "    }\n",
       "\n",
       "    .dataframe tbody tr th {\n",
       "        vertical-align: top;\n",
       "    }\n",
       "\n",
       "    .dataframe thead th {\n",
       "        text-align: right;\n",
       "    }\n",
       "</style>\n",
       "<table border=\"1\" class=\"dataframe\">\n",
       "  <thead>\n",
       "    <tr style=\"text-align: right;\">\n",
       "      <th></th>\n",
       "      <th>classe_bilhete</th>\n",
       "      <th>cabine_numero</th>\n",
       "      <th>conves</th>\n",
       "    </tr>\n",
       "    <tr>\n",
       "      <th>id_passageiro</th>\n",
       "      <th></th>\n",
       "      <th></th>\n",
       "      <th></th>\n",
       "    </tr>\n",
       "  </thead>\n",
       "  <tbody>\n",
       "    <tr>\n",
       "      <th>2</th>\n",
       "      <td>1</td>\n",
       "      <td>C85</td>\n",
       "      <td>C</td>\n",
       "    </tr>\n",
       "    <tr>\n",
       "      <th>4</th>\n",
       "      <td>1</td>\n",
       "      <td>C123</td>\n",
       "      <td>C</td>\n",
       "    </tr>\n",
       "    <tr>\n",
       "      <th>7</th>\n",
       "      <td>1</td>\n",
       "      <td>E46</td>\n",
       "      <td>E</td>\n",
       "    </tr>\n",
       "    <tr>\n",
       "      <th>11</th>\n",
       "      <td>3</td>\n",
       "      <td>G6</td>\n",
       "      <td>G</td>\n",
       "    </tr>\n",
       "    <tr>\n",
       "      <th>12</th>\n",
       "      <td>1</td>\n",
       "      <td>C103</td>\n",
       "      <td>C</td>\n",
       "    </tr>\n",
       "  </tbody>\n",
       "</table>\n",
       "</div>"
      ],
      "text/plain": [
       "               classe_bilhete cabine_numero conves\n",
       "id_passageiro                                     \n",
       "2                           1           C85      C\n",
       "4                           1          C123      C\n",
       "7                           1           E46      E\n",
       "11                          3            G6      G\n",
       "12                          1          C103      C"
      ]
     },
     "execution_count": 292,
     "metadata": {},
     "output_type": "execute_result"
    }
   ],
   "source": [
    "# União da coluna conves no df2\n",
    "df_relation = df_relation.assign(conves=df_conves)\n",
    "df_relation.head()"
   ]
  },
  {
   "cell_type": "code",
   "execution_count": 293,
   "metadata": {},
   "outputs": [
    {
     "data": {
      "text/plain": [
       "classe_bilhete    176\n",
       "cabine_numero     176\n",
       "conves            176\n",
       "dtype: int64"
      ]
     },
     "execution_count": 293,
     "metadata": {},
     "output_type": "execute_result"
    }
   ],
   "source": [
    "# Conveses para cada a 1º classe\n",
    "df_relation[df_relation['classe_bilhete'] == 1].count()"
   ]
  },
  {
   "cell_type": "code",
   "execution_count": 294,
   "metadata": {},
   "outputs": [
    {
     "data": {
      "text/plain": [
       "classe_bilhete    16\n",
       "cabine_numero     16\n",
       "conves            16\n",
       "dtype: int64"
      ]
     },
     "execution_count": 294,
     "metadata": {},
     "output_type": "execute_result"
    }
   ],
   "source": [
    "# Conveses para cada a 2º classe\n",
    "df_relation[df_relation['classe_bilhete'] == 2].count()"
   ]
  },
  {
   "cell_type": "code",
   "execution_count": 295,
   "metadata": {},
   "outputs": [
    {
     "data": {
      "text/plain": [
       "classe_bilhete    12\n",
       "cabine_numero     12\n",
       "conves            12\n",
       "dtype: int64"
      ]
     },
     "execution_count": 295,
     "metadata": {},
     "output_type": "execute_result"
    }
   ],
   "source": [
    "# Conveses para cada a 3º classe\n",
    "df_relation[df_relation['classe_bilhete'] == 3].count()"
   ]
  },
  {
   "cell_type": "markdown",
   "metadata": {},
   "source": [
    "#### Perguntas chave para as categorias categóricas:"
   ]
  },
  {
   "cell_type": "markdown",
   "metadata": {},
   "source": [
    "- Há alguma influência de pertencer a algum grupo de alguma cabine na sua sobrevivência?"
   ]
  },
  {
   "cell_type": "markdown",
   "metadata": {},
   "source": [
    "**Resposta:** Sim, entre os sobreviventes a maioria está localizada nos conveses B, C, D e E, uma hipótese válida seria que isto aconteceu por uma questão de logística de escape dada a infraestrutura do navio e o posicionamento dos botes disponíveis."
   ]
  },
  {
   "cell_type": "code",
   "execution_count": 296,
   "metadata": {},
   "outputs": [
    {
     "data": {
      "text/html": [
       "<div>\n",
       "<style scoped>\n",
       "    .dataframe tbody tr th:only-of-type {\n",
       "        vertical-align: middle;\n",
       "    }\n",
       "\n",
       "    .dataframe tbody tr th {\n",
       "        vertical-align: top;\n",
       "    }\n",
       "\n",
       "    .dataframe thead th {\n",
       "        text-align: right;\n",
       "    }\n",
       "</style>\n",
       "<table border=\"1\" class=\"dataframe\">\n",
       "  <thead>\n",
       "    <tr style=\"text-align: right;\">\n",
       "      <th></th>\n",
       "      <th>sobreviveu</th>\n",
       "      <th>cabine_numero</th>\n",
       "    </tr>\n",
       "    <tr>\n",
       "      <th>id_passageiro</th>\n",
       "      <th></th>\n",
       "      <th></th>\n",
       "    </tr>\n",
       "  </thead>\n",
       "  <tbody>\n",
       "    <tr>\n",
       "      <th>2</th>\n",
       "      <td>True</td>\n",
       "      <td>C85</td>\n",
       "    </tr>\n",
       "    <tr>\n",
       "      <th>4</th>\n",
       "      <td>True</td>\n",
       "      <td>C123</td>\n",
       "    </tr>\n",
       "    <tr>\n",
       "      <th>11</th>\n",
       "      <td>True</td>\n",
       "      <td>G6</td>\n",
       "    </tr>\n",
       "    <tr>\n",
       "      <th>12</th>\n",
       "      <td>True</td>\n",
       "      <td>C103</td>\n",
       "    </tr>\n",
       "    <tr>\n",
       "      <th>22</th>\n",
       "      <td>True</td>\n",
       "      <td>D56</td>\n",
       "    </tr>\n",
       "    <tr>\n",
       "      <th>...</th>\n",
       "      <td>...</td>\n",
       "      <td>...</td>\n",
       "    </tr>\n",
       "    <tr>\n",
       "      <th>863</th>\n",
       "      <td>True</td>\n",
       "      <td>D17</td>\n",
       "    </tr>\n",
       "    <tr>\n",
       "      <th>872</th>\n",
       "      <td>True</td>\n",
       "      <td>D35</td>\n",
       "    </tr>\n",
       "    <tr>\n",
       "      <th>880</th>\n",
       "      <td>True</td>\n",
       "      <td>C50</td>\n",
       "    </tr>\n",
       "    <tr>\n",
       "      <th>888</th>\n",
       "      <td>True</td>\n",
       "      <td>B42</td>\n",
       "    </tr>\n",
       "    <tr>\n",
       "      <th>890</th>\n",
       "      <td>True</td>\n",
       "      <td>C148</td>\n",
       "    </tr>\n",
       "  </tbody>\n",
       "</table>\n",
       "<p>136 rows × 2 columns</p>\n",
       "</div>"
      ],
      "text/plain": [
       "               sobreviveu cabine_numero\n",
       "id_passageiro                          \n",
       "2                    True           C85\n",
       "4                    True          C123\n",
       "11                   True            G6\n",
       "12                   True          C103\n",
       "22                   True           D56\n",
       "...                   ...           ...\n",
       "863                  True           D17\n",
       "872                  True           D35\n",
       "880                  True           C50\n",
       "888                  True           B42\n",
       "890                  True          C148\n",
       "\n",
       "[136 rows x 2 columns]"
      ]
     },
     "execution_count": 296,
     "metadata": {},
     "output_type": "execute_result"
    }
   ],
   "source": [
    "# Aquisição de todos os valores de cabine não nulos.\n",
    "cabin_not_null = df[(df['sobreviveu'] == True) & (df['cabine_numero'].notna())].loc[:,['sobreviveu', 'cabine_numero']]\n",
    "cabin_not_null"
   ]
  },
  {
   "cell_type": "code",
   "execution_count": 297,
   "metadata": {},
   "outputs": [
    {
     "data": {
      "text/html": [
       "<div>\n",
       "<style scoped>\n",
       "    .dataframe tbody tr th:only-of-type {\n",
       "        vertical-align: middle;\n",
       "    }\n",
       "\n",
       "    .dataframe tbody tr th {\n",
       "        vertical-align: top;\n",
       "    }\n",
       "\n",
       "    .dataframe thead th {\n",
       "        text-align: right;\n",
       "    }\n",
       "</style>\n",
       "<table border=\"1\" class=\"dataframe\">\n",
       "  <thead>\n",
       "    <tr style=\"text-align: right;\">\n",
       "      <th></th>\n",
       "      <th>conves</th>\n",
       "    </tr>\n",
       "    <tr>\n",
       "      <th>id_passageiro</th>\n",
       "      <th></th>\n",
       "    </tr>\n",
       "  </thead>\n",
       "  <tbody>\n",
       "    <tr>\n",
       "      <th>2</th>\n",
       "      <td>C</td>\n",
       "    </tr>\n",
       "    <tr>\n",
       "      <th>4</th>\n",
       "      <td>C</td>\n",
       "    </tr>\n",
       "    <tr>\n",
       "      <th>11</th>\n",
       "      <td>G</td>\n",
       "    </tr>\n",
       "    <tr>\n",
       "      <th>12</th>\n",
       "      <td>C</td>\n",
       "    </tr>\n",
       "    <tr>\n",
       "      <th>22</th>\n",
       "      <td>D</td>\n",
       "    </tr>\n",
       "    <tr>\n",
       "      <th>...</th>\n",
       "      <td>...</td>\n",
       "    </tr>\n",
       "    <tr>\n",
       "      <th>863</th>\n",
       "      <td>D</td>\n",
       "    </tr>\n",
       "    <tr>\n",
       "      <th>872</th>\n",
       "      <td>D</td>\n",
       "    </tr>\n",
       "    <tr>\n",
       "      <th>880</th>\n",
       "      <td>C</td>\n",
       "    </tr>\n",
       "    <tr>\n",
       "      <th>888</th>\n",
       "      <td>B</td>\n",
       "    </tr>\n",
       "    <tr>\n",
       "      <th>890</th>\n",
       "      <td>C</td>\n",
       "    </tr>\n",
       "  </tbody>\n",
       "</table>\n",
       "<p>136 rows × 1 columns</p>\n",
       "</div>"
      ],
      "text/plain": [
       "              conves\n",
       "id_passageiro       \n",
       "2                  C\n",
       "4                  C\n",
       "11                 G\n",
       "12                 C\n",
       "22                 D\n",
       "...              ...\n",
       "863                D\n",
       "872                D\n",
       "880                C\n",
       "888                B\n",
       "890                C\n",
       "\n",
       "[136 rows x 1 columns]"
      ]
     },
     "execution_count": 297,
     "metadata": {},
     "output_type": "execute_result"
    }
   ],
   "source": [
    "# Separação da informação do convés da coluna cabine_numero\n",
    "df_conves = cabin_not_null['cabine_numero'].apply(lambda x: x[0])\n",
    "df_conves = pd.DataFrame.from_records(df_conves.values, columns=['conves']).set_index(cabin_not_null.index)\n",
    "df_conves"
   ]
  },
  {
   "cell_type": "code",
   "execution_count": 298,
   "metadata": {},
   "outputs": [
    {
     "data": {
      "text/plain": [
       "id_passageiro\n",
       "2       C85\n",
       "4      C123\n",
       "11       G6\n",
       "12     C103\n",
       "22      D56\n",
       "       ... \n",
       "863     D17\n",
       "872     D35\n",
       "880     C50\n",
       "888     B42\n",
       "890    C148\n",
       "Name: cabine_numero, Length: 136, dtype: object"
      ]
     },
     "execution_count": 298,
     "metadata": {},
     "output_type": "execute_result"
    }
   ],
   "source": [
    "# Remoção da coluna cabine_numero\n",
    "cabin_not_null.pop('cabine_numero')"
   ]
  },
  {
   "cell_type": "code",
   "execution_count": 299,
   "metadata": {},
   "outputs": [
    {
     "data": {
      "text/html": [
       "<div>\n",
       "<style scoped>\n",
       "    .dataframe tbody tr th:only-of-type {\n",
       "        vertical-align: middle;\n",
       "    }\n",
       "\n",
       "    .dataframe tbody tr th {\n",
       "        vertical-align: top;\n",
       "    }\n",
       "\n",
       "    .dataframe thead th {\n",
       "        text-align: right;\n",
       "    }\n",
       "</style>\n",
       "<table border=\"1\" class=\"dataframe\">\n",
       "  <thead>\n",
       "    <tr style=\"text-align: right;\">\n",
       "      <th></th>\n",
       "      <th>sobreviveu</th>\n",
       "      <th>conves</th>\n",
       "    </tr>\n",
       "    <tr>\n",
       "      <th>id_passageiro</th>\n",
       "      <th></th>\n",
       "      <th></th>\n",
       "    </tr>\n",
       "  </thead>\n",
       "  <tbody>\n",
       "    <tr>\n",
       "      <th>2</th>\n",
       "      <td>True</td>\n",
       "      <td>C</td>\n",
       "    </tr>\n",
       "    <tr>\n",
       "      <th>4</th>\n",
       "      <td>True</td>\n",
       "      <td>C</td>\n",
       "    </tr>\n",
       "    <tr>\n",
       "      <th>11</th>\n",
       "      <td>True</td>\n",
       "      <td>G</td>\n",
       "    </tr>\n",
       "    <tr>\n",
       "      <th>12</th>\n",
       "      <td>True</td>\n",
       "      <td>C</td>\n",
       "    </tr>\n",
       "    <tr>\n",
       "      <th>22</th>\n",
       "      <td>True</td>\n",
       "      <td>D</td>\n",
       "    </tr>\n",
       "    <tr>\n",
       "      <th>...</th>\n",
       "      <td>...</td>\n",
       "      <td>...</td>\n",
       "    </tr>\n",
       "    <tr>\n",
       "      <th>863</th>\n",
       "      <td>True</td>\n",
       "      <td>D</td>\n",
       "    </tr>\n",
       "    <tr>\n",
       "      <th>872</th>\n",
       "      <td>True</td>\n",
       "      <td>D</td>\n",
       "    </tr>\n",
       "    <tr>\n",
       "      <th>880</th>\n",
       "      <td>True</td>\n",
       "      <td>C</td>\n",
       "    </tr>\n",
       "    <tr>\n",
       "      <th>888</th>\n",
       "      <td>True</td>\n",
       "      <td>B</td>\n",
       "    </tr>\n",
       "    <tr>\n",
       "      <th>890</th>\n",
       "      <td>True</td>\n",
       "      <td>C</td>\n",
       "    </tr>\n",
       "  </tbody>\n",
       "</table>\n",
       "<p>136 rows × 2 columns</p>\n",
       "</div>"
      ],
      "text/plain": [
       "               sobreviveu conves\n",
       "id_passageiro                   \n",
       "2                    True      C\n",
       "4                    True      C\n",
       "11                   True      G\n",
       "12                   True      C\n",
       "22                   True      D\n",
       "...                   ...    ...\n",
       "863                  True      D\n",
       "872                  True      D\n",
       "880                  True      C\n",
       "888                  True      B\n",
       "890                  True      C\n",
       "\n",
       "[136 rows x 2 columns]"
      ]
     },
     "execution_count": 299,
     "metadata": {},
     "output_type": "execute_result"
    }
   ],
   "source": [
    "# União da coluna conves no df2\n",
    "cabin_not_null = cabin_not_null.assign(conves=df_conves)\n",
    "cabin_not_null"
   ]
  },
  {
   "cell_type": "code",
   "execution_count": 300,
   "metadata": {},
   "outputs": [
    {
     "data": {
      "text/html": [
       "<div>\n",
       "<style scoped>\n",
       "    .dataframe tbody tr th:only-of-type {\n",
       "        vertical-align: middle;\n",
       "    }\n",
       "\n",
       "    .dataframe tbody tr th {\n",
       "        vertical-align: top;\n",
       "    }\n",
       "\n",
       "    .dataframe thead th {\n",
       "        text-align: right;\n",
       "    }\n",
       "</style>\n",
       "<table border=\"1\" class=\"dataframe\">\n",
       "  <thead>\n",
       "    <tr style=\"text-align: right;\">\n",
       "      <th></th>\n",
       "      <th>conves</th>\n",
       "      <th>sobreviveu</th>\n",
       "    </tr>\n",
       "  </thead>\n",
       "  <tbody>\n",
       "    <tr>\n",
       "      <th>0</th>\n",
       "      <td>A</td>\n",
       "      <td>7</td>\n",
       "    </tr>\n",
       "    <tr>\n",
       "      <th>1</th>\n",
       "      <td>B</td>\n",
       "      <td>35</td>\n",
       "    </tr>\n",
       "    <tr>\n",
       "      <th>2</th>\n",
       "      <td>C</td>\n",
       "      <td>35</td>\n",
       "    </tr>\n",
       "    <tr>\n",
       "      <th>3</th>\n",
       "      <td>D</td>\n",
       "      <td>25</td>\n",
       "    </tr>\n",
       "    <tr>\n",
       "      <th>4</th>\n",
       "      <td>E</td>\n",
       "      <td>24</td>\n",
       "    </tr>\n",
       "    <tr>\n",
       "      <th>5</th>\n",
       "      <td>F</td>\n",
       "      <td>8</td>\n",
       "    </tr>\n",
       "    <tr>\n",
       "      <th>6</th>\n",
       "      <td>G</td>\n",
       "      <td>2</td>\n",
       "    </tr>\n",
       "  </tbody>\n",
       "</table>\n",
       "</div>"
      ],
      "text/plain": [
       "  conves  sobreviveu\n",
       "0      A           7\n",
       "1      B          35\n",
       "2      C          35\n",
       "3      D          25\n",
       "4      E          24\n",
       "5      F           8\n",
       "6      G           2"
      ]
     },
     "execution_count": 300,
     "metadata": {},
     "output_type": "execute_result"
    }
   ],
   "source": [
    "group_conves = cabin_not_null.groupby('conves')['sobreviveu'].count().reset_index()\n",
    "group_conves\n",
    "\n",
    "# pd.DataFrame.from_records()"
   ]
  },
  {
   "cell_type": "code",
   "execution_count": 301,
   "metadata": {},
   "outputs": [
    {
     "data": {
      "text/plain": [
       "<Axes: xlabel='conves', ylabel='sobreviveu'>"
      ]
     },
     "execution_count": 301,
     "metadata": {},
     "output_type": "execute_result"
    },
    {
     "data": {
      "image/png": "[encoded data removed]",
      "text/plain": [
       "<Figure size 640x480 with 1 Axes>"
      ]
     },
     "metadata": {},
     "output_type": "display_data"
    }
   ],
   "source": [
    "sns.barplot(data=group_conves, x='conves', y='sobreviveu')"
   ]
  },
  {
   "cell_type": "markdown",
   "metadata": {},
   "source": [
    "- Há algum padrão no `numero_bilhete`?"
   ]
  },
  {
   "cell_type": "markdown",
   "metadata": {},
   "source": [
    "**Resposta:** Não há padrão."
   ]
  },
  {
   "cell_type": "code",
   "execution_count": 302,
   "metadata": {},
   "outputs": [
    {
     "data": {
      "text/plain": [
       "id_passageiro\n",
       "1           A/5 21171\n",
       "2            PC 17599\n",
       "3    STON/O2. 3101282\n",
       "4              113803\n",
       "5              373450\n",
       "Name: numero_bilhete, dtype: object"
      ]
     },
     "execution_count": 302,
     "metadata": {},
     "output_type": "execute_result"
    }
   ],
   "source": [
    "df['numero_bilhete'].head()"
   ]
  },
  {
   "cell_type": "markdown",
   "metadata": {},
   "source": [
    "- Há algum padrão na `cabine_numero`?"
   ]
  },
  {
   "cell_type": "markdown",
   "metadata": {},
   "source": [
    "**Resposta:** As cabines seguem o padrão convés+número da cabine, exemplo C85, E46, e isto vai está de acordo com a distribuição de conveses para cada classe."
   ]
  },
  {
   "cell_type": "code",
   "execution_count": 303,
   "metadata": {},
   "outputs": [
    {
     "data": {
      "text/plain": [
       "id_passageiro\n",
       "2              C85\n",
       "4             C123\n",
       "7              E46\n",
       "11              G6\n",
       "12            C103\n",
       "          ...     \n",
       "872            D35\n",
       "873    B51 B53 B55\n",
       "880            C50\n",
       "888            B42\n",
       "890           C148\n",
       "Name: cabine_numero, Length: 204, dtype: object"
      ]
     },
     "execution_count": 303,
     "metadata": {},
     "output_type": "execute_result"
    }
   ],
   "source": [
    "# Pega todos os dados não nulos para o número de cabines.\n",
    "non_null = df[~df['cabine_numero'].isnull()]\n",
    "non_null['cabine_numero']"
   ]
  },
  {
   "cell_type": "markdown",
   "metadata": {},
   "source": [
    "## Perguntas do Desafio:"
   ]
  },
  {
   "cell_type": "markdown",
   "metadata": {},
   "source": [
    "- Qual o fator que foi mais importante e menos importante para determinar a sobrevivência para esta população?"
   ]
  },
  {
   "cell_type": "markdown",
   "metadata": {},
   "source": [
    "**Resposta:** O fator mais importante foi o genero e a idade, nas células abaixo será mostrada que 72% desta amostra sobreviveu. E o fator menos importante foi o local de embarque dos passageiros, pois este não teve influência no momento do desastre."
   ]
  },
  {
   "cell_type": "markdown",
   "metadata": {},
   "source": [
    "- Você pode dizer que houve alguma influência do poder aquisitivo na sobrevivência do acidente?"
   ]
  },
  {
   "cell_type": "markdown",
   "metadata": {},
   "source": [
    "**Resposta:** Sim, pois 67% das pessoas que pagaram um bilhete acima de 10.000 sobreviveram."
   ]
  },
  {
   "cell_type": "code",
   "execution_count": 304,
   "metadata": {},
   "outputs": [
    {
     "data": {
      "text/plain": [
       "count    891.000000\n",
       "mean      32.204208\n",
       "std       49.693429\n",
       "min        0.000000\n",
       "25%        7.910400\n",
       "50%       14.454200\n",
       "75%       31.000000\n",
       "max      512.329200\n",
       "Name: preco_bilhete, dtype: float64"
      ]
     },
     "execution_count": 304,
     "metadata": {},
     "output_type": "execute_result"
    }
   ],
   "source": [
    "df['preco_bilhete'].describe()"
   ]
  },
  {
   "cell_type": "code",
   "execution_count": 305,
   "metadata": {},
   "outputs": [
    {
     "data": {
      "text/plain": [
       "67.2514619883041"
      ]
     },
     "execution_count": 305,
     "metadata": {},
     "output_type": "execute_result"
    }
   ],
   "source": [
    "# Filtra o dataframe apenas para os dados dos sobreviventes e após isso faz um agrupamento para classe_bilhete contando quantos dados há para cada classe.\n",
    "df[df['preco_bilhete'] > 14.454200].query(\"sobreviveu == True\").shape[0]/df[df['sobreviveu'] == True].shape[0]*100"
   ]
  },
  {
   "cell_type": "markdown",
   "metadata": {},
   "source": [
    "- O protocolo marítimo da época do Titanic tinha foco em dar prioridade a crianças e mulheres, analisando os dados podemos dizer se este protocolo foi seguido?\n"
   ]
  },
  {
   "cell_type": "markdown",
   "metadata": {},
   "source": [
    "**Resposta:** Sim, pois 72% das mulheres e crianças sobreviveram."
   ]
  },
  {
   "cell_type": "code",
   "execution_count": 306,
   "metadata": {},
   "outputs": [
    {
     "data": {
      "text/plain": [
       "351"
      ]
     },
     "execution_count": 306,
     "metadata": {},
     "output_type": "execute_result"
    }
   ],
   "source": [
    "# Coletar a quantidade de todas as mulheres e crianças com idade <= 12\n",
    "all_woman_children = df[(df['genero'] == 'F') | (df['idade'] <= 12)].shape[0]\n",
    "all_woman_children"
   ]
  },
  {
   "cell_type": "code",
   "execution_count": 307,
   "metadata": {},
   "outputs": [
    {
     "data": {
      "text/plain": [
       "254"
      ]
     },
     "execution_count": 307,
     "metadata": {},
     "output_type": "execute_result"
    }
   ],
   "source": [
    "# Coletar a quantidade de todas as mulheres e crianças com idade <= 12 que sobreviveram\n",
    "survived_woman_children = df[(df['genero'] == 'F') | (df['idade'] <= 12)].query(\"sobreviveu == True\").shape[0]\n",
    "survived_woman_children"
   ]
  },
  {
   "cell_type": "code",
   "execution_count": 308,
   "metadata": {},
   "outputs": [
    {
     "data": {
      "text/plain": [
       "72.36467236467237"
      ]
     },
     "execution_count": 308,
     "metadata": {},
     "output_type": "execute_result"
    }
   ],
   "source": [
    "survived_woman_children/all_woman_children*100"
   ]
  },
  {
   "cell_type": "markdown",
   "metadata": {},
   "source": [
    "- Ter uma família no barco influenciou negativamente ou positivamente para a sua sobrevivência?"
   ]
  },
  {
   "cell_type": "markdown",
   "metadata": {},
   "source": [
    "**Resposta:** Influenciou positivamente já que 51% das pessoas com familiares sobreviveram em contrapartida aos 30% sem familiares que sobreviveram, mas é importante ressaltar que estes resultados possam ter sido influenciados por outros requisitos, além de ter ou não família no navio."
   ]
  },
  {
   "cell_type": "code",
   "execution_count": 309,
   "metadata": {},
   "outputs": [
    {
     "data": {
      "text/plain": [
       "51.0"
      ]
     },
     "execution_count": 309,
     "metadata": {},
     "output_type": "execute_result"
    }
   ],
   "source": [
    "# Dados dos que sobreviveram e tinham família\n",
    "with_family = df.loc[(df['irmaos_conjuges_abordo'] > 0) | (df['pais_filhos_abordo'] > 0)]\n",
    "survived_with_family = with_family.query('sobreviveu == True').shape[0]/with_family.shape[0]\n",
    "round(survived_with_family, 2)*100"
   ]
  },
  {
   "cell_type": "code",
   "execution_count": 310,
   "metadata": {},
   "outputs": [
    {
     "data": {
      "text/plain": [
       "30.0"
      ]
     },
     "execution_count": 310,
     "metadata": {},
     "output_type": "execute_result"
    }
   ],
   "source": [
    "# Dados dos que sobreviveram e não tinham família\n",
    "without_family = df.loc[(df['irmaos_conjuges_abordo'] == 0) & (df['pais_filhos_abordo'] == 0)]\n",
    "survived_without_family = without_family.query('sobreviveu == True').shape[0]/without_family.shape[0]\n",
    "round(survived_without_family, 2)*100"
   ]
  },
  {
   "cell_type": "markdown",
   "metadata": {},
   "source": [
    "- Qual o perfil de quem não sobreviveu? E qual é o perfil de quem sobreviveu? Entenda Perfil como: Gênero, Idade e Classe Social. Caso você identifique alguma nova característica pode adicioná-la ao perfil."
   ]
  },
  {
   "cell_type": "markdown",
   "metadata": {},
   "source": [
    "**Resposta:** Dentre os sobreviventes podemos ressaltar que estes estavam bem distribuídos entre as classes e que sua maioria está entre mulheres. Podemos ressaltar também que suas idades estão contidas em sua maioria, no intervalo de 20 a 40 anos."
   ]
  },
  {
   "cell_type": "code",
   "execution_count": 311,
   "metadata": {},
   "outputs": [
    {
     "data": {
      "image/png": "[encoded data removed]",
      "text/plain": [
       "<Figure size 1500x300 with 4 Axes>"
      ]
     },
     "metadata": {},
     "output_type": "display_data"
    },
    {
     "data": {
      "image/png": "[encoded data removed]",
      "text/plain": [
       "<Figure size 1500x300 with 4 Axes>"
      ]
     },
     "metadata": {},
     "output_type": "display_data"
    }
   ],
   "source": [
    "survived = df.query('sobreviveu == True').loc[:,['genero', 'idade', 'classe_bilhete', 'preco_bilhete']]\n",
    "not_survived = df.query('sobreviveu == False').loc[:,['genero', 'idade', 'classe_bilhete', 'preco_bilhete']]\n",
    "\n",
    "fig, axes = plt.subplots(1, 4, figsize=(15, 3), sharey=True)\n",
    "fig.suptitle('Profile of survivors')\n",
    "sns.histplot(ax=axes[0], x=\"genero\", data=survived, color=\"#00853B\")\n",
    "sns.histplot(ax=axes[1], x=\"idade\", data=survived, color=\"#00853B\")\n",
    "sns.histplot(ax=axes[2], x=\"classe_bilhete\", data=survived, color=\"#00853B\")\n",
    "sns.histplot(ax=axes[3], x=\"preco_bilhete\", data=survived, color=\"#00853B\")\n",
    "plt.show()\n",
    "\n",
    "fig, axes = plt.subplots(1, 4, figsize=(15, 3), sharey=True)\n",
    "fig.suptitle('Profile of not survivors')\n",
    "sns.histplot(ax=axes[0], x=\"genero\", data=not_survived, color=\"#00853B\")\n",
    "sns.histplot(ax=axes[1], x=\"idade\", data=not_survived, color=\"#00853B\")\n",
    "sns.histplot(ax=axes[2], x=\"classe_bilhete\", data=not_survived, color=\"#00853B\")\n",
    "sns.histplot(ax=axes[3], x=\"preco_bilhete\", data=survived, color=\"#00853B\")\n",
    "plt.show()"
   ]
  },
  {
   "cell_type": "markdown",
   "metadata": {},
   "source": [
    "## Predições com Modelo ML"
   ]
  },
  {
   "cell_type": "code",
   "execution_count": 312,
   "metadata": {},
   "outputs": [
    {
     "data": {
      "text/html": [
       "<div>\n",
       "<style scoped>\n",
       "    .dataframe tbody tr th:only-of-type {\n",
       "        vertical-align: middle;\n",
       "    }\n",
       "\n",
       "    .dataframe tbody tr th {\n",
       "        vertical-align: top;\n",
       "    }\n",
       "\n",
       "    .dataframe thead th {\n",
       "        text-align: right;\n",
       "    }\n",
       "</style>\n",
       "<table border=\"1\" class=\"dataframe\">\n",
       "  <thead>\n",
       "    <tr style=\"text-align: right;\">\n",
       "      <th></th>\n",
       "      <th>sobreviveu</th>\n",
       "      <th>classe_bilhete</th>\n",
       "      <th>genero</th>\n",
       "      <th>idade</th>\n",
       "      <th>irmaos_conjuges_abordo</th>\n",
       "      <th>pais_filhos_abordo</th>\n",
       "      <th>numero_bilhete</th>\n",
       "      <th>preco_bilhete</th>\n",
       "      <th>cabine_numero</th>\n",
       "      <th>local_embarque</th>\n",
       "    </tr>\n",
       "    <tr>\n",
       "      <th>id_passageiro</th>\n",
       "      <th></th>\n",
       "      <th></th>\n",
       "      <th></th>\n",
       "      <th></th>\n",
       "      <th></th>\n",
       "      <th></th>\n",
       "      <th></th>\n",
       "      <th></th>\n",
       "      <th></th>\n",
       "      <th></th>\n",
       "    </tr>\n",
       "  </thead>\n",
       "  <tbody>\n",
       "    <tr>\n",
       "      <th>1</th>\n",
       "      <td>False</td>\n",
       "      <td>3</td>\n",
       "      <td>M</td>\n",
       "      <td>22.0</td>\n",
       "      <td>1</td>\n",
       "      <td>0</td>\n",
       "      <td>A/5 21171</td>\n",
       "      <td>7.2500</td>\n",
       "      <td>NaN</td>\n",
       "      <td>Southampton</td>\n",
       "    </tr>\n",
       "    <tr>\n",
       "      <th>2</th>\n",
       "      <td>True</td>\n",
       "      <td>1</td>\n",
       "      <td>F</td>\n",
       "      <td>38.0</td>\n",
       "      <td>1</td>\n",
       "      <td>0</td>\n",
       "      <td>PC 17599</td>\n",
       "      <td>71.2833</td>\n",
       "      <td>C85</td>\n",
       "      <td>Cherbourg</td>\n",
       "    </tr>\n",
       "    <tr>\n",
       "      <th>3</th>\n",
       "      <td>True</td>\n",
       "      <td>3</td>\n",
       "      <td>F</td>\n",
       "      <td>26.0</td>\n",
       "      <td>0</td>\n",
       "      <td>0</td>\n",
       "      <td>STON/O2. 3101282</td>\n",
       "      <td>7.9250</td>\n",
       "      <td>NaN</td>\n",
       "      <td>Southampton</td>\n",
       "    </tr>\n",
       "    <tr>\n",
       "      <th>4</th>\n",
       "      <td>True</td>\n",
       "      <td>1</td>\n",
       "      <td>F</td>\n",
       "      <td>35.0</td>\n",
       "      <td>1</td>\n",
       "      <td>0</td>\n",
       "      <td>113803</td>\n",
       "      <td>53.1000</td>\n",
       "      <td>C123</td>\n",
       "      <td>Southampton</td>\n",
       "    </tr>\n",
       "    <tr>\n",
       "      <th>5</th>\n",
       "      <td>False</td>\n",
       "      <td>3</td>\n",
       "      <td>M</td>\n",
       "      <td>35.0</td>\n",
       "      <td>0</td>\n",
       "      <td>0</td>\n",
       "      <td>373450</td>\n",
       "      <td>8.0500</td>\n",
       "      <td>NaN</td>\n",
       "      <td>Southampton</td>\n",
       "    </tr>\n",
       "  </tbody>\n",
       "</table>\n",
       "</div>"
      ],
      "text/plain": [
       "               sobreviveu  classe_bilhete genero  idade  \\\n",
       "id_passageiro                                             \n",
       "1                   False               3      M   22.0   \n",
       "2                    True               1      F   38.0   \n",
       "3                    True               3      F   26.0   \n",
       "4                    True               1      F   35.0   \n",
       "5                   False               3      M   35.0   \n",
       "\n",
       "               irmaos_conjuges_abordo  pais_filhos_abordo    numero_bilhete  \\\n",
       "id_passageiro                                                                 \n",
       "1                                   1                   0         A/5 21171   \n",
       "2                                   1                   0          PC 17599   \n",
       "3                                   0                   0  STON/O2. 3101282   \n",
       "4                                   1                   0            113803   \n",
       "5                                   0                   0            373450   \n",
       "\n",
       "               preco_bilhete cabine_numero local_embarque  \n",
       "id_passageiro                                              \n",
       "1                     7.2500           NaN    Southampton  \n",
       "2                    71.2833           C85      Cherbourg  \n",
       "3                     7.9250           NaN    Southampton  \n",
       "4                    53.1000          C123    Southampton  \n",
       "5                     8.0500           NaN    Southampton  "
      ]
     },
     "execution_count": 312,
     "metadata": {},
     "output_type": "execute_result"
    }
   ],
   "source": [
    "# Reimportando o conjunto de dados\n",
    "df = pd.read_csv(\"titanic.csv\").set_index(\"id_passageiro\")\n",
    "df.head()"
   ]
  },
  {
   "cell_type": "markdown",
   "metadata": {},
   "source": [
    "**Pré-processamento**"
   ]
  },
  {
   "cell_type": "markdown",
   "metadata": {},
   "source": [
    "Criação da coluna Convés a partir da coluna cabine numero e remoção da coluna cabine_numero"
   ]
  },
  {
   "cell_type": "code",
   "execution_count": 315,
   "metadata": {},
   "outputs": [
    {
     "data": {
      "text/html": [
       "<div>\n",
       "<style scoped>\n",
       "    .dataframe tbody tr th:only-of-type {\n",
       "        vertical-align: middle;\n",
       "    }\n",
       "\n",
       "    .dataframe tbody tr th {\n",
       "        vertical-align: top;\n",
       "    }\n",
       "\n",
       "    .dataframe thead th {\n",
       "        text-align: right;\n",
       "    }\n",
       "</style>\n",
       "<table border=\"1\" class=\"dataframe\">\n",
       "  <thead>\n",
       "    <tr style=\"text-align: right;\">\n",
       "      <th></th>\n",
       "      <th>conves</th>\n",
       "    </tr>\n",
       "  </thead>\n",
       "  <tbody>\n",
       "    <tr>\n",
       "      <th>0</th>\n",
       "      <td>C</td>\n",
       "    </tr>\n",
       "    <tr>\n",
       "      <th>1</th>\n",
       "      <td>C</td>\n",
       "    </tr>\n",
       "    <tr>\n",
       "      <th>2</th>\n",
       "      <td>E</td>\n",
       "    </tr>\n",
       "    <tr>\n",
       "      <th>3</th>\n",
       "      <td>G</td>\n",
       "    </tr>\n",
       "    <tr>\n",
       "      <th>4</th>\n",
       "      <td>C</td>\n",
       "    </tr>\n",
       "  </tbody>\n",
       "</table>\n",
       "</div>"
      ],
      "text/plain": [
       "  conves\n",
       "0      C\n",
       "1      C\n",
       "2      E\n",
       "3      G\n",
       "4      C"
      ]
     },
     "execution_count": 315,
     "metadata": {},
     "output_type": "execute_result"
    }
   ],
   "source": [
    "df_conves = df[df['cabine_numero'].notna()]\n",
    "df_conves = df_conves['cabine_numero'].apply(lambda x: x[0])\n",
    "df_conves = pd.DataFrame.from_records(df_conves.values, columns=['conves'])\n",
    "df_conves.head()"
   ]
  },
  {
   "cell_type": "markdown",
   "metadata": {},
   "source": [
    "Remoção das colunas cabine_numero, numero_bilhete e local_embarque."
   ]
  },
  {
   "cell_type": "code",
   "execution_count": 316,
   "metadata": {},
   "outputs": [
    {
     "data": {
      "text/html": [
       "<div>\n",
       "<style scoped>\n",
       "    .dataframe tbody tr th:only-of-type {\n",
       "        vertical-align: middle;\n",
       "    }\n",
       "\n",
       "    .dataframe tbody tr th {\n",
       "        vertical-align: top;\n",
       "    }\n",
       "\n",
       "    .dataframe thead th {\n",
       "        text-align: right;\n",
       "    }\n",
       "</style>\n",
       "<table border=\"1\" class=\"dataframe\">\n",
       "  <thead>\n",
       "    <tr style=\"text-align: right;\">\n",
       "      <th></th>\n",
       "      <th>sobreviveu</th>\n",
       "      <th>classe_bilhete</th>\n",
       "      <th>genero</th>\n",
       "      <th>idade</th>\n",
       "      <th>irmaos_conjuges_abordo</th>\n",
       "      <th>pais_filhos_abordo</th>\n",
       "      <th>preco_bilhete</th>\n",
       "    </tr>\n",
       "    <tr>\n",
       "      <th>id_passageiro</th>\n",
       "      <th></th>\n",
       "      <th></th>\n",
       "      <th></th>\n",
       "      <th></th>\n",
       "      <th></th>\n",
       "      <th></th>\n",
       "      <th></th>\n",
       "    </tr>\n",
       "  </thead>\n",
       "  <tbody>\n",
       "    <tr>\n",
       "      <th>1</th>\n",
       "      <td>False</td>\n",
       "      <td>3</td>\n",
       "      <td>M</td>\n",
       "      <td>22.0</td>\n",
       "      <td>1</td>\n",
       "      <td>0</td>\n",
       "      <td>7.2500</td>\n",
       "    </tr>\n",
       "    <tr>\n",
       "      <th>2</th>\n",
       "      <td>True</td>\n",
       "      <td>1</td>\n",
       "      <td>F</td>\n",
       "      <td>38.0</td>\n",
       "      <td>1</td>\n",
       "      <td>0</td>\n",
       "      <td>71.2833</td>\n",
       "    </tr>\n",
       "    <tr>\n",
       "      <th>3</th>\n",
       "      <td>True</td>\n",
       "      <td>3</td>\n",
       "      <td>F</td>\n",
       "      <td>26.0</td>\n",
       "      <td>0</td>\n",
       "      <td>0</td>\n",
       "      <td>7.9250</td>\n",
       "    </tr>\n",
       "    <tr>\n",
       "      <th>4</th>\n",
       "      <td>True</td>\n",
       "      <td>1</td>\n",
       "      <td>F</td>\n",
       "      <td>35.0</td>\n",
       "      <td>1</td>\n",
       "      <td>0</td>\n",
       "      <td>53.1000</td>\n",
       "    </tr>\n",
       "    <tr>\n",
       "      <th>5</th>\n",
       "      <td>False</td>\n",
       "      <td>3</td>\n",
       "      <td>M</td>\n",
       "      <td>35.0</td>\n",
       "      <td>0</td>\n",
       "      <td>0</td>\n",
       "      <td>8.0500</td>\n",
       "    </tr>\n",
       "  </tbody>\n",
       "</table>\n",
       "</div>"
      ],
      "text/plain": [
       "               sobreviveu  classe_bilhete genero  idade  \\\n",
       "id_passageiro                                             \n",
       "1                   False               3      M   22.0   \n",
       "2                    True               1      F   38.0   \n",
       "3                    True               3      F   26.0   \n",
       "4                    True               1      F   35.0   \n",
       "5                   False               3      M   35.0   \n",
       "\n",
       "               irmaos_conjuges_abordo  pais_filhos_abordo  preco_bilhete  \n",
       "id_passageiro                                                             \n",
       "1                                   1                   0         7.2500  \n",
       "2                                   1                   0        71.2833  \n",
       "3                                   0                   0         7.9250  \n",
       "4                                   1                   0        53.1000  \n",
       "5                                   0                   0         8.0500  "
      ]
     },
     "execution_count": 316,
     "metadata": {},
     "output_type": "execute_result"
    }
   ],
   "source": [
    "df.pop('cabine_numero')\n",
    "df.pop('numero_bilhete')\n",
    "df.pop('local_embarque')\n",
    "df.head()"
   ]
  },
  {
   "cell_type": "markdown",
   "metadata": {},
   "source": [
    "Merge com a coluna conves criada."
   ]
  },
  {
   "cell_type": "code",
   "execution_count": 317,
   "metadata": {},
   "outputs": [
    {
     "data": {
      "text/html": [
       "<div>\n",
       "<style scoped>\n",
       "    .dataframe tbody tr th:only-of-type {\n",
       "        vertical-align: middle;\n",
       "    }\n",
       "\n",
       "    .dataframe tbody tr th {\n",
       "        vertical-align: top;\n",
       "    }\n",
       "\n",
       "    .dataframe thead th {\n",
       "        text-align: right;\n",
       "    }\n",
       "</style>\n",
       "<table border=\"1\" class=\"dataframe\">\n",
       "  <thead>\n",
       "    <tr style=\"text-align: right;\">\n",
       "      <th></th>\n",
       "      <th>sobreviveu</th>\n",
       "      <th>classe_bilhete</th>\n",
       "      <th>genero</th>\n",
       "      <th>idade</th>\n",
       "      <th>irmaos_conjuges_abordo</th>\n",
       "      <th>pais_filhos_abordo</th>\n",
       "      <th>preco_bilhete</th>\n",
       "      <th>conves</th>\n",
       "    </tr>\n",
       "    <tr>\n",
       "      <th>id_passageiro</th>\n",
       "      <th></th>\n",
       "      <th></th>\n",
       "      <th></th>\n",
       "      <th></th>\n",
       "      <th></th>\n",
       "      <th></th>\n",
       "      <th></th>\n",
       "      <th></th>\n",
       "    </tr>\n",
       "  </thead>\n",
       "  <tbody>\n",
       "    <tr>\n",
       "      <th>1</th>\n",
       "      <td>False</td>\n",
       "      <td>3</td>\n",
       "      <td>M</td>\n",
       "      <td>22.0</td>\n",
       "      <td>1</td>\n",
       "      <td>0</td>\n",
       "      <td>7.2500</td>\n",
       "      <td>C</td>\n",
       "    </tr>\n",
       "    <tr>\n",
       "      <th>2</th>\n",
       "      <td>True</td>\n",
       "      <td>1</td>\n",
       "      <td>F</td>\n",
       "      <td>38.0</td>\n",
       "      <td>1</td>\n",
       "      <td>0</td>\n",
       "      <td>71.2833</td>\n",
       "      <td>E</td>\n",
       "    </tr>\n",
       "    <tr>\n",
       "      <th>3</th>\n",
       "      <td>True</td>\n",
       "      <td>3</td>\n",
       "      <td>F</td>\n",
       "      <td>26.0</td>\n",
       "      <td>0</td>\n",
       "      <td>0</td>\n",
       "      <td>7.9250</td>\n",
       "      <td>G</td>\n",
       "    </tr>\n",
       "    <tr>\n",
       "      <th>4</th>\n",
       "      <td>True</td>\n",
       "      <td>1</td>\n",
       "      <td>F</td>\n",
       "      <td>35.0</td>\n",
       "      <td>1</td>\n",
       "      <td>0</td>\n",
       "      <td>53.1000</td>\n",
       "      <td>C</td>\n",
       "    </tr>\n",
       "    <tr>\n",
       "      <th>5</th>\n",
       "      <td>False</td>\n",
       "      <td>3</td>\n",
       "      <td>M</td>\n",
       "      <td>35.0</td>\n",
       "      <td>0</td>\n",
       "      <td>0</td>\n",
       "      <td>8.0500</td>\n",
       "      <td>D</td>\n",
       "    </tr>\n",
       "  </tbody>\n",
       "</table>\n",
       "</div>"
      ],
      "text/plain": [
       "               sobreviveu  classe_bilhete genero  idade  \\\n",
       "id_passageiro                                             \n",
       "1                   False               3      M   22.0   \n",
       "2                    True               1      F   38.0   \n",
       "3                    True               3      F   26.0   \n",
       "4                    True               1      F   35.0   \n",
       "5                   False               3      M   35.0   \n",
       "\n",
       "               irmaos_conjuges_abordo  pais_filhos_abordo  preco_bilhete  \\\n",
       "id_passageiro                                                              \n",
       "1                                   1                   0         7.2500   \n",
       "2                                   1                   0        71.2833   \n",
       "3                                   0                   0         7.9250   \n",
       "4                                   1                   0        53.1000   \n",
       "5                                   0                   0         8.0500   \n",
       "\n",
       "              conves  \n",
       "id_passageiro         \n",
       "1                  C  \n",
       "2                  E  \n",
       "3                  G  \n",
       "4                  C  \n",
       "5                  D  "
      ]
     },
     "execution_count": 317,
     "metadata": {},
     "output_type": "execute_result"
    }
   ],
   "source": [
    "df = df.assign(conves=df_conves)\n",
    "df.head()"
   ]
  },
  {
   "cell_type": "markdown",
   "metadata": {},
   "source": [
    "Codificação dos dados da coluna sobreviveu."
   ]
  },
  {
   "cell_type": "code",
   "execution_count": 318,
   "metadata": {},
   "outputs": [
    {
     "data": {
      "text/html": [
       "<div>\n",
       "<style scoped>\n",
       "    .dataframe tbody tr th:only-of-type {\n",
       "        vertical-align: middle;\n",
       "    }\n",
       "\n",
       "    .dataframe tbody tr th {\n",
       "        vertical-align: top;\n",
       "    }\n",
       "\n",
       "    .dataframe thead th {\n",
       "        text-align: right;\n",
       "    }\n",
       "</style>\n",
       "<table border=\"1\" class=\"dataframe\">\n",
       "  <thead>\n",
       "    <tr style=\"text-align: right;\">\n",
       "      <th></th>\n",
       "      <th>sobreviveu</th>\n",
       "      <th>classe_bilhete</th>\n",
       "      <th>genero</th>\n",
       "      <th>idade</th>\n",
       "      <th>irmaos_conjuges_abordo</th>\n",
       "      <th>pais_filhos_abordo</th>\n",
       "      <th>preco_bilhete</th>\n",
       "      <th>conves</th>\n",
       "    </tr>\n",
       "    <tr>\n",
       "      <th>id_passageiro</th>\n",
       "      <th></th>\n",
       "      <th></th>\n",
       "      <th></th>\n",
       "      <th></th>\n",
       "      <th></th>\n",
       "      <th></th>\n",
       "      <th></th>\n",
       "      <th></th>\n",
       "    </tr>\n",
       "  </thead>\n",
       "  <tbody>\n",
       "    <tr>\n",
       "      <th>1</th>\n",
       "      <td>0</td>\n",
       "      <td>3</td>\n",
       "      <td>M</td>\n",
       "      <td>22.0</td>\n",
       "      <td>1</td>\n",
       "      <td>0</td>\n",
       "      <td>7.2500</td>\n",
       "      <td>C</td>\n",
       "    </tr>\n",
       "    <tr>\n",
       "      <th>2</th>\n",
       "      <td>1</td>\n",
       "      <td>1</td>\n",
       "      <td>F</td>\n",
       "      <td>38.0</td>\n",
       "      <td>1</td>\n",
       "      <td>0</td>\n",
       "      <td>71.2833</td>\n",
       "      <td>E</td>\n",
       "    </tr>\n",
       "    <tr>\n",
       "      <th>3</th>\n",
       "      <td>1</td>\n",
       "      <td>3</td>\n",
       "      <td>F</td>\n",
       "      <td>26.0</td>\n",
       "      <td>0</td>\n",
       "      <td>0</td>\n",
       "      <td>7.9250</td>\n",
       "      <td>G</td>\n",
       "    </tr>\n",
       "    <tr>\n",
       "      <th>4</th>\n",
       "      <td>1</td>\n",
       "      <td>1</td>\n",
       "      <td>F</td>\n",
       "      <td>35.0</td>\n",
       "      <td>1</td>\n",
       "      <td>0</td>\n",
       "      <td>53.1000</td>\n",
       "      <td>C</td>\n",
       "    </tr>\n",
       "    <tr>\n",
       "      <th>5</th>\n",
       "      <td>0</td>\n",
       "      <td>3</td>\n",
       "      <td>M</td>\n",
       "      <td>35.0</td>\n",
       "      <td>0</td>\n",
       "      <td>0</td>\n",
       "      <td>8.0500</td>\n",
       "      <td>D</td>\n",
       "    </tr>\n",
       "  </tbody>\n",
       "</table>\n",
       "</div>"
      ],
      "text/plain": [
       "               sobreviveu  classe_bilhete genero  idade  \\\n",
       "id_passageiro                                             \n",
       "1                       0               3      M   22.0   \n",
       "2                       1               1      F   38.0   \n",
       "3                       1               3      F   26.0   \n",
       "4                       1               1      F   35.0   \n",
       "5                       0               3      M   35.0   \n",
       "\n",
       "               irmaos_conjuges_abordo  pais_filhos_abordo  preco_bilhete  \\\n",
       "id_passageiro                                                              \n",
       "1                                   1                   0         7.2500   \n",
       "2                                   1                   0        71.2833   \n",
       "3                                   0                   0         7.9250   \n",
       "4                                   1                   0        53.1000   \n",
       "5                                   0                   0         8.0500   \n",
       "\n",
       "              conves  \n",
       "id_passageiro         \n",
       "1                  C  \n",
       "2                  E  \n",
       "3                  G  \n",
       "4                  C  \n",
       "5                  D  "
      ]
     },
     "execution_count": 318,
     "metadata": {},
     "output_type": "execute_result"
    }
   ],
   "source": [
    "df['sobreviveu'] = df['sobreviveu'].replace([False, True], [0, 1])\n",
    "df.head()"
   ]
  },
  {
   "cell_type": "markdown",
   "metadata": {},
   "source": [
    "Codificando os dados de genero."
   ]
  },
  {
   "cell_type": "code",
   "execution_count": 319,
   "metadata": {},
   "outputs": [
    {
     "data": {
      "text/html": [
       "<div>\n",
       "<style scoped>\n",
       "    .dataframe tbody tr th:only-of-type {\n",
       "        vertical-align: middle;\n",
       "    }\n",
       "\n",
       "    .dataframe tbody tr th {\n",
       "        vertical-align: top;\n",
       "    }\n",
       "\n",
       "    .dataframe thead th {\n",
       "        text-align: right;\n",
       "    }\n",
       "</style>\n",
       "<table border=\"1\" class=\"dataframe\">\n",
       "  <thead>\n",
       "    <tr style=\"text-align: right;\">\n",
       "      <th></th>\n",
       "      <th>sobreviveu</th>\n",
       "      <th>classe_bilhete</th>\n",
       "      <th>genero</th>\n",
       "      <th>idade</th>\n",
       "      <th>irmaos_conjuges_abordo</th>\n",
       "      <th>pais_filhos_abordo</th>\n",
       "      <th>preco_bilhete</th>\n",
       "      <th>conves</th>\n",
       "    </tr>\n",
       "    <tr>\n",
       "      <th>id_passageiro</th>\n",
       "      <th></th>\n",
       "      <th></th>\n",
       "      <th></th>\n",
       "      <th></th>\n",
       "      <th></th>\n",
       "      <th></th>\n",
       "      <th></th>\n",
       "      <th></th>\n",
       "    </tr>\n",
       "  </thead>\n",
       "  <tbody>\n",
       "    <tr>\n",
       "      <th>1</th>\n",
       "      <td>0</td>\n",
       "      <td>3</td>\n",
       "      <td>0</td>\n",
       "      <td>22.0</td>\n",
       "      <td>1</td>\n",
       "      <td>0</td>\n",
       "      <td>7.2500</td>\n",
       "      <td>C</td>\n",
       "    </tr>\n",
       "    <tr>\n",
       "      <th>2</th>\n",
       "      <td>1</td>\n",
       "      <td>1</td>\n",
       "      <td>1</td>\n",
       "      <td>38.0</td>\n",
       "      <td>1</td>\n",
       "      <td>0</td>\n",
       "      <td>71.2833</td>\n",
       "      <td>E</td>\n",
       "    </tr>\n",
       "    <tr>\n",
       "      <th>3</th>\n",
       "      <td>1</td>\n",
       "      <td>3</td>\n",
       "      <td>1</td>\n",
       "      <td>26.0</td>\n",
       "      <td>0</td>\n",
       "      <td>0</td>\n",
       "      <td>7.9250</td>\n",
       "      <td>G</td>\n",
       "    </tr>\n",
       "    <tr>\n",
       "      <th>4</th>\n",
       "      <td>1</td>\n",
       "      <td>1</td>\n",
       "      <td>1</td>\n",
       "      <td>35.0</td>\n",
       "      <td>1</td>\n",
       "      <td>0</td>\n",
       "      <td>53.1000</td>\n",
       "      <td>C</td>\n",
       "    </tr>\n",
       "    <tr>\n",
       "      <th>5</th>\n",
       "      <td>0</td>\n",
       "      <td>3</td>\n",
       "      <td>0</td>\n",
       "      <td>35.0</td>\n",
       "      <td>0</td>\n",
       "      <td>0</td>\n",
       "      <td>8.0500</td>\n",
       "      <td>D</td>\n",
       "    </tr>\n",
       "  </tbody>\n",
       "</table>\n",
       "</div>"
      ],
      "text/plain": [
       "               sobreviveu  classe_bilhete  genero  idade  \\\n",
       "id_passageiro                                              \n",
       "1                       0               3       0   22.0   \n",
       "2                       1               1       1   38.0   \n",
       "3                       1               3       1   26.0   \n",
       "4                       1               1       1   35.0   \n",
       "5                       0               3       0   35.0   \n",
       "\n",
       "               irmaos_conjuges_abordo  pais_filhos_abordo  preco_bilhete  \\\n",
       "id_passageiro                                                              \n",
       "1                                   1                   0         7.2500   \n",
       "2                                   1                   0        71.2833   \n",
       "3                                   0                   0         7.9250   \n",
       "4                                   1                   0        53.1000   \n",
       "5                                   0                   0         8.0500   \n",
       "\n",
       "              conves  \n",
       "id_passageiro         \n",
       "1                  C  \n",
       "2                  E  \n",
       "3                  G  \n",
       "4                  C  \n",
       "5                  D  "
      ]
     },
     "execution_count": 319,
     "metadata": {},
     "output_type": "execute_result"
    }
   ],
   "source": [
    "df['genero'] = df['genero'].replace(['M', 'F'], [0, 1])\n",
    "df.head()"
   ]
  },
  {
   "cell_type": "markdown",
   "metadata": {},
   "source": [
    "Codificação dos dados da coluna conves."
   ]
  },
  {
   "cell_type": "code",
   "execution_count": 320,
   "metadata": {},
   "outputs": [
    {
     "data": {
      "text/html": [
       "<div>\n",
       "<style scoped>\n",
       "    .dataframe tbody tr th:only-of-type {\n",
       "        vertical-align: middle;\n",
       "    }\n",
       "\n",
       "    .dataframe tbody tr th {\n",
       "        vertical-align: top;\n",
       "    }\n",
       "\n",
       "    .dataframe thead th {\n",
       "        text-align: right;\n",
       "    }\n",
       "</style>\n",
       "<table border=\"1\" class=\"dataframe\">\n",
       "  <thead>\n",
       "    <tr style=\"text-align: right;\">\n",
       "      <th></th>\n",
       "      <th>sobreviveu</th>\n",
       "      <th>classe_bilhete</th>\n",
       "      <th>genero</th>\n",
       "      <th>idade</th>\n",
       "      <th>irmaos_conjuges_abordo</th>\n",
       "      <th>pais_filhos_abordo</th>\n",
       "      <th>preco_bilhete</th>\n",
       "      <th>conves</th>\n",
       "    </tr>\n",
       "    <tr>\n",
       "      <th>id_passageiro</th>\n",
       "      <th></th>\n",
       "      <th></th>\n",
       "      <th></th>\n",
       "      <th></th>\n",
       "      <th></th>\n",
       "      <th></th>\n",
       "      <th></th>\n",
       "      <th></th>\n",
       "    </tr>\n",
       "  </thead>\n",
       "  <tbody>\n",
       "    <tr>\n",
       "      <th>1</th>\n",
       "      <td>0</td>\n",
       "      <td>3</td>\n",
       "      <td>0</td>\n",
       "      <td>22.0</td>\n",
       "      <td>1</td>\n",
       "      <td>0</td>\n",
       "      <td>7.2500</td>\n",
       "      <td>2.0</td>\n",
       "    </tr>\n",
       "    <tr>\n",
       "      <th>2</th>\n",
       "      <td>1</td>\n",
       "      <td>1</td>\n",
       "      <td>1</td>\n",
       "      <td>38.0</td>\n",
       "      <td>1</td>\n",
       "      <td>0</td>\n",
       "      <td>71.2833</td>\n",
       "      <td>4.0</td>\n",
       "    </tr>\n",
       "    <tr>\n",
       "      <th>3</th>\n",
       "      <td>1</td>\n",
       "      <td>3</td>\n",
       "      <td>1</td>\n",
       "      <td>26.0</td>\n",
       "      <td>0</td>\n",
       "      <td>0</td>\n",
       "      <td>7.9250</td>\n",
       "      <td>6.0</td>\n",
       "    </tr>\n",
       "    <tr>\n",
       "      <th>4</th>\n",
       "      <td>1</td>\n",
       "      <td>1</td>\n",
       "      <td>1</td>\n",
       "      <td>35.0</td>\n",
       "      <td>1</td>\n",
       "      <td>0</td>\n",
       "      <td>53.1000</td>\n",
       "      <td>2.0</td>\n",
       "    </tr>\n",
       "    <tr>\n",
       "      <th>5</th>\n",
       "      <td>0</td>\n",
       "      <td>3</td>\n",
       "      <td>0</td>\n",
       "      <td>35.0</td>\n",
       "      <td>0</td>\n",
       "      <td>0</td>\n",
       "      <td>8.0500</td>\n",
       "      <td>3.0</td>\n",
       "    </tr>\n",
       "  </tbody>\n",
       "</table>\n",
       "</div>"
      ],
      "text/plain": [
       "               sobreviveu  classe_bilhete  genero  idade  \\\n",
       "id_passageiro                                              \n",
       "1                       0               3       0   22.0   \n",
       "2                       1               1       1   38.0   \n",
       "3                       1               3       1   26.0   \n",
       "4                       1               1       1   35.0   \n",
       "5                       0               3       0   35.0   \n",
       "\n",
       "               irmaos_conjuges_abordo  pais_filhos_abordo  preco_bilhete  \\\n",
       "id_passageiro                                                              \n",
       "1                                   1                   0         7.2500   \n",
       "2                                   1                   0        71.2833   \n",
       "3                                   0                   0         7.9250   \n",
       "4                                   1                   0        53.1000   \n",
       "5                                   0                   0         8.0500   \n",
       "\n",
       "               conves  \n",
       "id_passageiro          \n",
       "1                 2.0  \n",
       "2                 4.0  \n",
       "3                 6.0  \n",
       "4                 2.0  \n",
       "5                 3.0  "
      ]
     },
     "execution_count": 320,
     "metadata": {},
     "output_type": "execute_result"
    }
   ],
   "source": [
    "df['conves'] = df['conves'].replace(['A', 'B', 'C', 'D', 'E', 'F', 'G', 'T'], [0, 1, 2, 3, 4, 5, 6, 7])\n",
    "df.head()"
   ]
  },
  {
   "cell_type": "markdown",
   "metadata": {},
   "source": [
    "Tratamento dos dados faltantes na coluna conves, usando imputação por mediana."
   ]
  },
  {
   "cell_type": "code",
   "execution_count": 321,
   "metadata": {},
   "outputs": [
    {
     "data": {
      "text/html": [
       "<div>\n",
       "<style scoped>\n",
       "    .dataframe tbody tr th:only-of-type {\n",
       "        vertical-align: middle;\n",
       "    }\n",
       "\n",
       "    .dataframe tbody tr th {\n",
       "        vertical-align: top;\n",
       "    }\n",
       "\n",
       "    .dataframe thead th {\n",
       "        text-align: right;\n",
       "    }\n",
       "</style>\n",
       "<table border=\"1\" class=\"dataframe\">\n",
       "  <thead>\n",
       "    <tr style=\"text-align: right;\">\n",
       "      <th></th>\n",
       "      <th>sobreviveu</th>\n",
       "      <th>classe_bilhete</th>\n",
       "      <th>genero</th>\n",
       "      <th>idade</th>\n",
       "      <th>irmaos_conjuges_abordo</th>\n",
       "      <th>pais_filhos_abordo</th>\n",
       "      <th>preco_bilhete</th>\n",
       "      <th>conves</th>\n",
       "    </tr>\n",
       "    <tr>\n",
       "      <th>id_passageiro</th>\n",
       "      <th></th>\n",
       "      <th></th>\n",
       "      <th></th>\n",
       "      <th></th>\n",
       "      <th></th>\n",
       "      <th></th>\n",
       "      <th></th>\n",
       "      <th></th>\n",
       "    </tr>\n",
       "  </thead>\n",
       "  <tbody>\n",
       "  </tbody>\n",
       "</table>\n",
       "</div>"
      ],
      "text/plain": [
       "Empty DataFrame\n",
       "Columns: [sobreviveu, classe_bilhete, genero, idade, irmaos_conjuges_abordo, pais_filhos_abordo, preco_bilhete, conves]\n",
       "Index: []"
      ]
     },
     "execution_count": 321,
     "metadata": {},
     "output_type": "execute_result"
    }
   ],
   "source": [
    "df['conves'] = df['conves'].fillna(df['conves'].median())\n",
    "df[df['conves'].isna()]"
   ]
  },
  {
   "cell_type": "markdown",
   "metadata": {},
   "source": [
    "Tratamento dos dados faltantes na coluna idade, usando imputação por média."
   ]
  },
  {
   "cell_type": "code",
   "execution_count": 322,
   "metadata": {},
   "outputs": [
    {
     "data": {
      "text/html": [
       "<div>\n",
       "<style scoped>\n",
       "    .dataframe tbody tr th:only-of-type {\n",
       "        vertical-align: middle;\n",
       "    }\n",
       "\n",
       "    .dataframe tbody tr th {\n",
       "        vertical-align: top;\n",
       "    }\n",
       "\n",
       "    .dataframe thead th {\n",
       "        text-align: right;\n",
       "    }\n",
       "</style>\n",
       "<table border=\"1\" class=\"dataframe\">\n",
       "  <thead>\n",
       "    <tr style=\"text-align: right;\">\n",
       "      <th></th>\n",
       "      <th>sobreviveu</th>\n",
       "      <th>classe_bilhete</th>\n",
       "      <th>genero</th>\n",
       "      <th>idade</th>\n",
       "      <th>irmaos_conjuges_abordo</th>\n",
       "      <th>pais_filhos_abordo</th>\n",
       "      <th>preco_bilhete</th>\n",
       "      <th>conves</th>\n",
       "    </tr>\n",
       "    <tr>\n",
       "      <th>id_passageiro</th>\n",
       "      <th></th>\n",
       "      <th></th>\n",
       "      <th></th>\n",
       "      <th></th>\n",
       "      <th></th>\n",
       "      <th></th>\n",
       "      <th></th>\n",
       "      <th></th>\n",
       "    </tr>\n",
       "  </thead>\n",
       "  <tbody>\n",
       "  </tbody>\n",
       "</table>\n",
       "</div>"
      ],
      "text/plain": [
       "Empty DataFrame\n",
       "Columns: [sobreviveu, classe_bilhete, genero, idade, irmaos_conjuges_abordo, pais_filhos_abordo, preco_bilhete, conves]\n",
       "Index: []"
      ]
     },
     "execution_count": 322,
     "metadata": {},
     "output_type": "execute_result"
    }
   ],
   "source": [
    "df['idade'] = df['idade'].fillna(df['idade'].mean())\n",
    "df[df['idade'].isna()]"
   ]
  },
  {
   "cell_type": "markdown",
   "metadata": {},
   "source": [
    "Tratamento de outliers."
   ]
  },
  {
   "cell_type": "code",
   "execution_count": 323,
   "metadata": {},
   "outputs": [
    {
     "data": {
      "text/html": [
       "<div>\n",
       "<style scoped>\n",
       "    .dataframe tbody tr th:only-of-type {\n",
       "        vertical-align: middle;\n",
       "    }\n",
       "\n",
       "    .dataframe tbody tr th {\n",
       "        vertical-align: top;\n",
       "    }\n",
       "\n",
       "    .dataframe thead th {\n",
       "        text-align: right;\n",
       "    }\n",
       "</style>\n",
       "<table border=\"1\" class=\"dataframe\">\n",
       "  <thead>\n",
       "    <tr style=\"text-align: right;\">\n",
       "      <th></th>\n",
       "      <th>sobreviveu</th>\n",
       "      <th>classe_bilhete</th>\n",
       "      <th>genero</th>\n",
       "      <th>idade</th>\n",
       "      <th>irmaos_conjuges_abordo</th>\n",
       "      <th>pais_filhos_abordo</th>\n",
       "      <th>preco_bilhete</th>\n",
       "      <th>conves</th>\n",
       "    </tr>\n",
       "    <tr>\n",
       "      <th>id_passageiro</th>\n",
       "      <th></th>\n",
       "      <th></th>\n",
       "      <th></th>\n",
       "      <th></th>\n",
       "      <th></th>\n",
       "      <th></th>\n",
       "      <th></th>\n",
       "      <th></th>\n",
       "    </tr>\n",
       "  </thead>\n",
       "  <tbody>\n",
       "    <tr>\n",
       "      <th>1</th>\n",
       "      <td>0</td>\n",
       "      <td>3</td>\n",
       "      <td>0</td>\n",
       "      <td>22.000000</td>\n",
       "      <td>1</td>\n",
       "      <td>0</td>\n",
       "      <td>7.2500</td>\n",
       "      <td>2.0</td>\n",
       "    </tr>\n",
       "    <tr>\n",
       "      <th>2</th>\n",
       "      <td>1</td>\n",
       "      <td>1</td>\n",
       "      <td>1</td>\n",
       "      <td>38.000000</td>\n",
       "      <td>1</td>\n",
       "      <td>0</td>\n",
       "      <td>71.2833</td>\n",
       "      <td>4.0</td>\n",
       "    </tr>\n",
       "    <tr>\n",
       "      <th>3</th>\n",
       "      <td>1</td>\n",
       "      <td>3</td>\n",
       "      <td>1</td>\n",
       "      <td>26.000000</td>\n",
       "      <td>0</td>\n",
       "      <td>0</td>\n",
       "      <td>7.9250</td>\n",
       "      <td>6.0</td>\n",
       "    </tr>\n",
       "    <tr>\n",
       "      <th>4</th>\n",
       "      <td>1</td>\n",
       "      <td>1</td>\n",
       "      <td>1</td>\n",
       "      <td>35.000000</td>\n",
       "      <td>1</td>\n",
       "      <td>0</td>\n",
       "      <td>53.1000</td>\n",
       "      <td>2.0</td>\n",
       "    </tr>\n",
       "    <tr>\n",
       "      <th>5</th>\n",
       "      <td>0</td>\n",
       "      <td>3</td>\n",
       "      <td>0</td>\n",
       "      <td>35.000000</td>\n",
       "      <td>0</td>\n",
       "      <td>0</td>\n",
       "      <td>8.0500</td>\n",
       "      <td>3.0</td>\n",
       "    </tr>\n",
       "    <tr>\n",
       "      <th>...</th>\n",
       "      <td>...</td>\n",
       "      <td>...</td>\n",
       "      <td>...</td>\n",
       "      <td>...</td>\n",
       "      <td>...</td>\n",
       "      <td>...</td>\n",
       "      <td>...</td>\n",
       "      <td>...</td>\n",
       "    </tr>\n",
       "    <tr>\n",
       "      <th>887</th>\n",
       "      <td>0</td>\n",
       "      <td>2</td>\n",
       "      <td>0</td>\n",
       "      <td>27.000000</td>\n",
       "      <td>0</td>\n",
       "      <td>0</td>\n",
       "      <td>13.0000</td>\n",
       "      <td>2.0</td>\n",
       "    </tr>\n",
       "    <tr>\n",
       "      <th>888</th>\n",
       "      <td>1</td>\n",
       "      <td>1</td>\n",
       "      <td>1</td>\n",
       "      <td>19.000000</td>\n",
       "      <td>0</td>\n",
       "      <td>0</td>\n",
       "      <td>30.0000</td>\n",
       "      <td>2.0</td>\n",
       "    </tr>\n",
       "    <tr>\n",
       "      <th>889</th>\n",
       "      <td>0</td>\n",
       "      <td>3</td>\n",
       "      <td>1</td>\n",
       "      <td>29.699118</td>\n",
       "      <td>1</td>\n",
       "      <td>2</td>\n",
       "      <td>23.4500</td>\n",
       "      <td>2.0</td>\n",
       "    </tr>\n",
       "    <tr>\n",
       "      <th>890</th>\n",
       "      <td>1</td>\n",
       "      <td>1</td>\n",
       "      <td>0</td>\n",
       "      <td>26.000000</td>\n",
       "      <td>0</td>\n",
       "      <td>0</td>\n",
       "      <td>30.0000</td>\n",
       "      <td>2.0</td>\n",
       "    </tr>\n",
       "    <tr>\n",
       "      <th>891</th>\n",
       "      <td>0</td>\n",
       "      <td>3</td>\n",
       "      <td>0</td>\n",
       "      <td>32.000000</td>\n",
       "      <td>0</td>\n",
       "      <td>0</td>\n",
       "      <td>7.7500</td>\n",
       "      <td>2.0</td>\n",
       "    </tr>\n",
       "  </tbody>\n",
       "</table>\n",
       "<p>825 rows × 8 columns</p>\n",
       "</div>"
      ],
      "text/plain": [
       "               sobreviveu  classe_bilhete  genero      idade  \\\n",
       "id_passageiro                                                  \n",
       "1                       0               3       0  22.000000   \n",
       "2                       1               1       1  38.000000   \n",
       "3                       1               3       1  26.000000   \n",
       "4                       1               1       1  35.000000   \n",
       "5                       0               3       0  35.000000   \n",
       "...                   ...             ...     ...        ...   \n",
       "887                     0               2       0  27.000000   \n",
       "888                     1               1       1  19.000000   \n",
       "889                     0               3       1  29.699118   \n",
       "890                     1               1       0  26.000000   \n",
       "891                     0               3       0  32.000000   \n",
       "\n",
       "               irmaos_conjuges_abordo  pais_filhos_abordo  preco_bilhete  \\\n",
       "id_passageiro                                                              \n",
       "1                                   1                   0         7.2500   \n",
       "2                                   1                   0        71.2833   \n",
       "3                                   0                   0         7.9250   \n",
       "4                                   1                   0        53.1000   \n",
       "5                                   0                   0         8.0500   \n",
       "...                               ...                 ...            ...   \n",
       "887                                 0                   0        13.0000   \n",
       "888                                 0                   0        30.0000   \n",
       "889                                 1                   2        23.4500   \n",
       "890                                 0                   0        30.0000   \n",
       "891                                 0                   0         7.7500   \n",
       "\n",
       "               conves  \n",
       "id_passageiro          \n",
       "1                 2.0  \n",
       "2                 4.0  \n",
       "3                 6.0  \n",
       "4                 2.0  \n",
       "5                 3.0  \n",
       "...               ...  \n",
       "887               2.0  \n",
       "888               2.0  \n",
       "889               2.0  \n",
       "890               2.0  \n",
       "891               2.0  \n",
       "\n",
       "[825 rows x 8 columns]"
      ]
     },
     "execution_count": 323,
     "metadata": {},
     "output_type": "execute_result"
    }
   ],
   "source": [
    "df.drop(outliers)"
   ]
  },
  {
   "cell_type": "markdown",
   "metadata": {},
   "source": [
    "Normalização das colunas preco_bilhete e idade."
   ]
  },
  {
   "cell_type": "code",
   "execution_count": 324,
   "metadata": {},
   "outputs": [],
   "source": [
    "def normalize(data):\n",
    "  return (data-data.min())/(data.max()-data.min())\n",
    "\n",
    "df['idade'] = normalize(df['idade'].values)\n",
    "df['preco_bilhete'] = normalize(df['preco_bilhete'].values)"
   ]
  },
  {
   "cell_type": "markdown",
   "metadata": {},
   "source": [
    "Definição dos dados de entrada e saída."
   ]
  },
  {
   "cell_type": "code",
   "execution_count": 325,
   "metadata": {},
   "outputs": [],
   "source": [
    "X = df\n",
    "y = df.pop('sobreviveu')"
   ]
  },
  {
   "cell_type": "markdown",
   "metadata": {},
   "source": [
    "Importação das funções a serem utilizadas."
   ]
  },
  {
   "cell_type": "code",
   "execution_count": 326,
   "metadata": {},
   "outputs": [],
   "source": [
    "from sklearn.model_selection import train_test_split\n",
    "from sklearn.metrics import confusion_matrix, ConfusionMatrixDisplay\n",
    "from sklearn.metrics import accuracy_score, precision_score"
   ]
  },
  {
   "cell_type": "markdown",
   "metadata": {},
   "source": [
    "Importação dos modelos a serem utilizados."
   ]
  },
  {
   "cell_type": "code",
   "execution_count": 327,
   "metadata": {},
   "outputs": [],
   "source": [
    "from sklearn.tree import DecisionTreeClassifier\n",
    "from sklearn.ensemble import RandomForestClassifier\n",
    "from sklearn.linear_model import LogisticRegression\n",
    "from xgboost import XGBClassifier\n",
    "from sklearn.naive_bayes import GaussianNB"
   ]
  },
  {
   "cell_type": "markdown",
   "metadata": {},
   "source": [
    "Definição dos dados de treino e teste."
   ]
  },
  {
   "cell_type": "code",
   "execution_count": 328,
   "metadata": {},
   "outputs": [],
   "source": [
    "X_train, X_test, y_train, y_test = train_test_split(X, y, random_state=42)"
   ]
  },
  {
   "cell_type": "markdown",
   "metadata": {},
   "source": [
    "Instanciação de cada modelo."
   ]
  },
  {
   "cell_type": "code",
   "execution_count": 334,
   "metadata": {},
   "outputs": [],
   "source": [
    "def classification(X_train, X_test, y_train, y_test):\n",
    "  models = {}\n",
    "  results = {'Model':[], 'Accuracy':[], 'Precision':[]}\n",
    "\n",
    "  models['DecisionTreeClassifier'] = {'Model':DecisionTreeClassifier(), 'Result': None}\n",
    "  models['RandomForestClassifier'] = {'Model':RandomForestClassifier(), 'Result': None}\n",
    "  models['LogisticRegression'] = {'Model':LogisticRegression(), 'Result': None}\n",
    "  models['XGBClassifier'] = {'Model':XGBClassifier(n_estimators=2, max_depth=2, learning_rate=1, objective='binary:logistic'), 'Result': None}\n",
    "  models['NaiveBayes'] = {'Model':GaussianNB(), 'Result': None}\n",
    "\n",
    "  for name, _ in models.items():\n",
    "    model = models[name]['Model']\n",
    "    model.fit(X_train, y_train)\n",
    "    predictions = model.predict(X_test)\n",
    "    models[name]['Result'] = predictions\n",
    "\n",
    "    results['Model'].append(name)\n",
    "    results['Accuracy'].append(accuracy_score(predictions, y_test))\n",
    "    results['Precision'].append(precision_score(predictions, y_test))\n",
    "\n",
    "  return results, models\n",
    "\n",
    "results, models = classification(X_train, X_test, y_train, y_test)"
   ]
  },
  {
   "cell_type": "code",
   "execution_count": 335,
   "metadata": {},
   "outputs": [
    {
     "data": {
      "text/html": [
       "<div>\n",
       "<style scoped>\n",
       "    .dataframe tbody tr th:only-of-type {\n",
       "        vertical-align: middle;\n",
       "    }\n",
       "\n",
       "    .dataframe tbody tr th {\n",
       "        vertical-align: top;\n",
       "    }\n",
       "\n",
       "    .dataframe thead th {\n",
       "        text-align: right;\n",
       "    }\n",
       "</style>\n",
       "<table border=\"1\" class=\"dataframe\">\n",
       "  <thead>\n",
       "    <tr style=\"text-align: right;\">\n",
       "      <th></th>\n",
       "      <th>Model</th>\n",
       "      <th>Accuracy</th>\n",
       "      <th>Precision</th>\n",
       "    </tr>\n",
       "  </thead>\n",
       "  <tbody>\n",
       "    <tr>\n",
       "      <th>0</th>\n",
       "      <td>DecisionTreeClassifier</td>\n",
       "      <td>0.735426</td>\n",
       "      <td>0.696629</td>\n",
       "    </tr>\n",
       "    <tr>\n",
       "      <th>1</th>\n",
       "      <td>RandomForestClassifier</td>\n",
       "      <td>0.811659</td>\n",
       "      <td>0.719101</td>\n",
       "    </tr>\n",
       "    <tr>\n",
       "      <th>2</th>\n",
       "      <td>LogisticRegression</td>\n",
       "      <td>0.798206</td>\n",
       "      <td>0.696629</td>\n",
       "    </tr>\n",
       "    <tr>\n",
       "      <th>3</th>\n",
       "      <td>XGBClassifier</td>\n",
       "      <td>0.780269</td>\n",
       "      <td>0.719101</td>\n",
       "    </tr>\n",
       "    <tr>\n",
       "      <th>4</th>\n",
       "      <td>NaiveBayes</td>\n",
       "      <td>0.780269</td>\n",
       "      <td>0.707865</td>\n",
       "    </tr>\n",
       "  </tbody>\n",
       "</table>\n",
       "</div>"
      ],
      "text/plain": [
       "                    Model  Accuracy  Precision\n",
       "0  DecisionTreeClassifier  0.735426   0.696629\n",
       "1  RandomForestClassifier  0.811659   0.719101\n",
       "2      LogisticRegression  0.798206   0.696629\n",
       "3           XGBClassifier  0.780269   0.719101\n",
       "4              NaiveBayes  0.780269   0.707865"
      ]
     },
     "execution_count": 335,
     "metadata": {},
     "output_type": "execute_result"
    }
   ],
   "source": [
    "results = pd.DataFrame(results)\n",
    "results"
   ]
  },
  {
   "cell_type": "markdown",
   "metadata": {},
   "source": [
    "## Perguntas do Desafio  - Modelo:"
   ]
  },
  {
   "cell_type": "markdown",
   "metadata": {},
   "source": [
    "#### Quais etapas de processamento foram realizadas e o porquê de cada uma?\n",
    "- Responda de maneira superficial uma vez que você já mostrou via código o que foi feito, quais as etapas do seu dado desde que ele é carregado pelo pandas até ser fornecido ao modelo durante o treinamento."
   ]
  },
  {
   "cell_type": "markdown",
   "metadata": {},
   "source": [
    "**Etapas realizadas:**\n",
    "- Preprocessamento\n",
    "  - Remoção de colunas desnecessárias\n",
    "  - Criação de novas features\n",
    "  - Codificação das colunas nominais\n",
    "  - Tratamento de dados faltantes\n",
    "  - Tratamento de outliers\n",
    "  - Normalização de dados\n",
    "- Modelos\n",
    "  - Instanciação dos modelos a serem utilizados da lib ScikitLearn\n",
    "  - Treinamento dos modelos\n",
    "  - Aquisição das métricas"
   ]
  },
  {
   "cell_type": "markdown",
   "metadata": {},
   "source": [
    "#### Dos modelos testados qual foi melhor? Porque? Apresenta as métricas do seu melhor modelo.\n",
    "- Sabendo que você testou pelo menos 2 modelos diferentes, como você definiu o que é o melhor e qual é o melhor."
   ]
  },
  {
   "cell_type": "markdown",
   "metadata": {},
   "source": [
    "O melhor modelo foi o RandomForestClassifier. Este modelo foi o melhor dada a sua adaptabilidade ao conjunto de dados utilizando n árvores e, para cada uma, fazendo um processamento condicional chegando a uma classificação e ao final comparando as classificações de todas as árvores e a com mais \"votos\", sendo definida como o resultado final."
   ]
  },
  {
   "cell_type": "markdown",
   "metadata": {},
   "source": [
    "#### Seu  melhor modelo comete erros? Quais os pontos fracos dele?\n",
    "- Saber os pontos fracos de seu modelo é crucial durante o seu uso, tente identificar com uma matriz confusão onde o seu modelo erra e o perfil do dado que ele erra."
   ]
  },
  {
   "cell_type": "code",
   "execution_count": 331,
   "metadata": {},
   "outputs": [
    {
     "name": "stdout",
     "output_type": "stream",
     "text": [
      "RandomForestClassifier\n"
     ]
    },
    {
     "data": {
      "image/png": "[encoded data removed]",
      "text/plain": [
       "<Figure size 640x480 with 2 Axes>"
      ]
     },
     "metadata": {},
     "output_type": "display_data"
    }
   ],
   "source": [
    "def plot_confusion_matrix(y_test, name, model_y_pred):\n",
    "  print(name)\n",
    "  ConfusionMatrixDisplay(confusion_matrix=confusion_matrix(y_test, model_y_pred)).plot()\n",
    "  plt.show()\n",
    "\n",
    "# for name, model in models.items():\n",
    "#   plot_confusion_matrix(y_test, name, models[name]['Model'], models[name]['Result'])\n",
    "\n",
    "name = 'RandomForestClassifier'\n",
    "plot_confusion_matrix(y_test, name, models[name]['Result'])"
   ]
  }
 ],
 "metadata": {
  "kernelspec": {
   "display_name": "trilhacc",
   "language": "python",
   "name": "python3"
  },
  "language_info": {
   "codemirror_mode": {
    "name": "ipython",
    "version": 3
   },
   "file_extension": ".py",
   "mimetype": "text/x-python",
   "name": "python",
   "nbconvert_exporter": "python",
   "pygments_lexer": "ipython3",
   "version": "3.11.4"
  },
  "orig_nbformat": 4
 },
 "nbformat": 4,
 "nbformat_minor": 2
}
