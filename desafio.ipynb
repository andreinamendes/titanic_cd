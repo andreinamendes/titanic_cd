{
 "cells": [
  {
   "cell_type": "markdown",
   "metadata": {},
   "source": [
    "# Desafio Trilha de Ciência de Dados"
   ]
  },
  {
   "cell_type": "code",
   "execution_count": 2,
   "metadata": {},
   "outputs": [],
   "source": [
    "import pandas as pd\n",
    "import seaborn as sns\n",
    "from matplotlib import pyplot as plt\n",
    "import numpy as np"
   ]
  },
  {
   "cell_type": "code",
   "execution_count": null,
   "metadata": {},
   "outputs": [],
   "source": [
    "df = pd.read_csv(\"titanic.csv\").set_index(\"id_passageiro\")\n",
    "df.head()"
   ]
  },
  {
   "cell_type": "code",
   "execution_count": null,
   "metadata": {},
   "outputs": [],
   "source": [
    "df.info()"
   ]
  },
  {
   "cell_type": "code",
   "execution_count": null,
   "metadata": {},
   "outputs": [],
   "source": [
    "df.describe()"
   ]
  },
  {
   "cell_type": "markdown",
   "metadata": {},
   "source": [
    "## EDA"
   ]
  },
  {
   "cell_type": "markdown",
   "metadata": {},
   "source": [
    "###  Visualize e entenda todas as colunas numéricas."
   ]
  },
  {
   "cell_type": "code",
   "execution_count": 7,
   "metadata": {},
   "outputs": [],
   "source": [
    "numerical = [\n",
    "    \"idade\",\n",
    "    \"preco_bilhete\",\n",
    "    \"irmaos_conjuges_abordo\",\n",
    "    \"pais_filhos_abordo\",\n",
    "]"
   ]
  },
  {
   "cell_type": "markdown",
   "metadata": {},
   "source": [
    "#### Perguntas guias para as categorias numéricas:"
   ]
  },
  {
   "cell_type": "markdown",
   "metadata": {},
   "source": [
    "- Existem dados faltantes no seu conjunto?"
   ]
  },
  {
   "cell_type": "markdown",
   "metadata": {},
   "source": [
    "**Resposta:** Sim, como mostrado no código abaixo, a coluna idade tem um total de 177 dados faltantes."
   ]
  },
  {
   "cell_type": "code",
   "execution_count": 8,
   "metadata": {},
   "outputs": [
    {
     "data": {
      "text/html": [
       "<div>\n",
       "<style scoped>\n",
       "    .dataframe tbody tr th:only-of-type {\n",
       "        vertical-align: middle;\n",
       "    }\n",
       "\n",
       "    .dataframe tbody tr th {\n",
       "        vertical-align: top;\n",
       "    }\n",
       "\n",
       "    .dataframe thead th {\n",
       "        text-align: right;\n",
       "    }\n",
       "</style>\n",
       "<table border=\"1\" class=\"dataframe\">\n",
       "  <thead>\n",
       "    <tr style=\"text-align: right;\">\n",
       "      <th></th>\n",
       "      <th>Count</th>\n",
       "      <th>Column</th>\n",
       "    </tr>\n",
       "  </thead>\n",
       "  <tbody>\n",
       "    <tr>\n",
       "      <th>0</th>\n",
       "      <td>177</td>\n",
       "      <td>idade</td>\n",
       "    </tr>\n",
       "  </tbody>\n",
       "</table>\n",
       "</div>"
      ],
      "text/plain": [
       "   Count Column\n",
       "0    177  idade"
      ]
     },
     "execution_count": 8,
     "metadata": {},
     "output_type": "execute_result"
    }
   ],
   "source": [
    "def get_missing_data_columns(df):\n",
    "  # Pegando o valor total de dados faltantes para o dataframe repassado\n",
    "  missing_data_size = df.isnull().sum()\n",
    "  #\n",
    "  missing_data_columns = ((missing_data_size[missing_data_size > 0]).sort_values(ascending=False).to_frame(name='Count'))\n",
    "  #\n",
    "  missing_data_columns = (missing_data_columns.assign(Column=missing_data_columns.index)).reset_index(drop=True)\n",
    "\n",
    "  return missing_data_columns\n",
    "\n",
    "# Passando todos os dados para a categoria de variáveis discretas para a função de pegar os valores faltantes.\n",
    "missing_discret_data = get_missing_data_columns(df.loc[:,numerical])\n",
    "missing_discret_data"
   ]
  },
  {
   "cell_type": "markdown",
   "metadata": {},
   "source": [
    "Na plotagem abaixo podemos visualizar que os dados faltantes representam um total de 19.87% em relação ao total da amostra."
   ]
  },
  {
   "cell_type": "code",
   "execution_count": null,
   "metadata": {},
   "outputs": [],
   "source": [
    "def plot_missing_data(missing_data_columns):\n",
    "  # Define uma figura de tamanho (6, 2) para comportar a plotagem\n",
    "  plt.figure(figsize=(6, 2))\n",
    "  # Plotagem de um gráfico de barras na horizontal mostrando a quantidade de dados faltantes por colunas\n",
    "  ax = sns.barplot(data=missing_data_columns, x='Count', y='Column', color=\"#00853B\")\n",
    "  # Remoção do contorno do gráfico de barras para facilitar a visualização\n",
    "  sns.despine(left=True, bottom=True)\n",
    "  # Modificação da label do gráfico para ser equivalente a porcentagem em relação ao tamanho total da amostra\n",
    "  ax.bar_label(ax.containers[0], labels=[f\"{i:.2f}%\" for i in missing_data_columns.Count.astype(int) / len(df) * 100])\n",
    "  # Definição do subtítulo do gráfico\n",
    "  plt.suptitle(\"Missing data distribuition\", ha='left', va='top', x=-.1, fontweight='bold')\n",
    "  # Mostrando a figura final\n",
    "  plt.show()\n",
    "\n",
    "plot_missing_data(missing_discret_data)"
   ]
  },
  {
   "cell_type": "markdown",
   "metadata": {},
   "source": [
    "- Quais as suas distribuições?"
   ]
  },
  {
   "cell_type": "markdown",
   "metadata": {},
   "source": [
    "**Resposta:** Abaixo temos a distribuição de cada coluna especificada como variável numérica no formato de um histograma. Podemos notar que a maioria das idades estão 20 e 40 anos de idade, assim como a maioria dos bilhetes tiveram seu preço menor que R$ 100,00. Podemos notar também que mais da metade dos passageiros levaram nenhum ou apenas um irmão ou cônjuge. Também ressalta-se que mais da metade dos passageiros levaram nenhum ou um pais/filhos."
   ]
  },
  {
   "cell_type": "code",
   "execution_count": null,
   "metadata": {},
   "outputs": [],
   "source": [
    "def plot_distribution_discret_variables(df):\n",
    "  # Define uma figura de tamanho (6, 2) para comportar a plotagem dos 4 histogramas no layout de uma matriz (2, 2)\n",
    "  fig, axes = plt.subplots(4, 2, figsize=(10, 10), sharey=True)\n",
    "  # Definição do subtítulo do gráfico\n",
    "  fig.suptitle('Discrete variable distribution')\n",
    "  # Criação de um histograma de distribuição dos valores associados a coluna idade\n",
    "  sns.histplot(ax=axes[0][0], x=\"idade\", data=df, color=\"#00853B\", kde=True)\n",
    "  sns.scatterplot(ax=axes[0][1], data=df['idade'], color=\"#00853B\")\n",
    "  # Criação de um histograma de distribuição dos valores associados a coluna preco_bilhete\n",
    "  sns.histplot(ax=axes[1][0], x=\"preco_bilhete\", data=df, color=\"#00853B\", bins=10, kde=True)\n",
    "  sns.scatterplot(ax=axes[1][1], data=df['preco_bilhete'], color=\"#00853B\")\n",
    "  # Criação de um histograma de distribuição dos valores associados a coluna irmaos_conjuges_abordo\n",
    "  sns.histplot(ax=axes[2][0], x=\"irmaos_conjuges_abordo\", data=df, color=\"#00853B\", kde=True)\n",
    "  sns.scatterplot(ax=axes[2][1], data=df['irmaos_conjuges_abordo'], color=\"#00853B\")\n",
    "  # Criação de um histograma de distribuição dos valores associados a coluna pais_filhos_abordo\n",
    "  sns.histplot(ax=axes[3][0], x=\"pais_filhos_abordo\", data=df, color=\"#00853B\", kde=True)\n",
    "  sns.scatterplot(ax=axes[3][1], data=df['pais_filhos_abordo'], color=\"#00853B\")\n",
    "  # Mostrando a figura final com os 4 histogramas\n",
    "  plt.show()\n",
    "\n",
    "plot_distribution_discret_variables(df)"
   ]
  },
  {
   "cell_type": "markdown",
   "metadata": {},
   "source": [
    "- Temos outliers neste subconjunto? (utilize a definição numérica de outliers apresentado na trilha para fazer essa verificação)"
   ]
  },
  {
   "cell_type": "markdown",
   "metadata": {},
   "source": [
    "**Resposta:** Sim, o resultado abaixo mostra a quantidade de dados faltantes para cada coluna analisada, podemos notar que todas tem uma quantidade de dados faltantes.\n",
    "O código abaixo utilizou o método utilizando z_score para identificar os outliers, definindo o threshold como 3 para limitar os valores aceitáveis de desvio padrão."
   ]
  },
  {
   "cell_type": "code",
   "execution_count": null,
   "metadata": {},
   "outputs": [],
   "source": [
    "def get_outliers(df):\n",
    "  # Define um dicionário para cada variável numérica contendo, em casa campo, uma lista de anomalinas detectada para esta coluna.\n",
    "  outliers = {x:[] for x in numerical}\n",
    "\n",
    "  # Percorre o dataframe para cada coluna dentro das variáveis numéricas e encontrar as anomalias para esta coluna.\n",
    "  for column in numerical:\n",
    "    # Pega os dados apenas da coluna em questão.\n",
    "    data = df.loc[:,column]\n",
    "    # Pega a média dos dados desta coluna.\n",
    "    mean = np.mean(data)\n",
    "    # Pega o desvio padrão dos dados desta coluna.\n",
    "    std = np.std(data)\n",
    "    # Define um threshold para ser o delimitador do limite de desvio padrão, para um valor ser considerado uma anomalia.\n",
    "    thresh = 3\n",
    "\n",
    "    # Para cada valor dentro da coluna especificada, calcula se está fora do limite do threshold, se sim, é uma anomalia.\n",
    "    for value in data:\n",
    "      # Calula o z_score para verificação.\n",
    "      z_score = (value - mean) / std\n",
    "\n",
    "      # Verifica se está no limite do threshold.\n",
    "      if abs(z_score) > thresh:\n",
    "          # Se estiver, é adicionado na lista equivalente a sua coluna no dicionário de anomalias.\n",
    "          outliers[column].append(value)\n",
    "\n",
    "  return outliers\n",
    "\n",
    "# Envia o dataframe para a função de encontrar as anomalias.\n",
    "outliers = get_outliers(df)\n",
    "\n",
    "# Percorre cada coluna no dicionário de outliers.\n",
    "for column in outliers:\n",
    "  # Mostra a quantidade e a porcentagem de dados faltantes para cada coluna.\n",
    "  print(f\"Coluna {column}: {len(column)} dados faltantes, um total de {len(column)/df[column].shape[0]*100}%.\")"
   ]
  },
  {
   "cell_type": "markdown",
   "metadata": {},
   "source": [
    "- Existe alguma correlação entre essas variáveis numéricas? (não precisa olhar para outras categorias no momento)"
   ]
  },
  {
   "cell_type": "markdown",
   "metadata": {},
   "source": [
    "**Resposta:**"
   ]
  },
  {
   "cell_type": "code",
   "execution_count": null,
   "metadata": {},
   "outputs": [],
   "source": [
    "###########\n",
    "def correlation_variables(df):\n",
    "  # Pega os dados equivalentes a correçação entre as colunas existentes no dataframe passado.\n",
    "  correlation = df.corr()\n",
    "  # Plota uma matriz de confusão para representar os valores encontrados para a possível correlação entre cada coluna do datagrame.\n",
    "  sns.heatmap(correlation, annot = True, fmt=\".1f\", linewidths=.6)\n",
    "\n",
    "correlation_variables(df.loc[:,numerical])\n",
    "\n",
    "# Adicionar um gráfico de regressão"
   ]
  },
  {
   "cell_type": "markdown",
   "metadata": {},
   "source": [
    "###  Visualize e entenda todas as colunas categóricas."
   ]
  },
  {
   "cell_type": "code",
   "execution_count": null,
   "metadata": {},
   "outputs": [],
   "source": [
    "categorical = [\n",
    "    \"classe_bilhete\",\n",
    "    \"genero\",\n",
    "    \"numero_bilhete\",\n",
    "    \"cabine_numero\",\n",
    "    \"local_embarque\",\n",
    "    \"sobreviveu\",\n",
    "]"
   ]
  },
  {
   "cell_type": "markdown",
   "metadata": {},
   "source": [
    "#### Perguntas guias para as categorias categóricas:"
   ]
  },
  {
   "cell_type": "markdown",
   "metadata": {},
   "source": [
    "- Existem dados faltantes no seu conjunto?"
   ]
  },
  {
   "cell_type": "markdown",
   "metadata": {},
   "source": [
    "**Resposta:** Sim, há dados faltantes, abaixo temos o código no qual realiza a busca de dados faltantes utilizando uma função já definida neste notebook, com a modificação apenas no parâmetro passado, sendo este as colunas equivalentes as variáveis categóricas."
   ]
  },
  {
   "cell_type": "code",
   "execution_count": null,
   "metadata": {},
   "outputs": [],
   "source": [
    "# Chamada da função get_missing_data_columns() que retorna a quantidade de dados faltantes por coluna.\n",
    "missing_categorical_data = get_missing_data_columns(df.loc[:,categorical])\n",
    "missing_categorical_data"
   ]
  },
  {
   "cell_type": "markdown",
   "metadata": {},
   "source": [
    "Plotagem da procentagem de dados faltantes em relação ao valor total de dados na amostra para cada coluna."
   ]
  },
  {
   "cell_type": "code",
   "execution_count": null,
   "metadata": {},
   "outputs": [],
   "source": [
    "# Chamada da função de plotagem do gráfico de porcentagem de representação dos dados faltantes.\n",
    "plot_missing_data(missing_categorical_data)"
   ]
  },
  {
   "cell_type": "markdown",
   "metadata": {},
   "source": [
    "- Conseguimos extrair alguma informação nas colunas `numero_bilhete` e `cabine_numero`? ([Dica](https://pt.wikipedia.org/wiki/Instala%C3%A7%C3%B5es_da_primeira_classe_do_RMS_Titanic))"
   ]
  },
  {
   "cell_type": "markdown",
   "metadata": {},
   "source": [
    "**Resposta:**"
   ]
  },
  {
   "cell_type": "code",
   "execution_count": null,
   "metadata": {},
   "outputs": [],
   "source": [
    "###########\n",
    "print(df.loc[:,[\"numero_bilhete\", \"cabine_numero\"]])"
   ]
  },
  {
   "cell_type": "markdown",
   "metadata": {},
   "source": [
    "- Existe alguma casualidade ou correlação entre as categorias?"
   ]
  },
  {
   "cell_type": "markdown",
   "metadata": {},
   "source": [
    "**Resposta:**"
   ]
  },
  {
   "cell_type": "code",
   "execution_count": null,
   "metadata": {},
   "outputs": [],
   "source": [
    "###########"
   ]
  },
  {
   "cell_type": "markdown",
   "metadata": {},
   "source": [
    "- Existe alguma relação entre a `classe_bilhete` e o `cabine_numero`?"
   ]
  },
  {
   "cell_type": "markdown",
   "metadata": {},
   "source": [
    "**Resposta:** Sim, pois a distribuição de passagerios dentro do navio estava associada a classe do bilhete comprado, cada cabine é referenciada utilizando o convés, que é determinado inicialmente pela classe, juntamente com um número para diferenciar cada cabine dentro de um mesmo convés, logo, dependendo da classe em que o passageiro esteja essa letra associada ao convés, irá ser diferente, por exemplo, um passageiro de 1º classe irá ter seu número de cabine iniciando com a letra pertencente a algum convés entre A e F, como definido nas regras do navio."
   ]
  },
  {
   "cell_type": "code",
   "execution_count": null,
   "metadata": {},
   "outputs": [],
   "source": [
    "# Pegar os dados de todos os passageriros da 1º classe.\n",
    "first = df.loc[(df[\"classe_bilhete\"] == 1)]\n",
    "# Mostrar a quantidade de bilhetes de passagerios de 1º classe.\n",
    "print(f\"Quantidade de bilhetes para a 1º classe: {first.shape[0]}\")\n",
    "\n",
    "# Pegar os dados de todos os passageiros de 2º e 3º terceira classe.\n",
    "no_first = df.loc[(df[\"classe_bilhete\"] == 2) | (df[\"classe_bilhete\"] == 3)].loc[:,\"cabine_numero\"]\n",
    "# Mostrar a quantidade de bilhetes de passagerios de 2º e 3º classe.\n",
    "print(f\"Quantidade de bilhetes para 2º e 3º classes: {no_first.shape[0]}\")\n",
    "\n",
    "# Mostrando que os dados dos passageiros de 2º e 3º classe não estão contidos no dataset.\n",
    "print(f\"Quantidade de dados faltantes na coluna cabine_numero para as classes 2 e 3: {no_first.isnull().count()}\")\n",
    "\n",
    "# Mostrando que o total de passagerios de todas as classes é equivalente ao total de bilheres da amostra.\n",
    "print(f\"Total de bilhetes: {df.shape[0]}\")\n",
    "print(f\"Total de passageiros de 1º, 2º e 3º classes: {first.shape[0] + no_first.shape[0]}\")"
   ]
  },
  {
   "cell_type": "markdown",
   "metadata": {},
   "source": [
    "#### Perguntas chave para as categorias categóricas:"
   ]
  },
  {
   "cell_type": "markdown",
   "metadata": {},
   "source": [
    "- Há alguma influência de pertencer a algum grupo de alguma cabine na sua sobrevivência?"
   ]
  },
  {
   "cell_type": "markdown",
   "metadata": {},
   "source": [
    "**Resposta:** Sim, os dados fornecidos na coluna cabine_numero, estão apenas associados as pessoas da 1º classe, e realizando uma análise, temos que 40% das pessoas sobreviventes estavam alocadas nas cabines destes conveses, destas, aproximadamente 20% estava alocada nas cabines dos conveses B e C, logo podemos dizer que sim, a cabine em que estivesse influenciou na sobrevivência, uma hipótese válida seria que isto aconteceu por uma questão de logística de escape dada a infraestrutura do navio e o posicionamento dos botes disponíveis."
   ]
  },
  {
   "cell_type": "code",
   "execution_count": null,
   "metadata": {},
   "outputs": [],
   "source": [
    "# Aquisição de todos os valores de cabine não nulos.\n",
    "cabin_not_null = df.query(\"sobreviveu == True\")[~df['cabine_numero'].isnull()]\n",
    "cabin_not_null.loc[:,[\"cabine_numero\", \"sobreviveu\"]]"
   ]
  },
  {
   "cell_type": "code",
   "execution_count": null,
   "metadata": {},
   "outputs": [],
   "source": [
    "decks = {}\n",
    "\n",
    "# Para cada célula na coluna cabine_numero, pegar os valores.\n",
    "for cabin in cabin_not_null[\"cabine_numero\"].values:\n",
    "  # Pega o primeiro elemento do número da cabine, que é uma letra que representa o convés, e adiciona na lista de conveses, caso não exista.\n",
    "  if cabin[0] not in decks:\n",
    "    decks.update({cabin[0]:0})\n",
    "\n",
    "decks"
   ]
  },
  {
   "cell_type": "code",
   "execution_count": null,
   "metadata": {},
   "outputs": [],
   "source": [
    "# Pega os dados de todos os sobreviventes.\n",
    "survivors = df.query(\"sobreviveu == True\")\n",
    "# Pega a quantidades de linhas dos dados dos sobreviventes.\n",
    "survivors.shape[0]"
   ]
  },
  {
   "cell_type": "code",
   "execution_count": null,
   "metadata": {},
   "outputs": [],
   "source": [
    "# Pega os dados da cabine de todos os sobreviventes\n",
    "survived_cabin = cabin_not_null.query(\"sobreviveu == True\").loc[:,\"cabine_numero\"]\n",
    "survived_cabin"
   ]
  },
  {
   "cell_type": "code",
   "execution_count": null,
   "metadata": {},
   "outputs": [],
   "source": [
    "# Faz um mapeamento de quantos sobreviventes para cada convés mapeado.\n",
    "for cabin in survived_cabin.values:\n",
    "  decks[cabin[0]] += 1\n",
    "\n",
    "decks"
   ]
  },
  {
   "cell_type": "code",
   "execution_count": null,
   "metadata": {},
   "outputs": [],
   "source": [
    "# Gera a porcentagem de sobreviventes em relação a quantidade geral, para cada convés.\n",
    "for deck, value in decks.items():\n",
    "  decks[deck] = value/survivors.shape[0]\n",
    "\n",
    "decks"
   ]
  },
  {
   "cell_type": "code",
   "execution_count": null,
   "metadata": {},
   "outputs": [],
   "source": [
    "# Calcula a porcentagem final dos sobreviventes para os conveses disponibilizados nos dados.\n",
    "print(f\"Pessoas que sobreviveram estando na primeira classe: {round(sum(list(decks.values())), 2)*100}% da população.\")"
   ]
  },
  {
   "cell_type": "markdown",
   "metadata": {},
   "source": [
    "- Há algum padrão no `numero_bilhete`?"
   ]
  },
  {
   "cell_type": "code",
   "execution_count": null,
   "metadata": {},
   "outputs": [],
   "source": [
    "###########\n",
    "df.loc[:, [\"numero_bilhete\", \"classe_bilhete\", \"cabine_numero\"]]"
   ]
  },
  {
   "cell_type": "markdown",
   "metadata": {},
   "source": [
    "- Há algum padrão na `cabine_numero`?"
   ]
  },
  {
   "cell_type": "markdown",
   "metadata": {},
   "source": [
    "**Resposta:** As cabines seguem o padrão convés+número da cabine, exemplo C85, E46, e isto vai está de acordo com a distribuição de conveses para cada classe."
   ]
  },
  {
   "cell_type": "code",
   "execution_count": null,
   "metadata": {},
   "outputs": [],
   "source": [
    "# Pega todos os dados não nulos para o número de cabines.\n",
    "non_null = df[~df['cabine_numero'].isnull()]\n",
    "non_null['cabine_numero']"
   ]
  },
  {
   "cell_type": "markdown",
   "metadata": {},
   "source": [
    "## Perguntas do Desafio:"
   ]
  },
  {
   "cell_type": "markdown",
   "metadata": {},
   "source": [
    "- Qual o fator que foi mais importante e menos importante para determinar a sobrevivência para esta população?"
   ]
  },
  {
   "cell_type": "markdown",
   "metadata": {},
   "source": [
    "**Resposta:** O fator mais importante foi o protocolo marítimo da época, de dar prioridade a crianças e mulheres, nas célular abaixo será mostrada que 72% desta amostra sobreviveu. E o fator menos importante foi o local de embarque dos passageiros, pois este não teve influência no momento do desastre."
   ]
  },
  {
   "cell_type": "code",
   "execution_count": null,
   "metadata": {},
   "outputs": [],
   "source": [
    "# Visualização dos dados dos sobreviventes para análise\n",
    "df.query(\"sobreviveu == True\")"
   ]
  },
  {
   "cell_type": "markdown",
   "metadata": {},
   "source": [
    "- Você pode dizer que houve alguma influência do poder aquisitivo na sobrevivência do acidente?"
   ]
  },
  {
   "cell_type": "markdown",
   "metadata": {},
   "source": [
    "**Resposta:** Não é possível de afirmar isto pois pois não há uma diferença discrepante entre as quantidades de sobreviventes para cada classe as classes."
   ]
  },
  {
   "cell_type": "code",
   "execution_count": null,
   "metadata": {},
   "outputs": [],
   "source": [
    "# Filtra o dataframe apenas para os dados dos sobreviventes e após isso faz um agrupamento para classe_bilhete contando quantos dados há para cada classe.\n",
    "df.query(\"sobreviveu == True\").groupby(\"classe_bilhete\")[\"sobreviveu\"].count()"
   ]
  },
  {
   "cell_type": "markdown",
   "metadata": {},
   "source": [
    "- O protocolo marítimo da época do Titanic tinha foco em dar prioridade a crianças e mulheres, analisando os dados podemos dizer se este protocolo foi seguido?\n"
   ]
  },
  {
   "cell_type": "markdown",
   "metadata": {},
   "source": [
    "**Resposta:** Sim, o protocolo foi seguido, pois 72% das pessoas do gênero feminino e ou pessoas abaixo de 12 anos sobreviveram."
   ]
  },
  {
   "cell_type": "markdown",
   "metadata": {},
   "source": [
    "- Ter uma família no barco influenciou negativamente ou positivamente para a sua sobrevivência?"
   ]
  },
  {
   "cell_type": "markdown",
   "metadata": {},
   "source": [
    "**Resposta:** Influenciou positivamente já que 51% das pessoas com familiares sobreviveram em contrapartida aos 30% sem familiares que sobreviveram, mas é importante ressaltar que estes resultados possam ter sido influenciados por outros requisitos, além de ter ou não família no navio."
   ]
  },
  {
   "cell_type": "code",
   "execution_count": null,
   "metadata": {},
   "outputs": [],
   "source": [
    "# Pega todos os dados das pessoas que levaram irmão(s)/conjuge(s) ou pais/filhos\n",
    "with_family = df.loc[(df[\"irmaos_conjuges_abordo\"] > 0) | (df[\"pais_filhos_abordo\"] > 0)]\n",
    "# Pega todos os dados das pessoas que não levaram irmão(s)/conjuge(s) e pais/filhos\n",
    "without_family = df.loc[(df[\"irmaos_conjuges_abordo\"] == 0) & (df[\"pais_filhos_abordo\"] == 0)]\n",
    "\n",
    "# Pega a porcentagem de pessoas com família que sobreviveram em relação ao total da amostra destes.\n",
    "survived_with_family = with_family.query(\"sobreviveu == True\").shape[0]/with_family.shape[0]\n",
    "# Pega a porcentagem de pessoas sem família no navio que sobreviveram em relação ao total da amostra destes.\n",
    "survived_without_family = without_family.query(\"sobreviveu == True\").shape[0]/without_family.shape[0]\n",
    "\n",
    "# Mostra os resultados no formato de porcentagem.\n",
    "print(f\"Porcentagem dos que sobreviveram com família em relação a toda a amostra com familiares: {round(survived_with_family, 2)*100}%\")\n",
    "print(f\"Porcentagem dos que sobreviveram sem família em relação a toda a amostra sem familiares: {round(survived_without_family, 2)*100}%\")"
   ]
  },
  {
   "cell_type": "markdown",
   "metadata": {},
   "source": [
    "- Qual o perfil de quem não sobreviveu? E qual é o perfil de quem sobreviveu? Entenda Perfil como: Gênero, Idade e Classe Social. Caso você identifique alguma nova característica pode adicioná-la ao perfil."
   ]
  },
  {
   "cell_type": "markdown",
   "metadata": {},
   "source": [
    "**Resposta:** Dentre os sobreviventes podemos ressaltar que estes estavam bem distribuídos entre as classes e que sua maioria está entre mulheres. Podemos ressaltar também que suas idades estão contidas em sua maioria, no intervalo de 20 a 40 anos."
   ]
  },
  {
   "cell_type": "code",
   "execution_count": null,
   "metadata": {},
   "outputs": [],
   "source": [
    "# Pega os dados de gênero, idade e classe_bilhete entre todos os sobreviventes.\n",
    "survived = df.query(\"sobreviveu == True\").loc[:,[\"genero\", \"idade\", \"classe_bilhete\"]]\n",
    "# Pega os dados de gênero, idade e classe_bilhete entre todos os não sobreviventes.\n",
    "not_survived = df.query(\"sobreviveu == False\").loc[:,[\"genero\", \"idade\", \"classe_bilhete\"]]\n",
    "\n",
    "# Define uma figura com 3 colunas para mostrar os dados.\n",
    "fig, axes = plt.subplots(1, 3, figsize=(10, 3), sharey=True)\n",
    "# Cria um subtítulo para a figura.\n",
    "fig.suptitle('Profile of survivors')\n",
    "# Plota um histograma para a contagem de pessoas que sobreviveram considerando o gênero.\n",
    "sns.histplot(ax=axes[0], x=\"genero\", data=survived, color=\"#00853B\")\n",
    "# Plota um histograma para a contagem de pessoas que sobreviveram considerando a idade.\n",
    "sns.histplot(ax=axes[1], x=\"idade\", data=survived, color=\"#00853B\")\n",
    "# Plota um histograma para a contagem de pessoas que sobreviveram considerando a classe.\n",
    "sns.histplot(ax=axes[2], x=\"classe_bilhete\", data=survived, color=\"#00853B\")\n",
    "# Plota a figura com os histogramas.\n",
    "plt.show()\n",
    "\n",
    "# Define uma figura com 3 colunas para mostrar os dados.\n",
    "fig, axes = plt.subplots(1, 3, figsize=(10, 3), sharey=True)\n",
    "# Cria um subtítulo para a figura.\n",
    "fig.suptitle('Profile of not survivors')\n",
    "# Plota um histograma para a contagem de pessoas que não sobreviveram considerando o gênero.\n",
    "sns.histplot(ax=axes[0], x=\"genero\", data=not_survived, color=\"#00853B\")\n",
    "# Plota um histograma para a contagem de pessoas que não sobreviveram considerando a idade.\n",
    "sns.histplot(ax=axes[1], x=\"idade\", data=not_survived, color=\"#00853B\")\n",
    "# Plota um histograma para a contagem de pessoas que não sobreviveram considerando a classe.\n",
    "sns.histplot(ax=axes[2], x=\"classe_bilhete\", data=not_survived, color=\"#00853B\")\n",
    "# Plota a figura com os histogramas.\n",
    "plt.show()"
   ]
  },
  {
   "cell_type": "markdown",
   "metadata": {},
   "source": [
    "## Predições com Modelo ML"
   ]
  },
  {
   "cell_type": "code",
   "execution_count": null,
   "metadata": {},
   "outputs": [],
   "source": [
    "# Importação dos pacotes scikit-learn\n",
    "from sklearn.model_selection import RepeatedKFold\n",
    "from sklearn.ensemble import RandomForestClassifier"
   ]
  },
  {
   "cell_type": "code",
   "execution_count": null,
   "metadata": {},
   "outputs": [],
   "source": [
    "# Reimportando o conjunto de dados\n",
    "df = pd.read_csv(\"/content/drive/MyDrive/Atv Paralelas/Ascan/Trilha Ciência de Dados/Desafio/titanic.csv\").set_index(\"id_passageiro\")\n",
    "df"
   ]
  },
  {
   "cell_type": "code",
   "execution_count": null,
   "metadata": {},
   "outputs": [],
   "source": [
    "y = df.pop(\"sobreviveu\")\n",
    "X = df"
   ]
  },
  {
   "cell_type": "markdown",
   "metadata": {},
   "source": [
    "#### Perguntas guias para criação do modelo:\n",
    "- Como você pretende tratar os dados faltantes do seu dataset antes de fornecer para o modelo?\n",
    "- Você consegue criar alguma nova coluna (feature) para fornecer ao modelo?\n",
    "- Existe alguma coluna que pode ser removida sob algum critério? Como por exemplo correlação?\n",
    "- Você encontrou `outliers` no dataset? Se sim qual ação foi feita com estes dados?\n",
    "- Quais normatizações você aplicou nos dados categóricos e numéricos?"
   ]
  },
  {
   "cell_type": "code",
   "execution_count": null,
   "metadata": {},
   "outputs": [],
   "source": []
  },
  {
   "cell_type": "markdown",
   "metadata": {},
   "source": [
    "## Perguntas do Desafio  - Modelo:"
   ]
  },
  {
   "cell_type": "markdown",
   "metadata": {},
   "source": [
    "#### Quais etapas de processamento foram realizadas e o porquê de cada uma?\n",
    "- Responda de maneira superficial uma vez que você já mostrou via código o que foi feito, quais as etapas do seu dado desde que ele é carregado pelo pandas até ser fornecido ao modelo durante o treinamento."
   ]
  },
  {
   "cell_type": "code",
   "execution_count": null,
   "metadata": {},
   "outputs": [],
   "source": []
  },
  {
   "cell_type": "markdown",
   "metadata": {},
   "source": [
    "#### Dos modelos testados qual foi melhor? Porque? Apresenta as métricas do seu melhor modelo.\n",
    "- Sabendo que você testou pelo menos 2 modelos diferentes, como você definiu o que é o melhor e qual é o melhor."
   ]
  },
  {
   "cell_type": "code",
   "execution_count": null,
   "metadata": {},
   "outputs": [],
   "source": []
  },
  {
   "cell_type": "markdown",
   "metadata": {},
   "source": [
    "#### Seu  melhor modelo comete erros? Quais os pontos fracos dele?\n",
    "- Saber os pontos fracos de seu modelo é crucial durante o seu uso, tente identificar com uma matriz confusão onde o seu modelo erra e o perfil do dado que ele erra."
   ]
  },
  {
   "cell_type": "code",
   "execution_count": null,
   "metadata": {},
   "outputs": [],
   "source": []
  }
 ],
 "metadata": {
  "kernelspec": {
   "display_name": "trilhacc",
   "language": "python",
   "name": "python3"
  },
  "language_info": {
   "codemirror_mode": {
    "name": "ipython",
    "version": 3
   },
   "file_extension": ".py",
   "mimetype": "text/x-python",
   "name": "python",
   "nbconvert_exporter": "python",
   "pygments_lexer": "ipython3",
   "version": "3.11.4"
  },
  "orig_nbformat": 4
 },
 "nbformat": 4,
 "nbformat_minor": 2
}
