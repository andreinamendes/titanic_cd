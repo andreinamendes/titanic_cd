{
 "cells": [
  {
   "cell_type": "markdown",
   "metadata": {},
   "source": [
    "# Desafio Trilha de Ciência de Dados"
   ]
  },
  {
   "cell_type": "code",
   "execution_count": 2,
   "metadata": {},
   "outputs": [],
   "source": [
    "import pandas as pd\n",
    "import seaborn as sns\n",
    "from matplotlib import pyplot as plt\n",
    "import numpy as np"
   ]
  },
  {
   "cell_type": "code",
   "execution_count": 3,
   "metadata": {},
   "outputs": [
    {
     "data": {
      "text/html": [
       "<div>\n",
       "<style scoped>\n",
       "    .dataframe tbody tr th:only-of-type {\n",
       "        vertical-align: middle;\n",
       "    }\n",
       "\n",
       "    .dataframe tbody tr th {\n",
       "        vertical-align: top;\n",
       "    }\n",
       "\n",
       "    .dataframe thead th {\n",
       "        text-align: right;\n",
       "    }\n",
       "</style>\n",
       "<table border=\"1\" class=\"dataframe\">\n",
       "  <thead>\n",
       "    <tr style=\"text-align: right;\">\n",
       "      <th></th>\n",
       "      <th>sobreviveu</th>\n",
       "      <th>classe_bilhete</th>\n",
       "      <th>genero</th>\n",
       "      <th>idade</th>\n",
       "      <th>irmaos_conjuges_abordo</th>\n",
       "      <th>pais_filhos_abordo</th>\n",
       "      <th>numero_bilhete</th>\n",
       "      <th>preco_bilhete</th>\n",
       "      <th>cabine_numero</th>\n",
       "      <th>local_embarque</th>\n",
       "    </tr>\n",
       "    <tr>\n",
       "      <th>id_passageiro</th>\n",
       "      <th></th>\n",
       "      <th></th>\n",
       "      <th></th>\n",
       "      <th></th>\n",
       "      <th></th>\n",
       "      <th></th>\n",
       "      <th></th>\n",
       "      <th></th>\n",
       "      <th></th>\n",
       "      <th></th>\n",
       "    </tr>\n",
       "  </thead>\n",
       "  <tbody>\n",
       "    <tr>\n",
       "      <th>1</th>\n",
       "      <td>False</td>\n",
       "      <td>3</td>\n",
       "      <td>M</td>\n",
       "      <td>22.0</td>\n",
       "      <td>1</td>\n",
       "      <td>0</td>\n",
       "      <td>A/5 21171</td>\n",
       "      <td>7.2500</td>\n",
       "      <td>NaN</td>\n",
       "      <td>Southampton</td>\n",
       "    </tr>\n",
       "    <tr>\n",
       "      <th>2</th>\n",
       "      <td>True</td>\n",
       "      <td>1</td>\n",
       "      <td>F</td>\n",
       "      <td>38.0</td>\n",
       "      <td>1</td>\n",
       "      <td>0</td>\n",
       "      <td>PC 17599</td>\n",
       "      <td>71.2833</td>\n",
       "      <td>C85</td>\n",
       "      <td>Cherbourg</td>\n",
       "    </tr>\n",
       "    <tr>\n",
       "      <th>3</th>\n",
       "      <td>True</td>\n",
       "      <td>3</td>\n",
       "      <td>F</td>\n",
       "      <td>26.0</td>\n",
       "      <td>0</td>\n",
       "      <td>0</td>\n",
       "      <td>STON/O2. 3101282</td>\n",
       "      <td>7.9250</td>\n",
       "      <td>NaN</td>\n",
       "      <td>Southampton</td>\n",
       "    </tr>\n",
       "    <tr>\n",
       "      <th>4</th>\n",
       "      <td>True</td>\n",
       "      <td>1</td>\n",
       "      <td>F</td>\n",
       "      <td>35.0</td>\n",
       "      <td>1</td>\n",
       "      <td>0</td>\n",
       "      <td>113803</td>\n",
       "      <td>53.1000</td>\n",
       "      <td>C123</td>\n",
       "      <td>Southampton</td>\n",
       "    </tr>\n",
       "    <tr>\n",
       "      <th>5</th>\n",
       "      <td>False</td>\n",
       "      <td>3</td>\n",
       "      <td>M</td>\n",
       "      <td>35.0</td>\n",
       "      <td>0</td>\n",
       "      <td>0</td>\n",
       "      <td>373450</td>\n",
       "      <td>8.0500</td>\n",
       "      <td>NaN</td>\n",
       "      <td>Southampton</td>\n",
       "    </tr>\n",
       "  </tbody>\n",
       "</table>\n",
       "</div>"
      ],
      "text/plain": [
       "               sobreviveu  classe_bilhete genero  idade  \\\n",
       "id_passageiro                                             \n",
       "1                   False               3      M   22.0   \n",
       "2                    True               1      F   38.0   \n",
       "3                    True               3      F   26.0   \n",
       "4                    True               1      F   35.0   \n",
       "5                   False               3      M   35.0   \n",
       "\n",
       "               irmaos_conjuges_abordo  pais_filhos_abordo    numero_bilhete  \\\n",
       "id_passageiro                                                                 \n",
       "1                                   1                   0         A/5 21171   \n",
       "2                                   1                   0          PC 17599   \n",
       "3                                   0                   0  STON/O2. 3101282   \n",
       "4                                   1                   0            113803   \n",
       "5                                   0                   0            373450   \n",
       "\n",
       "               preco_bilhete cabine_numero local_embarque  \n",
       "id_passageiro                                              \n",
       "1                     7.2500           NaN    Southampton  \n",
       "2                    71.2833           C85      Cherbourg  \n",
       "3                     7.9250           NaN    Southampton  \n",
       "4                    53.1000          C123    Southampton  \n",
       "5                     8.0500           NaN    Southampton  "
      ]
     },
     "execution_count": 3,
     "metadata": {},
     "output_type": "execute_result"
    }
   ],
   "source": [
    "df = pd.read_csv(\"titanic.csv\").set_index(\"id_passageiro\")\n",
    "df.head()"
   ]
  },
  {
   "cell_type": "code",
   "execution_count": null,
   "metadata": {},
   "outputs": [],
   "source": [
    "df.info()"
   ]
  },
  {
   "cell_type": "code",
   "execution_count": null,
   "metadata": {},
   "outputs": [],
   "source": [
    "df.describe()"
   ]
  },
  {
   "cell_type": "markdown",
   "metadata": {},
   "source": [
    "## EDA"
   ]
  },
  {
   "cell_type": "markdown",
   "metadata": {},
   "source": [
    "###  Visualize e entenda todas as colunas numéricas."
   ]
  },
  {
   "cell_type": "code",
   "execution_count": 6,
   "metadata": {},
   "outputs": [],
   "source": [
    "numerical = [\n",
    "    \"idade\",\n",
    "    \"preco_bilhete\",\n",
    "    \"irmaos_conjuges_abordo\",\n",
    "    \"pais_filhos_abordo\",\n",
    "]"
   ]
  },
  {
   "cell_type": "markdown",
   "metadata": {},
   "source": [
    "#### Perguntas guias para as categorias numéricas:"
   ]
  },
  {
   "cell_type": "markdown",
   "metadata": {},
   "source": [
    "- Existem dados faltantes no seu conjunto?"
   ]
  },
  {
   "cell_type": "markdown",
   "metadata": {},
   "source": [
    "**Resposta:** Sim, como mostrado no código abaixo, a coluna idade tem um total de 177 dados faltantes."
   ]
  },
  {
   "cell_type": "code",
   "execution_count": 7,
   "metadata": {},
   "outputs": [
    {
     "data": {
      "text/html": [
       "<div>\n",
       "<style scoped>\n",
       "    .dataframe tbody tr th:only-of-type {\n",
       "        vertical-align: middle;\n",
       "    }\n",
       "\n",
       "    .dataframe tbody tr th {\n",
       "        vertical-align: top;\n",
       "    }\n",
       "\n",
       "    .dataframe thead th {\n",
       "        text-align: right;\n",
       "    }\n",
       "</style>\n",
       "<table border=\"1\" class=\"dataframe\">\n",
       "  <thead>\n",
       "    <tr style=\"text-align: right;\">\n",
       "      <th></th>\n",
       "      <th>Count</th>\n",
       "      <th>Column</th>\n",
       "    </tr>\n",
       "  </thead>\n",
       "  <tbody>\n",
       "    <tr>\n",
       "      <th>0</th>\n",
       "      <td>177</td>\n",
       "      <td>idade</td>\n",
       "    </tr>\n",
       "  </tbody>\n",
       "</table>\n",
       "</div>"
      ],
      "text/plain": [
       "   Count Column\n",
       "0    177  idade"
      ]
     },
     "execution_count": 7,
     "metadata": {},
     "output_type": "execute_result"
    }
   ],
   "source": [
    "def get_missing_data_columns(df):\n",
    "  # Pegando o valor total de dados faltantes para o dataframe repassado\n",
    "  missing_data_size = df.isnull().sum()\n",
    "  #\n",
    "  missing_data_columns = ((missing_data_size[missing_data_size > 0]).sort_values(ascending=False).to_frame(name='Count'))\n",
    "  #\n",
    "  missing_data_columns = (missing_data_columns.assign(Column=missing_data_columns.index)).reset_index(drop=True)\n",
    "\n",
    "  return missing_data_columns\n",
    "\n",
    "# Passando todos os dados para a categoria de variáveis discretas para a função de pegar os valores faltantes.\n",
    "missing_discret_data = get_missing_data_columns(df.loc[:,numerical])\n",
    "missing_discret_data"
   ]
  },
  {
   "cell_type": "markdown",
   "metadata": {},
   "source": [
    "Na plotagem abaixo podemos visualizar que os dados faltantes representam um total de 19.87% em relação ao total da amostra."
   ]
  },
  {
   "cell_type": "code",
   "execution_count": 8,
   "metadata": {},
   "outputs": [
    {
     "data": {
      "image/png": "[encoded data removed]",
      "text/plain": [
       "<Figure size 600x200 with 1 Axes>"
      ]
     },
     "metadata": {},
     "output_type": "display_data"
    }
   ],
   "source": [
    "def plot_missing_data(missing_data_columns):\n",
    "  # Define uma figura de tamanho (6, 2) para comportar a plotagem\n",
    "  plt.figure(figsize=(6, 2))\n",
    "  # Plotagem de um gráfico de barras na horizontal mostrando a quantidade de dados faltantes por colunas\n",
    "  ax = sns.barplot(data=missing_data_columns, x='Count', y='Column', color=\"#00853B\")\n",
    "  # Remoção do contorno do gráfico de barras para facilitar a visualização\n",
    "  sns.despine(left=True, bottom=True)\n",
    "  # Modificação da label do gráfico para ser equivalente a porcentagem em relação ao tamanho total da amostra\n",
    "  ax.bar_label(ax.containers[0], labels=[f\"{i:.2f}%\" for i in missing_data_columns.Count.astype(int) / len(df) * 100])\n",
    "  # Definição do subtítulo do gráfico\n",
    "  plt.suptitle(\"Missing data distribuition\", ha='left', va='top', x=-.1, fontweight='bold')\n",
    "  # Mostrando a figura final\n",
    "  plt.show()\n",
    "\n",
    "plot_missing_data(missing_discret_data)"
   ]
  },
  {
   "cell_type": "markdown",
   "metadata": {},
   "source": [
    "- Quais as suas distribuições?"
   ]
  },
  {
   "cell_type": "markdown",
   "metadata": {},
   "source": [
    "**Resposta:** Abaixo temos a distribuição de cada coluna especificada como variável numérica no formato de um histograma. Podemos notar que a maioria das idades estão 20 e 40 anos de idade, assim como a maioria dos bilhetes tiveram seu preço menor que R$ 100,00. Podemos notar também que mais da metade dos passageiros levaram nenhum ou apenas um irmão ou cônjuge. Também ressalta-se que mais da metade dos passageiros levaram nenhum ou um pais/filhos."
   ]
  },
  {
   "cell_type": "code",
   "execution_count": 152,
   "metadata": {},
   "outputs": [
    {
     "data": {
      "image/png": "[encoded data removed]",
      "text/plain": [
       "<Figure size 1000x1000 with 2 Axes>"
      ]
     },
     "metadata": {},
     "output_type": "display_data"
    },
    {
     "data": {
      "image/png": "[encoded data removed]",
      "text/plain": [
       "<Figure size 1000x1000 with 2 Axes>"
      ]
     },
     "metadata": {},
     "output_type": "display_data"
    },
    {
     "data": {
      "image/png": "[encoded data removed]",
      "text/plain": [
       "<Figure size 1000x1000 with 2 Axes>"
      ]
     },
     "metadata": {},
     "output_type": "display_data"
    },
    {
     "data": {
      "image/png": "[encoded data removed]",
      "text/plain": [
       "<Figure size 1000x1000 with 2 Axes>"
      ]
     },
     "metadata": {},
     "output_type": "display_data"
    }
   ],
   "source": [
    "def plot_distribution_discret_variables(df, feature):\n",
    "  # Define uma figura de tamanho (2, 1) para comportar a plotagem dos 4 histogramas no layout de uma matriz (2, 2)\n",
    "  fig, axes = plt.subplots(2, 1, figsize=(10, 10), sharey=True)\n",
    "  # Definição do subtítulo do gráfico\n",
    "  fig.suptitle(f'{feature} distribution')\n",
    "  # Criação de um histograma de distribuição dos valores associados a coluna idade\n",
    "  sns.histplot(ax=axes[0], x=f\"{feature}\", data=df, color=\"#00853B\", kde=True)\n",
    "  sns.scatterplot(ax=axes[1], data=df[feature], color=\"#00853B\")\n",
    "  plt.show()\n",
    "\n",
    "plot_distribution_discret_variables(df, 'idade')\n",
    "plot_distribution_discret_variables(df, 'preco_bilhete')\n",
    "plot_distribution_discret_variables(df, 'irmaos_conjuges_abordo')\n",
    "plot_distribution_discret_variables(df, 'pais_filhos_abordo')"
   ]
  },
  {
   "cell_type": "markdown",
   "metadata": {},
   "source": [
    "- Temos outliers neste subconjunto? (utilize a definição numérica de outliers apresentado na trilha para fazer essa verificação)"
   ]
  },
  {
   "cell_type": "markdown",
   "metadata": {},
   "source": [
    "**Resposta:** Sim, o resultado abaixo mostra a quantidade de dados faltantes para cada coluna analisada, podemos notar que todas tem uma quantidade de dados faltantes.\n",
    "O código abaixo utilizou o método utilizando z_score para identificar os outliers, definindo o threshold como 3 para limitar os valores aceitáveis de desvio padrão."
   ]
  },
  {
   "cell_type": "code",
   "execution_count": 178,
   "metadata": {},
   "outputs": [
    {
     "name": "stdout",
     "output_type": "stream",
     "text": [
      "Coluna idade: 5 outliers, um total de 0.5611672278338945%.\n",
      "Coluna preco_bilhete: 13 outliers, um total de 1.4590347923681257%.\n",
      "Coluna irmaos_conjuges_abordo: 22 outliers, um total de 2.4691358024691357%.\n",
      "Coluna pais_filhos_abordo: 18 outliers, um total de 2.0202020202020203%.\n"
     ]
    }
   ],
   "source": [
    "def get_outliers(df):\n",
    "  # Define um dicionário para cada variável numérica contendo, em casa campo, uma lista de anomalinas detectada para esta coluna.\n",
    "  outliers = {x:[] for x in numerical}\n",
    "\n",
    "  # Percorre o dataframe para cada coluna dentro das variáveis numéricas e encontrar as anomalias para esta coluna.\n",
    "  for column in numerical:\n",
    "    # Pega os dados apenas da coluna em questão.\n",
    "    data = df.loc[:,column]\n",
    "    # Pega a média dos dados desta coluna.\n",
    "    mean = np.mean(data)\n",
    "    # Pega o desvio padrão dos dados desta coluna.\n",
    "    std = np.std(data)\n",
    "    # Define um threshold para ser o delimitador do limite de desvio padrão, para um valor ser considerado uma anomalia.\n",
    "    thresh = 3\n",
    "\n",
    "    # Para cada valor dentro da coluna especificada, calcula se está fora do limite do threshold, se sim, é uma anomalia.\n",
    "    for value in data:\n",
    "      # Calula o z_score para verificação.\n",
    "      z_score = (value - mean) / std\n",
    "\n",
    "      # Verifica se está no limite do threshold.\n",
    "      if abs(z_score) > thresh:\n",
    "          # Se estiver, é adicionado na lista equivalente a sua coluna no dicionário de anomalias.\n",
    "          outliers[column].append(value)\n",
    "\n",
    "  return outliers\n",
    "    \n",
    "# Envia o dataframe para a função de encontrar as anomalias.\n",
    "outliers = get_outliers(df)\n",
    "\n",
    "for column in outliers:\n",
    "  print(f\"Coluna {column}: {len(column)} outliers, um total de {len(column)/df[column].shape[0]*100}%.\")"
   ]
  },
  {
   "cell_type": "code",
   "execution_count": 180,
   "metadata": {},
   "outputs": [
    {
     "data": {
      "text/plain": [
       "<Axes: >"
      ]
     },
     "execution_count": 180,
     "metadata": {},
     "output_type": "execute_result"
    },
    {
     "data": {
      "image/png": "[encoded data removed]",
      "text/plain": [
       "<Figure size 640x480 with 1 Axes>"
      ]
     },
     "metadata": {},
     "output_type": "display_data"
    }
   ],
   "source": [
    "sns.boxplot(data=df[outliers.keys()], orient='h')"
   ]
  },
  {
   "cell_type": "markdown",
   "metadata": {},
   "source": [
    "- Existe alguma correlação entre essas variáveis numéricas? (não precisa olhar para outras categorias no momento)"
   ]
  },
  {
   "cell_type": "markdown",
   "metadata": {},
   "source": [
    "**Resposta:**"
   ]
  },
  {
   "cell_type": "code",
   "execution_count": 11,
   "metadata": {},
   "outputs": [
    {
     "data": {
      "image/png": "[encoded data removed]",
      "text/plain": [
       "<Figure size 640x480 with 2 Axes>"
      ]
     },
     "metadata": {},
     "output_type": "display_data"
    }
   ],
   "source": [
    "###########\n",
    "def correlation_variables(df):\n",
    "  # Pega os dados equivalentes a correçação entre as colunas existentes no dataframe passado.\n",
    "  correlation = df.corr()\n",
    "  # Plota uma matriz de confusão para representar os valores encontrados para a possível correlação entre cada coluna do datagrame.\n",
    "  sns.heatmap(correlation, annot = True, fmt=\".1f\", linewidths=.6)\n",
    "\n",
    "correlation_variables(df.loc[:,numerical])\n",
    "\n",
    "# Adicionar um gráfico de regressão"
   ]
  },
  {
   "cell_type": "markdown",
   "metadata": {},
   "source": [
    "###  Visualize e entenda todas as colunas categóricas."
   ]
  },
  {
   "cell_type": "code",
   "execution_count": 12,
   "metadata": {},
   "outputs": [],
   "source": [
    "categorical = [\n",
    "    \"classe_bilhete\",\n",
    "    \"genero\",\n",
    "    \"numero_bilhete\",\n",
    "    \"cabine_numero\",\n",
    "    \"local_embarque\",\n",
    "    \"sobreviveu\",\n",
    "]"
   ]
  },
  {
   "cell_type": "markdown",
   "metadata": {},
   "source": [
    "#### Perguntas guias para as categorias categóricas:"
   ]
  },
  {
   "cell_type": "markdown",
   "metadata": {},
   "source": [
    "- Existem dados faltantes no seu conjunto?"
   ]
  },
  {
   "cell_type": "markdown",
   "metadata": {},
   "source": [
    "**Resposta:** Sim, há dados faltantes, abaixo temos o código no qual realiza a busca de dados faltantes utilizando uma função já definida neste notebook, com a modificação apenas no parâmetro passado, sendo este as colunas equivalentes as variáveis categóricas."
   ]
  },
  {
   "cell_type": "code",
   "execution_count": 13,
   "metadata": {},
   "outputs": [
    {
     "data": {
      "text/html": [
       "<div>\n",
       "<style scoped>\n",
       "    .dataframe tbody tr th:only-of-type {\n",
       "        vertical-align: middle;\n",
       "    }\n",
       "\n",
       "    .dataframe tbody tr th {\n",
       "        vertical-align: top;\n",
       "    }\n",
       "\n",
       "    .dataframe thead th {\n",
       "        text-align: right;\n",
       "    }\n",
       "</style>\n",
       "<table border=\"1\" class=\"dataframe\">\n",
       "  <thead>\n",
       "    <tr style=\"text-align: right;\">\n",
       "      <th></th>\n",
       "      <th>Count</th>\n",
       "      <th>Column</th>\n",
       "    </tr>\n",
       "  </thead>\n",
       "  <tbody>\n",
       "    <tr>\n",
       "      <th>0</th>\n",
       "      <td>687</td>\n",
       "      <td>cabine_numero</td>\n",
       "    </tr>\n",
       "    <tr>\n",
       "      <th>1</th>\n",
       "      <td>2</td>\n",
       "      <td>local_embarque</td>\n",
       "    </tr>\n",
       "  </tbody>\n",
       "</table>\n",
       "</div>"
      ],
      "text/plain": [
       "   Count          Column\n",
       "0    687   cabine_numero\n",
       "1      2  local_embarque"
      ]
     },
     "execution_count": 13,
     "metadata": {},
     "output_type": "execute_result"
    }
   ],
   "source": [
    "# Chamada da função get_missing_data_columns() que retorna a quantidade de dados faltantes por coluna.\n",
    "missing_categorical_data = get_missing_data_columns(df.loc[:,categorical])\n",
    "missing_categorical_data"
   ]
  },
  {
   "cell_type": "markdown",
   "metadata": {},
   "source": [
    "Plotagem da procentagem de dados faltantes em relação ao valor total de dados na amostra para cada coluna."
   ]
  },
  {
   "cell_type": "code",
   "execution_count": 14,
   "metadata": {},
   "outputs": [
    {
     "data": {
      "image/png": "[encoded data removed]",
      "text/plain": [
       "<Figure size 600x200 with 1 Axes>"
      ]
     },
     "metadata": {},
     "output_type": "display_data"
    }
   ],
   "source": [
    "# Chamada da função de plotagem do gráfico de porcentagem de representação dos dados faltantes.\n",
    "plot_missing_data(missing_categorical_data)"
   ]
  },
  {
   "cell_type": "markdown",
   "metadata": {},
   "source": [
    "- Conseguimos extrair alguma informação nas colunas `numero_bilhete` e `cabine_numero`? ([Dica](https://pt.wikipedia.org/wiki/Instala%C3%A7%C3%B5es_da_primeira_classe_do_RMS_Titanic))"
   ]
  },
  {
   "cell_type": "markdown",
   "metadata": {},
   "source": [
    "**Resposta:**"
   ]
  },
  {
   "cell_type": "code",
   "execution_count": 15,
   "metadata": {},
   "outputs": [
    {
     "name": "stdout",
     "output_type": "stream",
     "text": [
      "                 numero_bilhete cabine_numero\n",
      "id_passageiro                                \n",
      "1                     A/5 21171           NaN\n",
      "2                      PC 17599           C85\n",
      "3              STON/O2. 3101282           NaN\n",
      "4                        113803          C123\n",
      "5                        373450           NaN\n",
      "...                         ...           ...\n",
      "887                      211536           NaN\n",
      "888                      112053           B42\n",
      "889                  W./C. 6607           NaN\n",
      "890                      111369          C148\n",
      "891                      370376           NaN\n",
      "\n",
      "[891 rows x 2 columns]\n"
     ]
    }
   ],
   "source": [
    "###########\n",
    "print(df.loc[:,[\"numero_bilhete\", \"cabine_numero\"]])"
   ]
  },
  {
   "cell_type": "markdown",
   "metadata": {},
   "source": [
    "- Existe alguma casualidade ou correlação entre as categorias?"
   ]
  },
  {
   "cell_type": "markdown",
   "metadata": {},
   "source": [
    "**Resposta:**"
   ]
  },
  {
   "cell_type": "code",
   "execution_count": 16,
   "metadata": {},
   "outputs": [],
   "source": [
    "###########"
   ]
  },
  {
   "cell_type": "markdown",
   "metadata": {},
   "source": [
    "- Existe alguma relação entre a `classe_bilhete` e o `cabine_numero`?"
   ]
  },
  {
   "cell_type": "markdown",
   "metadata": {},
   "source": [
    "**Resposta:** Sim, pois a distribuição de passagerios dentro do navio estava associada a classe do bilhete comprado, cada cabine é referenciada utilizando o convés, que é determinado inicialmente pela classe, juntamente com um número para diferenciar cada cabine dentro de um mesmo convés, logo, dependendo da classe em que o passageiro esteja essa letra associada ao convés, irá ser diferente, por exemplo, um passageiro de 1º classe irá ter seu número de cabine iniciando com a letra pertencente a algum convés entre A e F, como definido nas regras do navio."
   ]
  },
  {
   "cell_type": "code",
   "execution_count": 17,
   "metadata": {},
   "outputs": [
    {
     "name": "stdout",
     "output_type": "stream",
     "text": [
      "Quantidade de bilhetes para a 1º classe: 216\n",
      "Quantidade de bilhetes para 2º e 3º classes: 675\n",
      "Quantidade de dados faltantes na coluna cabine_numero para as classes 2 e 3: 675\n",
      "Total de bilhetes: 891\n",
      "Total de passageiros de 1º, 2º e 3º classes: 891\n"
     ]
    }
   ],
   "source": [
    "# Pegar os dados de todos os passageriros da 1º classe.\n",
    "first = df.loc[(df[\"classe_bilhete\"] == 1)]\n",
    "# Mostrar a quantidade de bilhetes de passagerios de 1º classe.\n",
    "print(f\"Quantidade de bilhetes para a 1º classe: {first.shape[0]}\")\n",
    "\n",
    "# Pegar os dados de todos os passageiros de 2º e 3º terceira classe.\n",
    "no_first = df.loc[(df[\"classe_bilhete\"] == 2) | (df[\"classe_bilhete\"] == 3)].loc[:,\"cabine_numero\"]\n",
    "# Mostrar a quantidade de bilhetes de passagerios de 2º e 3º classe.\n",
    "print(f\"Quantidade de bilhetes para 2º e 3º classes: {no_first.shape[0]}\")\n",
    "\n",
    "# Mostrando que os dados dos passageiros de 2º e 3º classe não estão contidos no dataset.\n",
    "print(f\"Quantidade de dados faltantes na coluna cabine_numero para as classes 2 e 3: {no_first.isnull().count()}\")\n",
    "\n",
    "# Mostrando que o total de passagerios de todas as classes é equivalente ao total de bilheres da amostra.\n",
    "print(f\"Total de bilhetes: {df.shape[0]}\")\n",
    "print(f\"Total de passageiros de 1º, 2º e 3º classes: {first.shape[0] + no_first.shape[0]}\")"
   ]
  },
  {
   "cell_type": "markdown",
   "metadata": {},
   "source": [
    "#### Perguntas chave para as categorias categóricas:"
   ]
  },
  {
   "cell_type": "markdown",
   "metadata": {},
   "source": [
    "- Há alguma influência de pertencer a algum grupo de alguma cabine na sua sobrevivência?"
   ]
  },
  {
   "cell_type": "markdown",
   "metadata": {},
   "source": [
    "**Resposta:** Sim, os dados fornecidos na coluna cabine_numero, estão apenas associados as pessoas da 1º classe, e realizando uma análise, temos que 40% das pessoas sobreviventes estavam alocadas nas cabines destes conveses, destas, aproximadamente 20% estava alocada nas cabines dos conveses B e C, logo podemos dizer que sim, a cabine em que estivesse influenciou na sobrevivência, uma hipótese válida seria que isto aconteceu por uma questão de logística de escape dada a infraestrutura do navio e o posicionamento dos botes disponíveis."
   ]
  },
  {
   "cell_type": "code",
   "execution_count": 18,
   "metadata": {},
   "outputs": [
    {
     "name": "stderr",
     "output_type": "stream",
     "text": [
      "C:\\Users\\andreina_mendes\\AppData\\Local\\Temp\\ipykernel_21884\\1147641841.py:2: UserWarning: Boolean Series key will be reindexed to match DataFrame index.\n",
      "  cabin_not_null = df.query(\"sobreviveu == True\")[~df['cabine_numero'].isnull()]\n"
     ]
    },
    {
     "data": {
      "text/html": [
       "<div>\n",
       "<style scoped>\n",
       "    .dataframe tbody tr th:only-of-type {\n",
       "        vertical-align: middle;\n",
       "    }\n",
       "\n",
       "    .dataframe tbody tr th {\n",
       "        vertical-align: top;\n",
       "    }\n",
       "\n",
       "    .dataframe thead th {\n",
       "        text-align: right;\n",
       "    }\n",
       "</style>\n",
       "<table border=\"1\" class=\"dataframe\">\n",
       "  <thead>\n",
       "    <tr style=\"text-align: right;\">\n",
       "      <th></th>\n",
       "      <th>cabine_numero</th>\n",
       "      <th>sobreviveu</th>\n",
       "    </tr>\n",
       "    <tr>\n",
       "      <th>id_passageiro</th>\n",
       "      <th></th>\n",
       "      <th></th>\n",
       "    </tr>\n",
       "  </thead>\n",
       "  <tbody>\n",
       "    <tr>\n",
       "      <th>2</th>\n",
       "      <td>C85</td>\n",
       "      <td>True</td>\n",
       "    </tr>\n",
       "    <tr>\n",
       "      <th>4</th>\n",
       "      <td>C123</td>\n",
       "      <td>True</td>\n",
       "    </tr>\n",
       "    <tr>\n",
       "      <th>11</th>\n",
       "      <td>G6</td>\n",
       "      <td>True</td>\n",
       "    </tr>\n",
       "    <tr>\n",
       "      <th>12</th>\n",
       "      <td>C103</td>\n",
       "      <td>True</td>\n",
       "    </tr>\n",
       "    <tr>\n",
       "      <th>22</th>\n",
       "      <td>D56</td>\n",
       "      <td>True</td>\n",
       "    </tr>\n",
       "    <tr>\n",
       "      <th>...</th>\n",
       "      <td>...</td>\n",
       "      <td>...</td>\n",
       "    </tr>\n",
       "    <tr>\n",
       "      <th>863</th>\n",
       "      <td>D17</td>\n",
       "      <td>True</td>\n",
       "    </tr>\n",
       "    <tr>\n",
       "      <th>872</th>\n",
       "      <td>D35</td>\n",
       "      <td>True</td>\n",
       "    </tr>\n",
       "    <tr>\n",
       "      <th>880</th>\n",
       "      <td>C50</td>\n",
       "      <td>True</td>\n",
       "    </tr>\n",
       "    <tr>\n",
       "      <th>888</th>\n",
       "      <td>B42</td>\n",
       "      <td>True</td>\n",
       "    </tr>\n",
       "    <tr>\n",
       "      <th>890</th>\n",
       "      <td>C148</td>\n",
       "      <td>True</td>\n",
       "    </tr>\n",
       "  </tbody>\n",
       "</table>\n",
       "<p>136 rows × 2 columns</p>\n",
       "</div>"
      ],
      "text/plain": [
       "              cabine_numero  sobreviveu\n",
       "id_passageiro                          \n",
       "2                       C85        True\n",
       "4                      C123        True\n",
       "11                       G6        True\n",
       "12                     C103        True\n",
       "22                      D56        True\n",
       "...                     ...         ...\n",
       "863                     D17        True\n",
       "872                     D35        True\n",
       "880                     C50        True\n",
       "888                     B42        True\n",
       "890                    C148        True\n",
       "\n",
       "[136 rows x 2 columns]"
      ]
     },
     "execution_count": 18,
     "metadata": {},
     "output_type": "execute_result"
    }
   ],
   "source": [
    "# Aquisição de todos os valores de cabine não nulos.\n",
    "cabin_not_null = df.query(\"sobreviveu == True\")[~df['cabine_numero'].isnull()]\n",
    "cabin_not_null.loc[:,[\"cabine_numero\", \"sobreviveu\"]]"
   ]
  },
  {
   "cell_type": "code",
   "execution_count": 19,
   "metadata": {},
   "outputs": [
    {
     "data": {
      "text/plain": [
       "{'C': 0, 'G': 0, 'D': 0, 'A': 0, 'B': 0, 'F': 0, 'E': 0}"
      ]
     },
     "execution_count": 19,
     "metadata": {},
     "output_type": "execute_result"
    }
   ],
   "source": [
    "decks = {}\n",
    "\n",
    "# Para cada célula na coluna cabine_numero, pegar os valores.\n",
    "for cabin in cabin_not_null[\"cabine_numero\"].values:\n",
    "  # Pega o primeiro elemento do número da cabine, que é uma letra que representa o convés, e adiciona na lista de conveses, caso não exista.\n",
    "  if cabin[0] not in decks:\n",
    "    decks.update({cabin[0]:0})\n",
    "\n",
    "decks"
   ]
  },
  {
   "cell_type": "code",
   "execution_count": 20,
   "metadata": {},
   "outputs": [
    {
     "data": {
      "text/plain": [
       "342"
      ]
     },
     "execution_count": 20,
     "metadata": {},
     "output_type": "execute_result"
    }
   ],
   "source": [
    "# Pega os dados de todos os sobreviventes.\n",
    "survivors = df.query(\"sobreviveu == True\")\n",
    "# Pega a quantidades de linhas dos dados dos sobreviventes.\n",
    "survivors.shape[0]"
   ]
  },
  {
   "cell_type": "code",
   "execution_count": 21,
   "metadata": {},
   "outputs": [
    {
     "data": {
      "text/plain": [
       "id_passageiro\n",
       "2       C85\n",
       "4      C123\n",
       "11       G6\n",
       "12     C103\n",
       "22      D56\n",
       "       ... \n",
       "863     D17\n",
       "872     D35\n",
       "880     C50\n",
       "888     B42\n",
       "890    C148\n",
       "Name: cabine_numero, Length: 136, dtype: object"
      ]
     },
     "execution_count": 21,
     "metadata": {},
     "output_type": "execute_result"
    }
   ],
   "source": [
    "# Pega os dados da cabine de todos os sobreviventes\n",
    "survived_cabin = cabin_not_null.query(\"sobreviveu == True\").loc[:,\"cabine_numero\"]\n",
    "survived_cabin"
   ]
  },
  {
   "cell_type": "code",
   "execution_count": 22,
   "metadata": {},
   "outputs": [
    {
     "data": {
      "text/plain": [
       "{'C': 35, 'G': 2, 'D': 25, 'A': 7, 'B': 35, 'F': 8, 'E': 24}"
      ]
     },
     "execution_count": 22,
     "metadata": {},
     "output_type": "execute_result"
    }
   ],
   "source": [
    "# Faz um mapeamento de quantos sobreviventes para cada convés mapeado.\n",
    "for cabin in survived_cabin.values:\n",
    "  decks[cabin[0]] += 1\n",
    "\n",
    "decks"
   ]
  },
  {
   "cell_type": "code",
   "execution_count": 23,
   "metadata": {},
   "outputs": [
    {
     "data": {
      "text/plain": [
       "{'C': 0.1023391812865497,\n",
       " 'G': 0.005847953216374269,\n",
       " 'D': 0.07309941520467836,\n",
       " 'A': 0.02046783625730994,\n",
       " 'B': 0.1023391812865497,\n",
       " 'F': 0.023391812865497075,\n",
       " 'E': 0.07017543859649122}"
      ]
     },
     "execution_count": 23,
     "metadata": {},
     "output_type": "execute_result"
    }
   ],
   "source": [
    "# Gera a porcentagem de sobreviventes em relação a quantidade geral, para cada convés.\n",
    "for deck, value in decks.items():\n",
    "  decks[deck] = value/survivors.shape[0]\n",
    "\n",
    "decks"
   ]
  },
  {
   "cell_type": "code",
   "execution_count": 24,
   "metadata": {},
   "outputs": [
    {
     "name": "stdout",
     "output_type": "stream",
     "text": [
      "Pessoas que sobreviveram estando na primeira classe: 40.0% da população.\n"
     ]
    }
   ],
   "source": [
    "# Calcula a porcentagem final dos sobreviventes para os conveses disponibilizados nos dados.\n",
    "print(f\"Pessoas que sobreviveram estando na primeira classe: {round(sum(list(decks.values())), 2)*100}% da população.\")"
   ]
  },
  {
   "cell_type": "markdown",
   "metadata": {},
   "source": [
    "- Há algum padrão no `numero_bilhete`?"
   ]
  },
  {
   "cell_type": "code",
   "execution_count": 25,
   "metadata": {},
   "outputs": [
    {
     "data": {
      "text/html": [
       "<div>\n",
       "<style scoped>\n",
       "    .dataframe tbody tr th:only-of-type {\n",
       "        vertical-align: middle;\n",
       "    }\n",
       "\n",
       "    .dataframe tbody tr th {\n",
       "        vertical-align: top;\n",
       "    }\n",
       "\n",
       "    .dataframe thead th {\n",
       "        text-align: right;\n",
       "    }\n",
       "</style>\n",
       "<table border=\"1\" class=\"dataframe\">\n",
       "  <thead>\n",
       "    <tr style=\"text-align: right;\">\n",
       "      <th></th>\n",
       "      <th>numero_bilhete</th>\n",
       "      <th>classe_bilhete</th>\n",
       "      <th>cabine_numero</th>\n",
       "    </tr>\n",
       "    <tr>\n",
       "      <th>id_passageiro</th>\n",
       "      <th></th>\n",
       "      <th></th>\n",
       "      <th></th>\n",
       "    </tr>\n",
       "  </thead>\n",
       "  <tbody>\n",
       "    <tr>\n",
       "      <th>1</th>\n",
       "      <td>A/5 21171</td>\n",
       "      <td>3</td>\n",
       "      <td>NaN</td>\n",
       "    </tr>\n",
       "    <tr>\n",
       "      <th>2</th>\n",
       "      <td>PC 17599</td>\n",
       "      <td>1</td>\n",
       "      <td>C85</td>\n",
       "    </tr>\n",
       "    <tr>\n",
       "      <th>3</th>\n",
       "      <td>STON/O2. 3101282</td>\n",
       "      <td>3</td>\n",
       "      <td>NaN</td>\n",
       "    </tr>\n",
       "    <tr>\n",
       "      <th>4</th>\n",
       "      <td>113803</td>\n",
       "      <td>1</td>\n",
       "      <td>C123</td>\n",
       "    </tr>\n",
       "    <tr>\n",
       "      <th>5</th>\n",
       "      <td>373450</td>\n",
       "      <td>3</td>\n",
       "      <td>NaN</td>\n",
       "    </tr>\n",
       "    <tr>\n",
       "      <th>...</th>\n",
       "      <td>...</td>\n",
       "      <td>...</td>\n",
       "      <td>...</td>\n",
       "    </tr>\n",
       "    <tr>\n",
       "      <th>887</th>\n",
       "      <td>211536</td>\n",
       "      <td>2</td>\n",
       "      <td>NaN</td>\n",
       "    </tr>\n",
       "    <tr>\n",
       "      <th>888</th>\n",
       "      <td>112053</td>\n",
       "      <td>1</td>\n",
       "      <td>B42</td>\n",
       "    </tr>\n",
       "    <tr>\n",
       "      <th>889</th>\n",
       "      <td>W./C. 6607</td>\n",
       "      <td>3</td>\n",
       "      <td>NaN</td>\n",
       "    </tr>\n",
       "    <tr>\n",
       "      <th>890</th>\n",
       "      <td>111369</td>\n",
       "      <td>1</td>\n",
       "      <td>C148</td>\n",
       "    </tr>\n",
       "    <tr>\n",
       "      <th>891</th>\n",
       "      <td>370376</td>\n",
       "      <td>3</td>\n",
       "      <td>NaN</td>\n",
       "    </tr>\n",
       "  </tbody>\n",
       "</table>\n",
       "<p>891 rows × 3 columns</p>\n",
       "</div>"
      ],
      "text/plain": [
       "                 numero_bilhete  classe_bilhete cabine_numero\n",
       "id_passageiro                                                \n",
       "1                     A/5 21171               3           NaN\n",
       "2                      PC 17599               1           C85\n",
       "3              STON/O2. 3101282               3           NaN\n",
       "4                        113803               1          C123\n",
       "5                        373450               3           NaN\n",
       "...                         ...             ...           ...\n",
       "887                      211536               2           NaN\n",
       "888                      112053               1           B42\n",
       "889                  W./C. 6607               3           NaN\n",
       "890                      111369               1          C148\n",
       "891                      370376               3           NaN\n",
       "\n",
       "[891 rows x 3 columns]"
      ]
     },
     "execution_count": 25,
     "metadata": {},
     "output_type": "execute_result"
    }
   ],
   "source": [
    "###########\n",
    "df.loc[:, [\"numero_bilhete\", \"classe_bilhete\", \"cabine_numero\"]]"
   ]
  },
  {
   "cell_type": "markdown",
   "metadata": {},
   "source": [
    "- Há algum padrão na `cabine_numero`?"
   ]
  },
  {
   "cell_type": "markdown",
   "metadata": {},
   "source": [
    "**Resposta:** As cabines seguem o padrão convés+número da cabine, exemplo C85, E46, e isto vai está de acordo com a distribuição de conveses para cada classe."
   ]
  },
  {
   "cell_type": "code",
   "execution_count": 26,
   "metadata": {},
   "outputs": [
    {
     "data": {
      "text/plain": [
       "id_passageiro\n",
       "2              C85\n",
       "4             C123\n",
       "7              E46\n",
       "11              G6\n",
       "12            C103\n",
       "          ...     \n",
       "872            D35\n",
       "873    B51 B53 B55\n",
       "880            C50\n",
       "888            B42\n",
       "890           C148\n",
       "Name: cabine_numero, Length: 204, dtype: object"
      ]
     },
     "execution_count": 26,
     "metadata": {},
     "output_type": "execute_result"
    }
   ],
   "source": [
    "# Pega todos os dados não nulos para o número de cabines.\n",
    "non_null = df[~df['cabine_numero'].isnull()]\n",
    "non_null['cabine_numero']"
   ]
  },
  {
   "cell_type": "markdown",
   "metadata": {},
   "source": [
    "## Perguntas do Desafio:"
   ]
  },
  {
   "cell_type": "markdown",
   "metadata": {},
   "source": [
    "- Qual o fator que foi mais importante e menos importante para determinar a sobrevivência para esta população?"
   ]
  },
  {
   "cell_type": "markdown",
   "metadata": {},
   "source": [
    "**Resposta:** O fator mais importante foi o protocolo marítimo da época, de dar prioridade a crianças e mulheres, nas célular abaixo será mostrada que 72% desta amostra sobreviveu. E o fator menos importante foi o local de embarque dos passageiros, pois este não teve influência no momento do desastre."
   ]
  },
  {
   "cell_type": "code",
   "execution_count": 27,
   "metadata": {},
   "outputs": [
    {
     "data": {
      "text/html": [
       "<div>\n",
       "<style scoped>\n",
       "    .dataframe tbody tr th:only-of-type {\n",
       "        vertical-align: middle;\n",
       "    }\n",
       "\n",
       "    .dataframe tbody tr th {\n",
       "        vertical-align: top;\n",
       "    }\n",
       "\n",
       "    .dataframe thead th {\n",
       "        text-align: right;\n",
       "    }\n",
       "</style>\n",
       "<table border=\"1\" class=\"dataframe\">\n",
       "  <thead>\n",
       "    <tr style=\"text-align: right;\">\n",
       "      <th></th>\n",
       "      <th>sobreviveu</th>\n",
       "      <th>classe_bilhete</th>\n",
       "      <th>genero</th>\n",
       "      <th>idade</th>\n",
       "      <th>irmaos_conjuges_abordo</th>\n",
       "      <th>pais_filhos_abordo</th>\n",
       "      <th>numero_bilhete</th>\n",
       "      <th>preco_bilhete</th>\n",
       "      <th>cabine_numero</th>\n",
       "      <th>local_embarque</th>\n",
       "    </tr>\n",
       "    <tr>\n",
       "      <th>id_passageiro</th>\n",
       "      <th></th>\n",
       "      <th></th>\n",
       "      <th></th>\n",
       "      <th></th>\n",
       "      <th></th>\n",
       "      <th></th>\n",
       "      <th></th>\n",
       "      <th></th>\n",
       "      <th></th>\n",
       "      <th></th>\n",
       "    </tr>\n",
       "  </thead>\n",
       "  <tbody>\n",
       "    <tr>\n",
       "      <th>2</th>\n",
       "      <td>True</td>\n",
       "      <td>1</td>\n",
       "      <td>F</td>\n",
       "      <td>38.0</td>\n",
       "      <td>1</td>\n",
       "      <td>0</td>\n",
       "      <td>PC 17599</td>\n",
       "      <td>71.2833</td>\n",
       "      <td>C85</td>\n",
       "      <td>Cherbourg</td>\n",
       "    </tr>\n",
       "    <tr>\n",
       "      <th>3</th>\n",
       "      <td>True</td>\n",
       "      <td>3</td>\n",
       "      <td>F</td>\n",
       "      <td>26.0</td>\n",
       "      <td>0</td>\n",
       "      <td>0</td>\n",
       "      <td>STON/O2. 3101282</td>\n",
       "      <td>7.9250</td>\n",
       "      <td>NaN</td>\n",
       "      <td>Southampton</td>\n",
       "    </tr>\n",
       "    <tr>\n",
       "      <th>4</th>\n",
       "      <td>True</td>\n",
       "      <td>1</td>\n",
       "      <td>F</td>\n",
       "      <td>35.0</td>\n",
       "      <td>1</td>\n",
       "      <td>0</td>\n",
       "      <td>113803</td>\n",
       "      <td>53.1000</td>\n",
       "      <td>C123</td>\n",
       "      <td>Southampton</td>\n",
       "    </tr>\n",
       "    <tr>\n",
       "      <th>9</th>\n",
       "      <td>True</td>\n",
       "      <td>3</td>\n",
       "      <td>F</td>\n",
       "      <td>27.0</td>\n",
       "      <td>0</td>\n",
       "      <td>2</td>\n",
       "      <td>347742</td>\n",
       "      <td>11.1333</td>\n",
       "      <td>NaN</td>\n",
       "      <td>Southampton</td>\n",
       "    </tr>\n",
       "    <tr>\n",
       "      <th>10</th>\n",
       "      <td>True</td>\n",
       "      <td>2</td>\n",
       "      <td>F</td>\n",
       "      <td>14.0</td>\n",
       "      <td>1</td>\n",
       "      <td>0</td>\n",
       "      <td>237736</td>\n",
       "      <td>30.0708</td>\n",
       "      <td>NaN</td>\n",
       "      <td>Cherbourg</td>\n",
       "    </tr>\n",
       "    <tr>\n",
       "      <th>...</th>\n",
       "      <td>...</td>\n",
       "      <td>...</td>\n",
       "      <td>...</td>\n",
       "      <td>...</td>\n",
       "      <td>...</td>\n",
       "      <td>...</td>\n",
       "      <td>...</td>\n",
       "      <td>...</td>\n",
       "      <td>...</td>\n",
       "      <td>...</td>\n",
       "    </tr>\n",
       "    <tr>\n",
       "      <th>876</th>\n",
       "      <td>True</td>\n",
       "      <td>3</td>\n",
       "      <td>F</td>\n",
       "      <td>15.0</td>\n",
       "      <td>0</td>\n",
       "      <td>0</td>\n",
       "      <td>2667</td>\n",
       "      <td>7.2250</td>\n",
       "      <td>NaN</td>\n",
       "      <td>Cherbourg</td>\n",
       "    </tr>\n",
       "    <tr>\n",
       "      <th>880</th>\n",
       "      <td>True</td>\n",
       "      <td>1</td>\n",
       "      <td>F</td>\n",
       "      <td>56.0</td>\n",
       "      <td>0</td>\n",
       "      <td>1</td>\n",
       "      <td>11767</td>\n",
       "      <td>83.1583</td>\n",
       "      <td>C50</td>\n",
       "      <td>Cherbourg</td>\n",
       "    </tr>\n",
       "    <tr>\n",
       "      <th>881</th>\n",
       "      <td>True</td>\n",
       "      <td>2</td>\n",
       "      <td>F</td>\n",
       "      <td>25.0</td>\n",
       "      <td>0</td>\n",
       "      <td>1</td>\n",
       "      <td>230433</td>\n",
       "      <td>26.0000</td>\n",
       "      <td>NaN</td>\n",
       "      <td>Southampton</td>\n",
       "    </tr>\n",
       "    <tr>\n",
       "      <th>888</th>\n",
       "      <td>True</td>\n",
       "      <td>1</td>\n",
       "      <td>F</td>\n",
       "      <td>19.0</td>\n",
       "      <td>0</td>\n",
       "      <td>0</td>\n",
       "      <td>112053</td>\n",
       "      <td>30.0000</td>\n",
       "      <td>B42</td>\n",
       "      <td>Southampton</td>\n",
       "    </tr>\n",
       "    <tr>\n",
       "      <th>890</th>\n",
       "      <td>True</td>\n",
       "      <td>1</td>\n",
       "      <td>M</td>\n",
       "      <td>26.0</td>\n",
       "      <td>0</td>\n",
       "      <td>0</td>\n",
       "      <td>111369</td>\n",
       "      <td>30.0000</td>\n",
       "      <td>C148</td>\n",
       "      <td>Cherbourg</td>\n",
       "    </tr>\n",
       "  </tbody>\n",
       "</table>\n",
       "<p>342 rows × 10 columns</p>\n",
       "</div>"
      ],
      "text/plain": [
       "               sobreviveu  classe_bilhete genero  idade  \\\n",
       "id_passageiro                                             \n",
       "2                    True               1      F   38.0   \n",
       "3                    True               3      F   26.0   \n",
       "4                    True               1      F   35.0   \n",
       "9                    True               3      F   27.0   \n",
       "10                   True               2      F   14.0   \n",
       "...                   ...             ...    ...    ...   \n",
       "876                  True               3      F   15.0   \n",
       "880                  True               1      F   56.0   \n",
       "881                  True               2      F   25.0   \n",
       "888                  True               1      F   19.0   \n",
       "890                  True               1      M   26.0   \n",
       "\n",
       "               irmaos_conjuges_abordo  pais_filhos_abordo    numero_bilhete  \\\n",
       "id_passageiro                                                                 \n",
       "2                                   1                   0          PC 17599   \n",
       "3                                   0                   0  STON/O2. 3101282   \n",
       "4                                   1                   0            113803   \n",
       "9                                   0                   2            347742   \n",
       "10                                  1                   0            237736   \n",
       "...                               ...                 ...               ...   \n",
       "876                                 0                   0              2667   \n",
       "880                                 0                   1             11767   \n",
       "881                                 0                   1            230433   \n",
       "888                                 0                   0            112053   \n",
       "890                                 0                   0            111369   \n",
       "\n",
       "               preco_bilhete cabine_numero local_embarque  \n",
       "id_passageiro                                              \n",
       "2                    71.2833           C85      Cherbourg  \n",
       "3                     7.9250           NaN    Southampton  \n",
       "4                    53.1000          C123    Southampton  \n",
       "9                    11.1333           NaN    Southampton  \n",
       "10                   30.0708           NaN      Cherbourg  \n",
       "...                      ...           ...            ...  \n",
       "876                   7.2250           NaN      Cherbourg  \n",
       "880                  83.1583           C50      Cherbourg  \n",
       "881                  26.0000           NaN    Southampton  \n",
       "888                  30.0000           B42    Southampton  \n",
       "890                  30.0000          C148      Cherbourg  \n",
       "\n",
       "[342 rows x 10 columns]"
      ]
     },
     "execution_count": 27,
     "metadata": {},
     "output_type": "execute_result"
    }
   ],
   "source": [
    "# Visualização dos dados dos sobreviventes para análise\n",
    "df.query(\"sobreviveu == True\")"
   ]
  },
  {
   "cell_type": "markdown",
   "metadata": {},
   "source": [
    "- Você pode dizer que houve alguma influência do poder aquisitivo na sobrevivência do acidente?"
   ]
  },
  {
   "cell_type": "markdown",
   "metadata": {},
   "source": [
    "**Resposta:** Não é possível de afirmar isto pois pois não há uma diferença discrepante entre as quantidades de sobreviventes para cada classe as classes."
   ]
  },
  {
   "cell_type": "code",
   "execution_count": 28,
   "metadata": {},
   "outputs": [
    {
     "data": {
      "text/plain": [
       "classe_bilhete\n",
       "1    136\n",
       "2     87\n",
       "3    119\n",
       "Name: sobreviveu, dtype: int64"
      ]
     },
     "execution_count": 28,
     "metadata": {},
     "output_type": "execute_result"
    }
   ],
   "source": [
    "# Filtra o dataframe apenas para os dados dos sobreviventes e após isso faz um agrupamento para classe_bilhete contando quantos dados há para cada classe.\n",
    "df.query(\"sobreviveu == True\").groupby(\"classe_bilhete\")[\"sobreviveu\"].count()"
   ]
  },
  {
   "cell_type": "markdown",
   "metadata": {},
   "source": [
    "- O protocolo marítimo da época do Titanic tinha foco em dar prioridade a crianças e mulheres, analisando os dados podemos dizer se este protocolo foi seguido?\n"
   ]
  },
  {
   "cell_type": "markdown",
   "metadata": {},
   "source": [
    "**Resposta:** Sim, o protocolo foi seguido, pois 72% das pessoas do gênero feminino e ou pessoas abaixo de 12 anos sobreviveram."
   ]
  },
  {
   "cell_type": "markdown",
   "metadata": {},
   "source": [
    "- Ter uma família no barco influenciou negativamente ou positivamente para a sua sobrevivência?"
   ]
  },
  {
   "cell_type": "markdown",
   "metadata": {},
   "source": [
    "**Resposta:** Influenciou positivamente já que 51% das pessoas com familiares sobreviveram em contrapartida aos 30% sem familiares que sobreviveram, mas é importante ressaltar que estes resultados possam ter sido influenciados por outros requisitos, além de ter ou não família no navio."
   ]
  },
  {
   "cell_type": "code",
   "execution_count": 29,
   "metadata": {},
   "outputs": [
    {
     "name": "stdout",
     "output_type": "stream",
     "text": [
      "Porcentagem dos que sobreviveram com família em relação a toda a amostra com familiares: 51.0%\n",
      "Porcentagem dos que sobreviveram sem família em relação a toda a amostra sem familiares: 30.0%\n"
     ]
    }
   ],
   "source": [
    "# Pega todos os dados das pessoas que levaram irmão(s)/conjuge(s) ou pais/filhos\n",
    "with_family = df.loc[(df[\"irmaos_conjuges_abordo\"] > 0) | (df[\"pais_filhos_abordo\"] > 0)]\n",
    "# Pega todos os dados das pessoas que não levaram irmão(s)/conjuge(s) e pais/filhos\n",
    "without_family = df.loc[(df[\"irmaos_conjuges_abordo\"] == 0) & (df[\"pais_filhos_abordo\"] == 0)]\n",
    "\n",
    "# Pega a porcentagem de pessoas com família que sobreviveram em relação ao total da amostra destes.\n",
    "survived_with_family = with_family.query(\"sobreviveu == True\").shape[0]/with_family.shape[0]\n",
    "# Pega a porcentagem de pessoas sem família no navio que sobreviveram em relação ao total da amostra destes.\n",
    "survived_without_family = without_family.query(\"sobreviveu == True\").shape[0]/without_family.shape[0]\n",
    "\n",
    "# Mostra os resultados no formato de porcentagem.\n",
    "print(f\"Porcentagem dos que sobreviveram com família em relação a toda a amostra com familiares: {round(survived_with_family, 2)*100}%\")\n",
    "print(f\"Porcentagem dos que sobreviveram sem família em relação a toda a amostra sem familiares: {round(survived_without_family, 2)*100}%\")"
   ]
  },
  {
   "cell_type": "markdown",
   "metadata": {},
   "source": [
    "- Qual o perfil de quem não sobreviveu? E qual é o perfil de quem sobreviveu? Entenda Perfil como: Gênero, Idade e Classe Social. Caso você identifique alguma nova característica pode adicioná-la ao perfil."
   ]
  },
  {
   "cell_type": "markdown",
   "metadata": {},
   "source": [
    "**Resposta:** Dentre os sobreviventes podemos ressaltar que estes estavam bem distribuídos entre as classes e que sua maioria está entre mulheres. Podemos ressaltar também que suas idades estão contidas em sua maioria, no intervalo de 20 a 40 anos."
   ]
  },
  {
   "cell_type": "code",
   "execution_count": 30,
   "metadata": {},
   "outputs": [
    {
     "data": {
      "image/png": "[encoded data removed]",
      "text/plain": [
       "<Figure size 1000x300 with 3 Axes>"
      ]
     },
     "metadata": {},
     "output_type": "display_data"
    },
    {
     "data": {
      "image/png": "[encoded data removed]",
      "text/plain": [
       "<Figure size 1000x300 with 3 Axes>"
      ]
     },
     "metadata": {},
     "output_type": "display_data"
    }
   ],
   "source": [
    "# Pega os dados de gênero, idade e classe_bilhete entre todos os sobreviventes.\n",
    "survived = df.query(\"sobreviveu == True\").loc[:,[\"genero\", \"idade\", \"classe_bilhete\"]]\n",
    "# Pega os dados de gênero, idade e classe_bilhete entre todos os não sobreviventes.\n",
    "not_survived = df.query(\"sobreviveu == False\").loc[:,[\"genero\", \"idade\", \"classe_bilhete\"]]\n",
    "\n",
    "# Define uma figura com 3 colunas para mostrar os dados.\n",
    "fig, axes = plt.subplots(1, 3, figsize=(10, 3), sharey=True)\n",
    "# Cria um subtítulo para a figura.\n",
    "fig.suptitle('Profile of survivors')\n",
    "# Plota um histograma para a contagem de pessoas que sobreviveram considerando o gênero.\n",
    "sns.histplot(ax=axes[0], x=\"genero\", data=survived, color=\"#00853B\")\n",
    "# Plota um histograma para a contagem de pessoas que sobreviveram considerando a idade.\n",
    "sns.histplot(ax=axes[1], x=\"idade\", data=survived, color=\"#00853B\")\n",
    "# Plota um histograma para a contagem de pessoas que sobreviveram considerando a classe.\n",
    "sns.histplot(ax=axes[2], x=\"classe_bilhete\", data=survived, color=\"#00853B\")\n",
    "# Plota a figura com os histogramas.\n",
    "plt.show()\n",
    "\n",
    "# Define uma figura com 3 colunas para mostrar os dados.\n",
    "fig, axes = plt.subplots(1, 3, figsize=(10, 3), sharey=True)\n",
    "# Cria um subtítulo para a figura.\n",
    "fig.suptitle('Profile of not survivors')\n",
    "# Plota um histograma para a contagem de pessoas que não sobreviveram considerando o gênero.\n",
    "sns.histplot(ax=axes[0], x=\"genero\", data=not_survived, color=\"#00853B\")\n",
    "# Plota um histograma para a contagem de pessoas que não sobreviveram considerando a idade.\n",
    "sns.histplot(ax=axes[1], x=\"idade\", data=not_survived, color=\"#00853B\")\n",
    "# Plota um histograma para a contagem de pessoas que não sobreviveram considerando a classe.\n",
    "sns.histplot(ax=axes[2], x=\"classe_bilhete\", data=not_survived, color=\"#00853B\")\n",
    "# Plota a figura com os histogramas.\n",
    "plt.show()"
   ]
  },
  {
   "cell_type": "markdown",
   "metadata": {},
   "source": [
    "## Predições com Modelo ML"
   ]
  },
  {
   "cell_type": "code",
   "execution_count": 31,
   "metadata": {},
   "outputs": [],
   "source": [
    "# Importação dos pacotes scikit-learn\n",
    "from sklearn.model_selection import RepeatedKFold\n",
    "from sklearn.ensemble import RandomForestClassifier"
   ]
  },
  {
   "cell_type": "code",
   "execution_count": 79,
   "metadata": {},
   "outputs": [
    {
     "data": {
      "text/html": [
       "<div>\n",
       "<style scoped>\n",
       "    .dataframe tbody tr th:only-of-type {\n",
       "        vertical-align: middle;\n",
       "    }\n",
       "\n",
       "    .dataframe tbody tr th {\n",
       "        vertical-align: top;\n",
       "    }\n",
       "\n",
       "    .dataframe thead th {\n",
       "        text-align: right;\n",
       "    }\n",
       "</style>\n",
       "<table border=\"1\" class=\"dataframe\">\n",
       "  <thead>\n",
       "    <tr style=\"text-align: right;\">\n",
       "      <th></th>\n",
       "      <th>sobreviveu</th>\n",
       "      <th>classe_bilhete</th>\n",
       "      <th>genero</th>\n",
       "      <th>idade</th>\n",
       "      <th>irmaos_conjuges_abordo</th>\n",
       "      <th>pais_filhos_abordo</th>\n",
       "      <th>numero_bilhete</th>\n",
       "      <th>preco_bilhete</th>\n",
       "      <th>cabine_numero</th>\n",
       "      <th>local_embarque</th>\n",
       "    </tr>\n",
       "    <tr>\n",
       "      <th>id_passageiro</th>\n",
       "      <th></th>\n",
       "      <th></th>\n",
       "      <th></th>\n",
       "      <th></th>\n",
       "      <th></th>\n",
       "      <th></th>\n",
       "      <th></th>\n",
       "      <th></th>\n",
       "      <th></th>\n",
       "      <th></th>\n",
       "    </tr>\n",
       "  </thead>\n",
       "  <tbody>\n",
       "    <tr>\n",
       "      <th>1</th>\n",
       "      <td>False</td>\n",
       "      <td>3</td>\n",
       "      <td>M</td>\n",
       "      <td>22.0</td>\n",
       "      <td>1</td>\n",
       "      <td>0</td>\n",
       "      <td>A/5 21171</td>\n",
       "      <td>7.2500</td>\n",
       "      <td>NaN</td>\n",
       "      <td>Southampton</td>\n",
       "    </tr>\n",
       "    <tr>\n",
       "      <th>2</th>\n",
       "      <td>True</td>\n",
       "      <td>1</td>\n",
       "      <td>F</td>\n",
       "      <td>38.0</td>\n",
       "      <td>1</td>\n",
       "      <td>0</td>\n",
       "      <td>PC 17599</td>\n",
       "      <td>71.2833</td>\n",
       "      <td>C85</td>\n",
       "      <td>Cherbourg</td>\n",
       "    </tr>\n",
       "    <tr>\n",
       "      <th>3</th>\n",
       "      <td>True</td>\n",
       "      <td>3</td>\n",
       "      <td>F</td>\n",
       "      <td>26.0</td>\n",
       "      <td>0</td>\n",
       "      <td>0</td>\n",
       "      <td>STON/O2. 3101282</td>\n",
       "      <td>7.9250</td>\n",
       "      <td>NaN</td>\n",
       "      <td>Southampton</td>\n",
       "    </tr>\n",
       "    <tr>\n",
       "      <th>4</th>\n",
       "      <td>True</td>\n",
       "      <td>1</td>\n",
       "      <td>F</td>\n",
       "      <td>35.0</td>\n",
       "      <td>1</td>\n",
       "      <td>0</td>\n",
       "      <td>113803</td>\n",
       "      <td>53.1000</td>\n",
       "      <td>C123</td>\n",
       "      <td>Southampton</td>\n",
       "    </tr>\n",
       "    <tr>\n",
       "      <th>5</th>\n",
       "      <td>False</td>\n",
       "      <td>3</td>\n",
       "      <td>M</td>\n",
       "      <td>35.0</td>\n",
       "      <td>0</td>\n",
       "      <td>0</td>\n",
       "      <td>373450</td>\n",
       "      <td>8.0500</td>\n",
       "      <td>NaN</td>\n",
       "      <td>Southampton</td>\n",
       "    </tr>\n",
       "  </tbody>\n",
       "</table>\n",
       "</div>"
      ],
      "text/plain": [
       "               sobreviveu  classe_bilhete genero  idade  \\\n",
       "id_passageiro                                             \n",
       "1                   False               3      M   22.0   \n",
       "2                    True               1      F   38.0   \n",
       "3                    True               3      F   26.0   \n",
       "4                    True               1      F   35.0   \n",
       "5                   False               3      M   35.0   \n",
       "\n",
       "               irmaos_conjuges_abordo  pais_filhos_abordo    numero_bilhete  \\\n",
       "id_passageiro                                                                 \n",
       "1                                   1                   0         A/5 21171   \n",
       "2                                   1                   0          PC 17599   \n",
       "3                                   0                   0  STON/O2. 3101282   \n",
       "4                                   1                   0            113803   \n",
       "5                                   0                   0            373450   \n",
       "\n",
       "               preco_bilhete cabine_numero local_embarque  \n",
       "id_passageiro                                              \n",
       "1                     7.2500           NaN    Southampton  \n",
       "2                    71.2833           C85      Cherbourg  \n",
       "3                     7.9250           NaN    Southampton  \n",
       "4                    53.1000          C123    Southampton  \n",
       "5                     8.0500           NaN    Southampton  "
      ]
     },
     "execution_count": 79,
     "metadata": {},
     "output_type": "execute_result"
    }
   ],
   "source": [
    "# Reimportando o conjunto de dados\n",
    "df = pd.read_csv(\"titanic.csv\").set_index(\"id_passageiro\")\n",
    "df.head()"
   ]
  },
  {
   "cell_type": "markdown",
   "metadata": {},
   "source": [
    "#### Perguntas guias para criação do modelo:\n",
    "- Como você pretende tratar os dados faltantes do seu dataset antes de fornecer para o modelo?\n",
    "- Você consegue criar alguma nova coluna (feature) para fornecer ao modelo?\n",
    "- Existe alguma coluna que pode ser removida sob algum critério? Como por exemplo correlação?\n",
    "- Você encontrou `outliers` no dataset? Se sim qual ação foi feita com estes dados?\n",
    "- Quais normatizações você aplicou nos dados categóricos e numéricos?"
   ]
  },
  {
   "cell_type": "markdown",
   "metadata": {},
   "source": [
    "**Pré-processamento**"
   ]
  },
  {
   "cell_type": "markdown",
   "metadata": {},
   "source": [
    "Criação da coluna Convés a partir da coluna cabine numero e remoção da coluna cabine_numero"
   ]
  },
  {
   "cell_type": "code",
   "execution_count": 80,
   "metadata": {},
   "outputs": [
    {
     "data": {
      "text/html": [
       "<div>\n",
       "<style scoped>\n",
       "    .dataframe tbody tr th:only-of-type {\n",
       "        vertical-align: middle;\n",
       "    }\n",
       "\n",
       "    .dataframe tbody tr th {\n",
       "        vertical-align: top;\n",
       "    }\n",
       "\n",
       "    .dataframe thead th {\n",
       "        text-align: right;\n",
       "    }\n",
       "</style>\n",
       "<table border=\"1\" class=\"dataframe\">\n",
       "  <thead>\n",
       "    <tr style=\"text-align: right;\">\n",
       "      <th></th>\n",
       "      <th>conves</th>\n",
       "    </tr>\n",
       "  </thead>\n",
       "  <tbody>\n",
       "    <tr>\n",
       "      <th>0</th>\n",
       "      <td>C</td>\n",
       "    </tr>\n",
       "    <tr>\n",
       "      <th>1</th>\n",
       "      <td>C</td>\n",
       "    </tr>\n",
       "    <tr>\n",
       "      <th>2</th>\n",
       "      <td>E</td>\n",
       "    </tr>\n",
       "    <tr>\n",
       "      <th>3</th>\n",
       "      <td>G</td>\n",
       "    </tr>\n",
       "    <tr>\n",
       "      <th>4</th>\n",
       "      <td>C</td>\n",
       "    </tr>\n",
       "  </tbody>\n",
       "</table>\n",
       "</div>"
      ],
      "text/plain": [
       "  conves\n",
       "0      C\n",
       "1      C\n",
       "2      E\n",
       "3      G\n",
       "4      C"
      ]
     },
     "execution_count": 80,
     "metadata": {},
     "output_type": "execute_result"
    }
   ],
   "source": [
    "df_conves = df[df['cabine_numero'].notna()]\n",
    "df_conves = df_conves['cabine_numero'].apply(lambda x: x[0])\n",
    "df_conves = pd.DataFrame.from_records(df_conves.values, columns=['conves'])\n",
    "df_conves.head()"
   ]
  },
  {
   "cell_type": "markdown",
   "metadata": {},
   "source": [
    "Remoção das colunas cabine_numero, numero_bilhete e local_embarque."
   ]
  },
  {
   "cell_type": "code",
   "execution_count": 81,
   "metadata": {},
   "outputs": [
    {
     "data": {
      "text/html": [
       "<div>\n",
       "<style scoped>\n",
       "    .dataframe tbody tr th:only-of-type {\n",
       "        vertical-align: middle;\n",
       "    }\n",
       "\n",
       "    .dataframe tbody tr th {\n",
       "        vertical-align: top;\n",
       "    }\n",
       "\n",
       "    .dataframe thead th {\n",
       "        text-align: right;\n",
       "    }\n",
       "</style>\n",
       "<table border=\"1\" class=\"dataframe\">\n",
       "  <thead>\n",
       "    <tr style=\"text-align: right;\">\n",
       "      <th></th>\n",
       "      <th>sobreviveu</th>\n",
       "      <th>classe_bilhete</th>\n",
       "      <th>genero</th>\n",
       "      <th>idade</th>\n",
       "      <th>irmaos_conjuges_abordo</th>\n",
       "      <th>pais_filhos_abordo</th>\n",
       "      <th>preco_bilhete</th>\n",
       "    </tr>\n",
       "    <tr>\n",
       "      <th>id_passageiro</th>\n",
       "      <th></th>\n",
       "      <th></th>\n",
       "      <th></th>\n",
       "      <th></th>\n",
       "      <th></th>\n",
       "      <th></th>\n",
       "      <th></th>\n",
       "    </tr>\n",
       "  </thead>\n",
       "  <tbody>\n",
       "    <tr>\n",
       "      <th>1</th>\n",
       "      <td>False</td>\n",
       "      <td>3</td>\n",
       "      <td>M</td>\n",
       "      <td>22.0</td>\n",
       "      <td>1</td>\n",
       "      <td>0</td>\n",
       "      <td>7.2500</td>\n",
       "    </tr>\n",
       "    <tr>\n",
       "      <th>2</th>\n",
       "      <td>True</td>\n",
       "      <td>1</td>\n",
       "      <td>F</td>\n",
       "      <td>38.0</td>\n",
       "      <td>1</td>\n",
       "      <td>0</td>\n",
       "      <td>71.2833</td>\n",
       "    </tr>\n",
       "    <tr>\n",
       "      <th>3</th>\n",
       "      <td>True</td>\n",
       "      <td>3</td>\n",
       "      <td>F</td>\n",
       "      <td>26.0</td>\n",
       "      <td>0</td>\n",
       "      <td>0</td>\n",
       "      <td>7.9250</td>\n",
       "    </tr>\n",
       "    <tr>\n",
       "      <th>4</th>\n",
       "      <td>True</td>\n",
       "      <td>1</td>\n",
       "      <td>F</td>\n",
       "      <td>35.0</td>\n",
       "      <td>1</td>\n",
       "      <td>0</td>\n",
       "      <td>53.1000</td>\n",
       "    </tr>\n",
       "    <tr>\n",
       "      <th>5</th>\n",
       "      <td>False</td>\n",
       "      <td>3</td>\n",
       "      <td>M</td>\n",
       "      <td>35.0</td>\n",
       "      <td>0</td>\n",
       "      <td>0</td>\n",
       "      <td>8.0500</td>\n",
       "    </tr>\n",
       "  </tbody>\n",
       "</table>\n",
       "</div>"
      ],
      "text/plain": [
       "               sobreviveu  classe_bilhete genero  idade  \\\n",
       "id_passageiro                                             \n",
       "1                   False               3      M   22.0   \n",
       "2                    True               1      F   38.0   \n",
       "3                    True               3      F   26.0   \n",
       "4                    True               1      F   35.0   \n",
       "5                   False               3      M   35.0   \n",
       "\n",
       "               irmaos_conjuges_abordo  pais_filhos_abordo  preco_bilhete  \n",
       "id_passageiro                                                             \n",
       "1                                   1                   0         7.2500  \n",
       "2                                   1                   0        71.2833  \n",
       "3                                   0                   0         7.9250  \n",
       "4                                   1                   0        53.1000  \n",
       "5                                   0                   0         8.0500  "
      ]
     },
     "execution_count": 81,
     "metadata": {},
     "output_type": "execute_result"
    }
   ],
   "source": [
    "df.pop('cabine_numero')\n",
    "df.pop('numero_bilhete')\n",
    "df.pop('local_embarque')\n",
    "df.head()"
   ]
  },
  {
   "cell_type": "markdown",
   "metadata": {},
   "source": [
    "Merge com a coluna conves criada."
   ]
  },
  {
   "cell_type": "code",
   "execution_count": 82,
   "metadata": {},
   "outputs": [
    {
     "data": {
      "text/html": [
       "<div>\n",
       "<style scoped>\n",
       "    .dataframe tbody tr th:only-of-type {\n",
       "        vertical-align: middle;\n",
       "    }\n",
       "\n",
       "    .dataframe tbody tr th {\n",
       "        vertical-align: top;\n",
       "    }\n",
       "\n",
       "    .dataframe thead th {\n",
       "        text-align: right;\n",
       "    }\n",
       "</style>\n",
       "<table border=\"1\" class=\"dataframe\">\n",
       "  <thead>\n",
       "    <tr style=\"text-align: right;\">\n",
       "      <th></th>\n",
       "      <th>sobreviveu</th>\n",
       "      <th>classe_bilhete</th>\n",
       "      <th>genero</th>\n",
       "      <th>idade</th>\n",
       "      <th>irmaos_conjuges_abordo</th>\n",
       "      <th>pais_filhos_abordo</th>\n",
       "      <th>preco_bilhete</th>\n",
       "      <th>conves</th>\n",
       "    </tr>\n",
       "    <tr>\n",
       "      <th>id_passageiro</th>\n",
       "      <th></th>\n",
       "      <th></th>\n",
       "      <th></th>\n",
       "      <th></th>\n",
       "      <th></th>\n",
       "      <th></th>\n",
       "      <th></th>\n",
       "      <th></th>\n",
       "    </tr>\n",
       "  </thead>\n",
       "  <tbody>\n",
       "    <tr>\n",
       "      <th>1</th>\n",
       "      <td>False</td>\n",
       "      <td>3</td>\n",
       "      <td>M</td>\n",
       "      <td>22.0</td>\n",
       "      <td>1</td>\n",
       "      <td>0</td>\n",
       "      <td>7.2500</td>\n",
       "      <td>C</td>\n",
       "    </tr>\n",
       "    <tr>\n",
       "      <th>2</th>\n",
       "      <td>True</td>\n",
       "      <td>1</td>\n",
       "      <td>F</td>\n",
       "      <td>38.0</td>\n",
       "      <td>1</td>\n",
       "      <td>0</td>\n",
       "      <td>71.2833</td>\n",
       "      <td>E</td>\n",
       "    </tr>\n",
       "    <tr>\n",
       "      <th>3</th>\n",
       "      <td>True</td>\n",
       "      <td>3</td>\n",
       "      <td>F</td>\n",
       "      <td>26.0</td>\n",
       "      <td>0</td>\n",
       "      <td>0</td>\n",
       "      <td>7.9250</td>\n",
       "      <td>G</td>\n",
       "    </tr>\n",
       "    <tr>\n",
       "      <th>4</th>\n",
       "      <td>True</td>\n",
       "      <td>1</td>\n",
       "      <td>F</td>\n",
       "      <td>35.0</td>\n",
       "      <td>1</td>\n",
       "      <td>0</td>\n",
       "      <td>53.1000</td>\n",
       "      <td>C</td>\n",
       "    </tr>\n",
       "    <tr>\n",
       "      <th>5</th>\n",
       "      <td>False</td>\n",
       "      <td>3</td>\n",
       "      <td>M</td>\n",
       "      <td>35.0</td>\n",
       "      <td>0</td>\n",
       "      <td>0</td>\n",
       "      <td>8.0500</td>\n",
       "      <td>D</td>\n",
       "    </tr>\n",
       "  </tbody>\n",
       "</table>\n",
       "</div>"
      ],
      "text/plain": [
       "               sobreviveu  classe_bilhete genero  idade  \\\n",
       "id_passageiro                                             \n",
       "1                   False               3      M   22.0   \n",
       "2                    True               1      F   38.0   \n",
       "3                    True               3      F   26.0   \n",
       "4                    True               1      F   35.0   \n",
       "5                   False               3      M   35.0   \n",
       "\n",
       "               irmaos_conjuges_abordo  pais_filhos_abordo  preco_bilhete  \\\n",
       "id_passageiro                                                              \n",
       "1                                   1                   0         7.2500   \n",
       "2                                   1                   0        71.2833   \n",
       "3                                   0                   0         7.9250   \n",
       "4                                   1                   0        53.1000   \n",
       "5                                   0                   0         8.0500   \n",
       "\n",
       "              conves  \n",
       "id_passageiro         \n",
       "1                  C  \n",
       "2                  E  \n",
       "3                  G  \n",
       "4                  C  \n",
       "5                  D  "
      ]
     },
     "execution_count": 82,
     "metadata": {},
     "output_type": "execute_result"
    }
   ],
   "source": [
    "df = df.assign(conves=df_conves)\n",
    "df.head()"
   ]
  },
  {
   "cell_type": "markdown",
   "metadata": {},
   "source": [
    "Codificação dos dados da coluna sobreviveu."
   ]
  },
  {
   "cell_type": "code",
   "execution_count": 83,
   "metadata": {},
   "outputs": [
    {
     "data": {
      "text/html": [
       "<div>\n",
       "<style scoped>\n",
       "    .dataframe tbody tr th:only-of-type {\n",
       "        vertical-align: middle;\n",
       "    }\n",
       "\n",
       "    .dataframe tbody tr th {\n",
       "        vertical-align: top;\n",
       "    }\n",
       "\n",
       "    .dataframe thead th {\n",
       "        text-align: right;\n",
       "    }\n",
       "</style>\n",
       "<table border=\"1\" class=\"dataframe\">\n",
       "  <thead>\n",
       "    <tr style=\"text-align: right;\">\n",
       "      <th></th>\n",
       "      <th>sobreviveu</th>\n",
       "      <th>classe_bilhete</th>\n",
       "      <th>genero</th>\n",
       "      <th>idade</th>\n",
       "      <th>irmaos_conjuges_abordo</th>\n",
       "      <th>pais_filhos_abordo</th>\n",
       "      <th>preco_bilhete</th>\n",
       "      <th>conves</th>\n",
       "    </tr>\n",
       "    <tr>\n",
       "      <th>id_passageiro</th>\n",
       "      <th></th>\n",
       "      <th></th>\n",
       "      <th></th>\n",
       "      <th></th>\n",
       "      <th></th>\n",
       "      <th></th>\n",
       "      <th></th>\n",
       "      <th></th>\n",
       "    </tr>\n",
       "  </thead>\n",
       "  <tbody>\n",
       "    <tr>\n",
       "      <th>1</th>\n",
       "      <td>0</td>\n",
       "      <td>3</td>\n",
       "      <td>M</td>\n",
       "      <td>22.0</td>\n",
       "      <td>1</td>\n",
       "      <td>0</td>\n",
       "      <td>7.2500</td>\n",
       "      <td>C</td>\n",
       "    </tr>\n",
       "    <tr>\n",
       "      <th>2</th>\n",
       "      <td>1</td>\n",
       "      <td>1</td>\n",
       "      <td>F</td>\n",
       "      <td>38.0</td>\n",
       "      <td>1</td>\n",
       "      <td>0</td>\n",
       "      <td>71.2833</td>\n",
       "      <td>E</td>\n",
       "    </tr>\n",
       "    <tr>\n",
       "      <th>3</th>\n",
       "      <td>1</td>\n",
       "      <td>3</td>\n",
       "      <td>F</td>\n",
       "      <td>26.0</td>\n",
       "      <td>0</td>\n",
       "      <td>0</td>\n",
       "      <td>7.9250</td>\n",
       "      <td>G</td>\n",
       "    </tr>\n",
       "    <tr>\n",
       "      <th>4</th>\n",
       "      <td>1</td>\n",
       "      <td>1</td>\n",
       "      <td>F</td>\n",
       "      <td>35.0</td>\n",
       "      <td>1</td>\n",
       "      <td>0</td>\n",
       "      <td>53.1000</td>\n",
       "      <td>C</td>\n",
       "    </tr>\n",
       "    <tr>\n",
       "      <th>5</th>\n",
       "      <td>0</td>\n",
       "      <td>3</td>\n",
       "      <td>M</td>\n",
       "      <td>35.0</td>\n",
       "      <td>0</td>\n",
       "      <td>0</td>\n",
       "      <td>8.0500</td>\n",
       "      <td>D</td>\n",
       "    </tr>\n",
       "  </tbody>\n",
       "</table>\n",
       "</div>"
      ],
      "text/plain": [
       "               sobreviveu  classe_bilhete genero  idade  \\\n",
       "id_passageiro                                             \n",
       "1                       0               3      M   22.0   \n",
       "2                       1               1      F   38.0   \n",
       "3                       1               3      F   26.0   \n",
       "4                       1               1      F   35.0   \n",
       "5                       0               3      M   35.0   \n",
       "\n",
       "               irmaos_conjuges_abordo  pais_filhos_abordo  preco_bilhete  \\\n",
       "id_passageiro                                                              \n",
       "1                                   1                   0         7.2500   \n",
       "2                                   1                   0        71.2833   \n",
       "3                                   0                   0         7.9250   \n",
       "4                                   1                   0        53.1000   \n",
       "5                                   0                   0         8.0500   \n",
       "\n",
       "              conves  \n",
       "id_passageiro         \n",
       "1                  C  \n",
       "2                  E  \n",
       "3                  G  \n",
       "4                  C  \n",
       "5                  D  "
      ]
     },
     "execution_count": 83,
     "metadata": {},
     "output_type": "execute_result"
    }
   ],
   "source": [
    "df['sobreviveu'] = df['sobreviveu'].replace([False, True], [0, 1])\n",
    "df.head()"
   ]
  },
  {
   "cell_type": "markdown",
   "metadata": {},
   "source": [
    "Codificando os dados de genero."
   ]
  },
  {
   "cell_type": "code",
   "execution_count": 84,
   "metadata": {},
   "outputs": [
    {
     "data": {
      "text/html": [
       "<div>\n",
       "<style scoped>\n",
       "    .dataframe tbody tr th:only-of-type {\n",
       "        vertical-align: middle;\n",
       "    }\n",
       "\n",
       "    .dataframe tbody tr th {\n",
       "        vertical-align: top;\n",
       "    }\n",
       "\n",
       "    .dataframe thead th {\n",
       "        text-align: right;\n",
       "    }\n",
       "</style>\n",
       "<table border=\"1\" class=\"dataframe\">\n",
       "  <thead>\n",
       "    <tr style=\"text-align: right;\">\n",
       "      <th></th>\n",
       "      <th>sobreviveu</th>\n",
       "      <th>classe_bilhete</th>\n",
       "      <th>genero</th>\n",
       "      <th>idade</th>\n",
       "      <th>irmaos_conjuges_abordo</th>\n",
       "      <th>pais_filhos_abordo</th>\n",
       "      <th>preco_bilhete</th>\n",
       "      <th>conves</th>\n",
       "    </tr>\n",
       "    <tr>\n",
       "      <th>id_passageiro</th>\n",
       "      <th></th>\n",
       "      <th></th>\n",
       "      <th></th>\n",
       "      <th></th>\n",
       "      <th></th>\n",
       "      <th></th>\n",
       "      <th></th>\n",
       "      <th></th>\n",
       "    </tr>\n",
       "  </thead>\n",
       "  <tbody>\n",
       "    <tr>\n",
       "      <th>1</th>\n",
       "      <td>0</td>\n",
       "      <td>3</td>\n",
       "      <td>0</td>\n",
       "      <td>22.0</td>\n",
       "      <td>1</td>\n",
       "      <td>0</td>\n",
       "      <td>7.2500</td>\n",
       "      <td>C</td>\n",
       "    </tr>\n",
       "    <tr>\n",
       "      <th>2</th>\n",
       "      <td>1</td>\n",
       "      <td>1</td>\n",
       "      <td>1</td>\n",
       "      <td>38.0</td>\n",
       "      <td>1</td>\n",
       "      <td>0</td>\n",
       "      <td>71.2833</td>\n",
       "      <td>E</td>\n",
       "    </tr>\n",
       "    <tr>\n",
       "      <th>3</th>\n",
       "      <td>1</td>\n",
       "      <td>3</td>\n",
       "      <td>1</td>\n",
       "      <td>26.0</td>\n",
       "      <td>0</td>\n",
       "      <td>0</td>\n",
       "      <td>7.9250</td>\n",
       "      <td>G</td>\n",
       "    </tr>\n",
       "    <tr>\n",
       "      <th>4</th>\n",
       "      <td>1</td>\n",
       "      <td>1</td>\n",
       "      <td>1</td>\n",
       "      <td>35.0</td>\n",
       "      <td>1</td>\n",
       "      <td>0</td>\n",
       "      <td>53.1000</td>\n",
       "      <td>C</td>\n",
       "    </tr>\n",
       "    <tr>\n",
       "      <th>5</th>\n",
       "      <td>0</td>\n",
       "      <td>3</td>\n",
       "      <td>0</td>\n",
       "      <td>35.0</td>\n",
       "      <td>0</td>\n",
       "      <td>0</td>\n",
       "      <td>8.0500</td>\n",
       "      <td>D</td>\n",
       "    </tr>\n",
       "  </tbody>\n",
       "</table>\n",
       "</div>"
      ],
      "text/plain": [
       "               sobreviveu  classe_bilhete  genero  idade  \\\n",
       "id_passageiro                                              \n",
       "1                       0               3       0   22.0   \n",
       "2                       1               1       1   38.0   \n",
       "3                       1               3       1   26.0   \n",
       "4                       1               1       1   35.0   \n",
       "5                       0               3       0   35.0   \n",
       "\n",
       "               irmaos_conjuges_abordo  pais_filhos_abordo  preco_bilhete  \\\n",
       "id_passageiro                                                              \n",
       "1                                   1                   0         7.2500   \n",
       "2                                   1                   0        71.2833   \n",
       "3                                   0                   0         7.9250   \n",
       "4                                   1                   0        53.1000   \n",
       "5                                   0                   0         8.0500   \n",
       "\n",
       "              conves  \n",
       "id_passageiro         \n",
       "1                  C  \n",
       "2                  E  \n",
       "3                  G  \n",
       "4                  C  \n",
       "5                  D  "
      ]
     },
     "execution_count": 84,
     "metadata": {},
     "output_type": "execute_result"
    }
   ],
   "source": [
    "df['genero'] = df['genero'].replace(['M', 'F'], [0, 1])\n",
    "df.head()"
   ]
  },
  {
   "cell_type": "markdown",
   "metadata": {},
   "source": [
    "Coletando os dados não repetidos de conves."
   ]
  },
  {
   "cell_type": "code",
   "execution_count": null,
   "metadata": {},
   "outputs": [],
   "source": [
    "conves = df[\"conves\"].unique()\n",
    "conves = sorted(conves)\n",
    "conves"
   ]
  },
  {
   "cell_type": "markdown",
   "metadata": {},
   "source": [
    "Codificação dos dados da coluna conves."
   ]
  },
  {
   "cell_type": "code",
   "execution_count": 123,
   "metadata": {},
   "outputs": [
    {
     "data": {
      "text/html": [
       "<div>\n",
       "<style scoped>\n",
       "    .dataframe tbody tr th:only-of-type {\n",
       "        vertical-align: middle;\n",
       "    }\n",
       "\n",
       "    .dataframe tbody tr th {\n",
       "        vertical-align: top;\n",
       "    }\n",
       "\n",
       "    .dataframe thead th {\n",
       "        text-align: right;\n",
       "    }\n",
       "</style>\n",
       "<table border=\"1\" class=\"dataframe\">\n",
       "  <thead>\n",
       "    <tr style=\"text-align: right;\">\n",
       "      <th></th>\n",
       "      <th>sobreviveu</th>\n",
       "      <th>classe_bilhete</th>\n",
       "      <th>genero</th>\n",
       "      <th>idade</th>\n",
       "      <th>irmaos_conjuges_abordo</th>\n",
       "      <th>pais_filhos_abordo</th>\n",
       "      <th>preco_bilhete</th>\n",
       "      <th>conves</th>\n",
       "    </tr>\n",
       "    <tr>\n",
       "      <th>id_passageiro</th>\n",
       "      <th></th>\n",
       "      <th></th>\n",
       "      <th></th>\n",
       "      <th></th>\n",
       "      <th></th>\n",
       "      <th></th>\n",
       "      <th></th>\n",
       "      <th></th>\n",
       "    </tr>\n",
       "  </thead>\n",
       "  <tbody>\n",
       "    <tr>\n",
       "      <th>1</th>\n",
       "      <td>0</td>\n",
       "      <td>3</td>\n",
       "      <td>0</td>\n",
       "      <td>22.0</td>\n",
       "      <td>1</td>\n",
       "      <td>0</td>\n",
       "      <td>7.2500</td>\n",
       "      <td>2.0</td>\n",
       "    </tr>\n",
       "    <tr>\n",
       "      <th>2</th>\n",
       "      <td>1</td>\n",
       "      <td>1</td>\n",
       "      <td>1</td>\n",
       "      <td>38.0</td>\n",
       "      <td>1</td>\n",
       "      <td>0</td>\n",
       "      <td>71.2833</td>\n",
       "      <td>4.0</td>\n",
       "    </tr>\n",
       "    <tr>\n",
       "      <th>3</th>\n",
       "      <td>1</td>\n",
       "      <td>3</td>\n",
       "      <td>1</td>\n",
       "      <td>26.0</td>\n",
       "      <td>0</td>\n",
       "      <td>0</td>\n",
       "      <td>7.9250</td>\n",
       "      <td>6.0</td>\n",
       "    </tr>\n",
       "    <tr>\n",
       "      <th>4</th>\n",
       "      <td>1</td>\n",
       "      <td>1</td>\n",
       "      <td>1</td>\n",
       "      <td>35.0</td>\n",
       "      <td>1</td>\n",
       "      <td>0</td>\n",
       "      <td>53.1000</td>\n",
       "      <td>2.0</td>\n",
       "    </tr>\n",
       "    <tr>\n",
       "      <th>5</th>\n",
       "      <td>0</td>\n",
       "      <td>3</td>\n",
       "      <td>0</td>\n",
       "      <td>35.0</td>\n",
       "      <td>0</td>\n",
       "      <td>0</td>\n",
       "      <td>8.0500</td>\n",
       "      <td>3.0</td>\n",
       "    </tr>\n",
       "  </tbody>\n",
       "</table>\n",
       "</div>"
      ],
      "text/plain": [
       "               sobreviveu  classe_bilhete  genero  idade  \\\n",
       "id_passageiro                                              \n",
       "1                       0               3       0   22.0   \n",
       "2                       1               1       1   38.0   \n",
       "3                       1               3       1   26.0   \n",
       "4                       1               1       1   35.0   \n",
       "5                       0               3       0   35.0   \n",
       "\n",
       "               irmaos_conjuges_abordo  pais_filhos_abordo  preco_bilhete  \\\n",
       "id_passageiro                                                              \n",
       "1                                   1                   0         7.2500   \n",
       "2                                   1                   0        71.2833   \n",
       "3                                   0                   0         7.9250   \n",
       "4                                   1                   0        53.1000   \n",
       "5                                   0                   0         8.0500   \n",
       "\n",
       "               conves  \n",
       "id_passageiro          \n",
       "1                 2.0  \n",
       "2                 4.0  \n",
       "3                 6.0  \n",
       "4                 2.0  \n",
       "5                 3.0  "
      ]
     },
     "execution_count": 123,
     "metadata": {},
     "output_type": "execute_result"
    }
   ],
   "source": [
    "df['conves'] = df['conves'].replace(['A', 'B', 'C', 'D', 'E', 'F', 'G', 'T'], [0, 1, 2, 3, 4, 5, 6, 7])\n",
    "df.head()"
   ]
  },
  {
   "cell_type": "markdown",
   "metadata": {},
   "source": [
    "Tratamento dos dados faltantes na coluna conves, usando imputação por mediana."
   ]
  },
  {
   "cell_type": "code",
   "execution_count": 124,
   "metadata": {},
   "outputs": [
    {
     "data": {
      "text/html": [
       "<div>\n",
       "<style scoped>\n",
       "    .dataframe tbody tr th:only-of-type {\n",
       "        vertical-align: middle;\n",
       "    }\n",
       "\n",
       "    .dataframe tbody tr th {\n",
       "        vertical-align: top;\n",
       "    }\n",
       "\n",
       "    .dataframe thead th {\n",
       "        text-align: right;\n",
       "    }\n",
       "</style>\n",
       "<table border=\"1\" class=\"dataframe\">\n",
       "  <thead>\n",
       "    <tr style=\"text-align: right;\">\n",
       "      <th></th>\n",
       "      <th>sobreviveu</th>\n",
       "      <th>classe_bilhete</th>\n",
       "      <th>genero</th>\n",
       "      <th>idade</th>\n",
       "      <th>irmaos_conjuges_abordo</th>\n",
       "      <th>pais_filhos_abordo</th>\n",
       "      <th>preco_bilhete</th>\n",
       "      <th>conves</th>\n",
       "    </tr>\n",
       "    <tr>\n",
       "      <th>id_passageiro</th>\n",
       "      <th></th>\n",
       "      <th></th>\n",
       "      <th></th>\n",
       "      <th></th>\n",
       "      <th></th>\n",
       "      <th></th>\n",
       "      <th></th>\n",
       "      <th></th>\n",
       "    </tr>\n",
       "  </thead>\n",
       "  <tbody>\n",
       "  </tbody>\n",
       "</table>\n",
       "</div>"
      ],
      "text/plain": [
       "Empty DataFrame\n",
       "Columns: [sobreviveu, classe_bilhete, genero, idade, irmaos_conjuges_abordo, pais_filhos_abordo, preco_bilhete, conves]\n",
       "Index: []"
      ]
     },
     "execution_count": 124,
     "metadata": {},
     "output_type": "execute_result"
    }
   ],
   "source": [
    "df['conves'] = df['conves'].fillna(df['conves'].median())\n",
    "df[df['conves'].isna()]"
   ]
  },
  {
   "cell_type": "markdown",
   "metadata": {},
   "source": [
    "Tratamento dos dados faltantes na coluna idade, usando imputação por média."
   ]
  },
  {
   "cell_type": "code",
   "execution_count": 126,
   "metadata": {},
   "outputs": [
    {
     "data": {
      "text/html": [
       "<div>\n",
       "<style scoped>\n",
       "    .dataframe tbody tr th:only-of-type {\n",
       "        vertical-align: middle;\n",
       "    }\n",
       "\n",
       "    .dataframe tbody tr th {\n",
       "        vertical-align: top;\n",
       "    }\n",
       "\n",
       "    .dataframe thead th {\n",
       "        text-align: right;\n",
       "    }\n",
       "</style>\n",
       "<table border=\"1\" class=\"dataframe\">\n",
       "  <thead>\n",
       "    <tr style=\"text-align: right;\">\n",
       "      <th></th>\n",
       "      <th>sobreviveu</th>\n",
       "      <th>classe_bilhete</th>\n",
       "      <th>genero</th>\n",
       "      <th>idade</th>\n",
       "      <th>irmaos_conjuges_abordo</th>\n",
       "      <th>pais_filhos_abordo</th>\n",
       "      <th>preco_bilhete</th>\n",
       "      <th>conves</th>\n",
       "    </tr>\n",
       "    <tr>\n",
       "      <th>id_passageiro</th>\n",
       "      <th></th>\n",
       "      <th></th>\n",
       "      <th></th>\n",
       "      <th></th>\n",
       "      <th></th>\n",
       "      <th></th>\n",
       "      <th></th>\n",
       "      <th></th>\n",
       "    </tr>\n",
       "  </thead>\n",
       "  <tbody>\n",
       "  </tbody>\n",
       "</table>\n",
       "</div>"
      ],
      "text/plain": [
       "Empty DataFrame\n",
       "Columns: [sobreviveu, classe_bilhete, genero, idade, irmaos_conjuges_abordo, pais_filhos_abordo, preco_bilhete, conves]\n",
       "Index: []"
      ]
     },
     "execution_count": 126,
     "metadata": {},
     "output_type": "execute_result"
    }
   ],
   "source": [
    "df['idade'] = df['idade'].fillna(df['idade'].mean())\n",
    "df[df['idade'].isna()]"
   ]
  },
  {
   "cell_type": "markdown",
   "metadata": {},
   "source": [
    "Tratamento de outliers."
   ]
  },
  {
   "cell_type": "code",
   "execution_count": null,
   "metadata": {},
   "outputs": [],
   "source": [
    "get_outliers(df)"
   ]
  },
  {
   "cell_type": "code",
   "execution_count": null,
   "metadata": {},
   "outputs": [],
   "source": []
  },
  {
   "cell_type": "markdown",
   "metadata": {},
   "source": [
    "Definição dos dados de entrada e saída."
   ]
  },
  {
   "cell_type": "code",
   "execution_count": null,
   "metadata": {},
   "outputs": [],
   "source": [
    "X = df\n",
    "y = df.pop(\"sobreviveu\")"
   ]
  },
  {
   "cell_type": "markdown",
   "metadata": {},
   "source": [
    "## Perguntas do Desafio  - Modelo:"
   ]
  },
  {
   "cell_type": "markdown",
   "metadata": {},
   "source": [
    "#### Quais etapas de processamento foram realizadas e o porquê de cada uma?\n",
    "- Responda de maneira superficial uma vez que você já mostrou via código o que foi feito, quais as etapas do seu dado desde que ele é carregado pelo pandas até ser fornecido ao modelo durante o treinamento."
   ]
  },
  {
   "cell_type": "code",
   "execution_count": null,
   "metadata": {},
   "outputs": [],
   "source": []
  },
  {
   "cell_type": "markdown",
   "metadata": {},
   "source": [
    "#### Dos modelos testados qual foi melhor? Porque? Apresenta as métricas do seu melhor modelo.\n",
    "- Sabendo que você testou pelo menos 2 modelos diferentes, como você definiu o que é o melhor e qual é o melhor."
   ]
  },
  {
   "cell_type": "code",
   "execution_count": null,
   "metadata": {},
   "outputs": [],
   "source": []
  },
  {
   "cell_type": "markdown",
   "metadata": {},
   "source": [
    "#### Seu  melhor modelo comete erros? Quais os pontos fracos dele?\n",
    "- Saber os pontos fracos de seu modelo é crucial durante o seu uso, tente identificar com uma matriz confusão onde o seu modelo erra e o perfil do dado que ele erra."
   ]
  },
  {
   "cell_type": "code",
   "execution_count": null,
   "metadata": {},
   "outputs": [],
   "source": []
  }
 ],
 "metadata": {
  "kernelspec": {
   "display_name": "trilhacc",
   "language": "python",
   "name": "python3"
  },
  "language_info": {
   "codemirror_mode": {
    "name": "ipython",
    "version": 3
   },
   "file_extension": ".py",
   "mimetype": "text/x-python",
   "name": "python",
   "nbconvert_exporter": "python",
   "pygments_lexer": "ipython3",
   "version": "3.11.4"
  },
  "orig_nbformat": 4
 },
 "nbformat": 4,
 "nbformat_minor": 2
}
